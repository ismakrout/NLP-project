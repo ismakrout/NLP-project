{
 "cells": [
  {
   "cell_type": "code",
   "execution_count": 49,
   "metadata": {},
   "outputs": [],
   "source": [
    "import pandas as pd\n",
    "import numpy as np\n",
    "import csv \n",
    "import matplotlib.pyplot as plt\n",
    "import spacy\n",
    "import math\n",
    "import os\n",
    "import statsmodels.api as sm\n",
    "\n",
    "from src.utils import *\n",
    "from src.data_preprocessing import *\n",
    "from src.data_processing import *\n",
    "from src.feature_selection import *\n",
    "from src.modelisation import *\n",
    "\n",
    "os.chdir('/Users/ismailakrout/Desktop/python/NLP_statapp')\n",
    "\n",
    "pd.set_option(\"display.max_columns\", None)\n"
   ]
  },
  {
   "cell_type": "code",
   "execution_count": 50,
   "metadata": {},
   "outputs": [],
   "source": [
    "# pour ne pas charger le NB avec des warnings \n",
    "import warnings \n",
    "warnings.filterwarnings('ignore')"
   ]
  },
  {
   "cell_type": "code",
   "execution_count": 51,
   "metadata": {},
   "outputs": [],
   "source": [
    "df = pd.read_csv('01. output/aux.csv')"
   ]
  },
  {
   "cell_type": "code",
   "execution_count": 52,
   "metadata": {},
   "outputs": [],
   "source": [
    "df.drop(columns=['Unnamed: 0', 'text'], inplace=True)"
   ]
  },
  {
   "cell_type": "code",
   "execution_count": 53,
   "metadata": {},
   "outputs": [],
   "source": [
    "aux = pd.melt(df, id_vars=['Speaker', 'party'])"
   ]
  },
  {
   "cell_type": "code",
   "execution_count": 54,
   "metadata": {},
   "outputs": [],
   "source": [
    "aux.sort_values(by=['variable'], inplace=True)\n",
    "aux = aux.reset_index(drop=True)"
   ]
  },
  {
   "cell_type": "code",
   "execution_count": 55,
   "metadata": {},
   "outputs": [],
   "source": [
    "lox_de_lox = aux[['Speaker', 'party', 'value']].groupby(by=['Speaker', 'party']).sum().reset_index()\n",
    "lox_de_lox.rename(columns={'value':'m_it'},inplace=True)"
   ]
  },
  {
   "cell_type": "code",
   "execution_count": 56,
   "metadata": {},
   "outputs": [],
   "source": [
    "aux = pd.merge(\n",
    "    aux,\n",
    "    lox_de_lox,\n",
    "    how='left',\n",
    "    on=['Speaker', 'party']\n",
    ")"
   ]
  },
  {
   "cell_type": "code",
   "execution_count": 57,
   "metadata": {},
   "outputs": [],
   "source": [
    "# On Calcule les termes ds le sigma \n",
    "aux['q_hat_it'] = aux['value']/aux['m_it']"
   ]
  },
  {
   "cell_type": "code",
   "execution_count": 58,
   "metadata": {},
   "outputs": [],
   "source": [
    "aux_Lab = aux.loc[aux['party'] == 'Lab']\n",
    "aux_Con = aux.loc[aux['party'] == 'Con']"
   ]
  },
  {
   "cell_type": "code",
   "execution_count": 59,
   "metadata": {},
   "outputs": [],
   "source": [
    "aux_Con['Somme_c_it'] = aux['value'].sum()\n",
    "aux_Con['Somme_c_it'] = aux_Con['Somme_c_it'] - aux_Con['value']\n",
    "lox_de_lox = aux_Con[['Speaker', 'm_it']].groupby(by=['Speaker']).sum().reset_index()\n",
    "lox_de_lox.rename(columns={'m_it':'Somme_m_it'},inplace=True)\n",
    "aux_Con = pd.merge(\n",
    "    aux_Con,\n",
    "    lox_de_lox,\n",
    "    how='left',\n",
    "    on=['Speaker']\n",
    ")\n",
    "aux_Con['Somme_m_it'] = aux_Con['Somme_m_it'] - aux_Con['value']\n",
    "aux_Con['q_hat_jt'] = aux_Con['Somme_c_it'] / aux_Con['Somme_m_it']"
   ]
  },
  {
   "cell_type": "code",
   "execution_count": 61,
   "metadata": {},
   "outputs": [],
   "source": [
    "aux_Lab['Somme_c_it'] = aux['value'].sum()\n",
    "aux_Lab['Somme_c_it'] = aux_Lab['Somme_c_it'] - aux_Lab['value']\n",
    "lox_de_lox = aux_Lab[['Speaker', 'm_it']].groupby(by=['Speaker']).sum().reset_index()\n",
    "lox_de_lox.rename(columns={'m_it':'Somme_m_it'},inplace=True)\n",
    "aux_Lab = pd.merge(\n",
    "    aux_Lab,\n",
    "    lox_de_lox,\n",
    "    how='left',\n",
    "    on=['Speaker']\n",
    ")\n",
    "aux_Lab['Somme_m_it'] = aux_Lab['Somme_m_it'] - aux_Lab['value']\n",
    "aux_Lab['q_hat_jt'] = aux_Lab['Somme_c_it'] / aux_Lab['Somme_m_it']"
   ]
  }
 ],
 "metadata": {
  "kernelspec": {
   "display_name": "Python 3.9.12 ('base')",
   "language": "python",
   "name": "python3"
  },
  "language_info": {
   "codemirror_mode": {
    "name": "ipython",
    "version": 3
   },
   "file_extension": ".py",
   "mimetype": "text/x-python",
   "name": "python",
   "nbconvert_exporter": "python",
   "pygments_lexer": "ipython3",
   "version": "3.9.12"
  },
  "orig_nbformat": 4,
  "vscode": {
   "interpreter": {
    "hash": "0704e9e7027e30b245531b4e60cb4aaf65b18a7e325eaeb71f06804e85db260f"
   }
  }
 },
 "nbformat": 4,
 "nbformat_minor": 2
}
