{
 "cells": [
  {
   "cell_type": "code",
   "execution_count": 297,
   "metadata": {},
   "outputs": [],
   "source": [
    "import pandas as pd\n",
    "import numpy as np\n",
    "import csv \n",
    "import matplotlib.pyplot as plt\n",
    "import spacy\n",
    "import math\n",
    "import os\n",
    "import statsmodels.api as sm\n",
    "\n",
    "from src.utils import *\n",
    "from src.data_preprocessing import *\n",
    "from src.data_processing import *\n",
    "from src.feature_selection import *\n",
    "from src.modelisation import *\n",
    "\n",
    "os.chdir('/Users/ismailakrout/Desktop/python/NLP_statapp')\n",
    "\n",
    "pd.set_option(\"display.max_columns\", None)\n"
   ]
  },
  {
   "cell_type": "code",
   "execution_count": 298,
   "metadata": {},
   "outputs": [],
   "source": [
    "# pour ne pas charger le NB avec des warnings \n",
    "import warnings \n",
    "warnings.filterwarnings('ignore')"
   ]
  },
  {
   "cell_type": "code",
   "execution_count": 299,
   "metadata": {},
   "outputs": [],
   "source": [
    "df = pd.read_csv('01. output/aux.csv')"
   ]
  },
  {
   "cell_type": "code",
   "execution_count": 300,
   "metadata": {},
   "outputs": [],
   "source": [
    "df.drop(columns=['Unnamed: 0', 'text'], inplace=True)"
   ]
  },
  {
   "cell_type": "code",
   "execution_count": 301,
   "metadata": {},
   "outputs": [],
   "source": [
    "aux = pd.melt(df, id_vars=['Speaker', 'party'])"
   ]
  },
  {
   "cell_type": "code",
   "execution_count": 302,
   "metadata": {},
   "outputs": [],
   "source": [
    "aux.sort_values(by=['variable'], inplace=True)\n",
    "aux = aux.reset_index(drop=True)"
   ]
  },
  {
   "cell_type": "code",
   "execution_count": 303,
   "metadata": {},
   "outputs": [],
   "source": [
    "lox_de_lox = aux[['Speaker', 'party', 'value']].groupby(by=['Speaker', 'party']).sum().reset_index()\n",
    "lox_de_lox.rename(columns={'value':'m_it'},inplace=True)"
   ]
  },
  {
   "cell_type": "code",
   "execution_count": 304,
   "metadata": {},
   "outputs": [],
   "source": [
    "aux = pd.merge(\n",
    "    aux,\n",
    "    lox_de_lox,\n",
    "    how='left',\n",
    "    on=['Speaker', 'party']\n",
    ")"
   ]
  },
  {
   "cell_type": "code",
   "execution_count": 305,
   "metadata": {},
   "outputs": [],
   "source": [
    "# On Calcule les termes ds le sigma \n",
    "aux['q_hat_it'] = aux['value']/aux['m_it']"
   ]
  },
  {
   "cell_type": "code",
   "execution_count": 306,
   "metadata": {},
   "outputs": [],
   "source": [
    "aux_Lab = aux.loc[aux['party'] == 'Lab']\n",
    "aux_Con = aux.loc[aux['party'] == 'Con']"
   ]
  },
  {
   "cell_type": "code",
   "execution_count": 307,
   "metadata": {},
   "outputs": [],
   "source": [
    "lox_de_lox = aux_Con[['variable', 'value']].groupby(by=['variable']).sum().reset_index()\n",
    "lox_de_lox.rename(columns={'value':'Somme_c_it'},inplace=True)\n",
    "aux_Con = pd.merge(\n",
    "    aux_Con,\n",
    "    lox_de_lox,\n",
    "    how='left',\n",
    "    on=['variable']\n",
    ")\n",
    "aux_Con['Somme_c_it'] = aux_Con['Somme_c_it'] - aux_Con['value']\n",
    "lox_de_lox = aux.drop_duplicates(subset=['Speaker'])\n",
    "lox_de_lox['Somme_m_it'] = lox_de_lox['m_it'].sum()\n",
    "aux_Con = pd.merge(\n",
    "    aux_Con,\n",
    "    lox_de_lox[['Speaker', 'Somme_m_it']],\n",
    "    how='left',\n",
    "    on=['Speaker']\n",
    ")\n",
    "aux_Con['Somme_m_it'] = aux_Con['Somme_m_it'] - aux_Con['m_it']\n",
    "aux_Con['q_hat_Con_-ijt'] = aux_Con['Somme_c_it'] / aux_Con['Somme_m_it']"
   ]
  },
  {
   "cell_type": "code",
   "execution_count": 308,
   "metadata": {},
   "outputs": [],
   "source": [
    "lox_de_lox = aux_Lab[['variable', 'value']].groupby(by=['variable']).sum().reset_index()\n",
    "lox_de_lox.rename(columns={'value':'Somme_c_it'},inplace=True)\n",
    "aux_Lab = pd.merge(\n",
    "    aux_Lab,\n",
    "    lox_de_lox,\n",
    "    how='left',\n",
    "    on=['variable']\n",
    ")\n",
    "aux_Lab['Somme_c_it'] = aux_Lab['Somme_c_it'] - aux_Lab['value']\n",
    "lox_de_lox = aux.drop_duplicates(subset=['Speaker'])\n",
    "lox_de_lox['Somme_m_it'] = lox_de_lox['m_it'].sum()\n",
    "aux_Lab = pd.merge(\n",
    "    aux_Lab,\n",
    "    lox_de_lox[['Speaker', 'Somme_m_it']],\n",
    "    how='left',\n",
    "    on=['Speaker']\n",
    ")\n",
    "aux_Lab['Somme_m_it'] = aux_Lab['Somme_m_it'] - aux_Lab['m_it']\n",
    "aux_Lab['q_hat_Lab_-ijt'] = aux_Lab['Somme_c_it'] / aux_Lab['Somme_m_it']"
   ]
  },
  {
   "cell_type": "code",
   "execution_count": 309,
   "metadata": {},
   "outputs": [],
   "source": [
    "aux_Lab_intial = aux_Lab.drop(columns=['q_hat_Lab_-ijt'])\n",
    "aux_Lab_intial['Somme_m_it'] = aux_Lab_intial['Somme_m_it'] + aux_Lab_intial['m_it']\n",
    "aux_Lab_intial['Somme_c_it'] = aux_Lab_intial['Somme_c_it'] + aux_Lab_intial['value']\n",
    "aux_Lab_intial['q_hat_Lab_jt'] = aux_Lab_intial['Somme_c_it'] / aux_Lab_intial['Somme_m_it']\n",
    "aux_Lab_intial = aux_Lab_intial[['variable', 'q_hat_Lab_jt']]\n",
    "aux_Lab_intial.drop_duplicates(subset=['variable'], inplace=True)"
   ]
  },
  {
   "cell_type": "code",
   "execution_count": 310,
   "metadata": {},
   "outputs": [],
   "source": [
    "# La je fais mon merge \n",
    "aux_Con = pd.merge(\n",
    "    aux_Con,\n",
    "    aux_Lab_intial,\n",
    "    how='left',\n",
    "    on=['variable']\n",
    ")\n",
    "aux_Con['rho_hat_-ijt'] = (aux_Con['q_hat_Con_-ijt']) / (aux_Con['q_hat_Con_-ijt'] + aux_Con['q_hat_Lab_jt'])\n",
    "aux_Con['produit'] = aux_Con['q_hat_it'] * aux_Con['rho_hat_-ijt']\n",
    "nb_Con = len(aux_Con['Speaker'].unique())\n",
    "res_Con = aux_Con[['variable', 'produit']].groupby(by=['variable']).sum().reset_index()\n",
    "res_Con['moitie_Con_pi'] = res_Con['produit']*(1/2)*(1/nb_Con)\n",
    "res_Con.drop(columns=['produit'], inplace=True)"
   ]
  },
  {
   "cell_type": "markdown",
   "metadata": {},
   "source": [
    "## je refais pour les Labors "
   ]
  },
  {
   "cell_type": "code",
   "execution_count": 311,
   "metadata": {},
   "outputs": [],
   "source": [
    "aux_Con_intial = aux_Con.drop(columns=['q_hat_Con_-ijt'])\n",
    "aux_Con_intial['Somme_m_it'] = aux_Con_intial['Somme_m_it'] + aux_Con_intial['m_it']\n",
    "aux_Con_intial['Somme_c_it'] = aux_Con_intial['Somme_c_it'] + aux_Con_intial['value']\n",
    "aux_Con_intial['q_hat_Con_jt'] = aux_Con_intial['Somme_c_it'] / aux_Con_intial['Somme_m_it']\n",
    "aux_Con_intial = aux_Con_intial[['variable', 'q_hat_Con_jt']]\n",
    "aux_Con_intial.drop_duplicates(subset=['variable'], inplace=True)"
   ]
  },
  {
   "cell_type": "code",
   "execution_count": 312,
   "metadata": {},
   "outputs": [],
   "source": [
    "#  La je fais mon merge \n",
    "aux_Lab = pd.merge(\n",
    "    aux_Lab,\n",
    "    aux_Lab_intial,\n",
    "    how='left',\n",
    "    on=['variable']\n",
    ")\n",
    "aux_Lab['rho_hat_-ijt'] = (aux_Lab['q_hat_Lab_-ijt']) / (aux_Lab['q_hat_Lab_-ijt'] + aux_Lab['q_hat_Lab_jt'])\n",
    "aux_Lab['produit'] = aux_Lab['q_hat_it'] * aux_Lab['rho_hat_-ijt']\n",
    "nb_Lab = len(aux_Lab['Speaker'].unique())\n",
    "res_Lab = aux_Lab[['variable', 'produit']].groupby(by=['variable']).sum().reset_index()\n",
    "res_Lab['moitie_Lab_pi'] = res_Lab['produit']*(1/2)*(1/nb_Lab)\n",
    "res_Lab.drop(columns=['produit'], inplace=True)"
   ]
  },
  {
   "cell_type": "code",
   "execution_count": 315,
   "metadata": {},
   "outputs": [],
   "source": [
    "res = pd.merge(\n",
    "    res_Con,\n",
    "    res_Lab,\n",
    "    how='left',\n",
    "    on=['variable'],\n",
    ")"
   ]
  },
  {
   "cell_type": "code",
   "execution_count": 317,
   "metadata": {},
   "outputs": [],
   "source": [
    "res['pi'] = res['moitie_Con_pi'] + res['moitie_Lab_pi']"
   ]
  },
  {
   "cell_type": "code",
   "execution_count": 318,
   "metadata": {},
   "outputs": [
    {
     "data": {
      "text/html": [
       "<div>\n",
       "<style scoped>\n",
       "    .dataframe tbody tr th:only-of-type {\n",
       "        vertical-align: middle;\n",
       "    }\n",
       "\n",
       "    .dataframe tbody tr th {\n",
       "        vertical-align: top;\n",
       "    }\n",
       "\n",
       "    .dataframe thead th {\n",
       "        text-align: right;\n",
       "    }\n",
       "</style>\n",
       "<table border=\"1\" class=\"dataframe\">\n",
       "  <thead>\n",
       "    <tr style=\"text-align: right;\">\n",
       "      <th></th>\n",
       "      <th>variable</th>\n",
       "      <th>moitie_Con_pi</th>\n",
       "      <th>moitie_Lab_pi</th>\n",
       "      <th>pi</th>\n",
       "    </tr>\n",
       "  </thead>\n",
       "  <tbody>\n",
       "    <tr>\n",
       "      <th>0</th>\n",
       "      <td>abil</td>\n",
       "      <td>0.000364</td>\n",
       "      <td>0.000237</td>\n",
       "      <td>0.000601</td>\n",
       "    </tr>\n",
       "    <tr>\n",
       "      <th>1</th>\n",
       "      <td>abl</td>\n",
       "      <td>0.002495</td>\n",
       "      <td>0.001939</td>\n",
       "      <td>0.004434</td>\n",
       "    </tr>\n",
       "    <tr>\n",
       "      <th>2</th>\n",
       "      <td>absolut</td>\n",
       "      <td>0.000720</td>\n",
       "      <td>0.000358</td>\n",
       "      <td>0.001078</td>\n",
       "    </tr>\n",
       "    <tr>\n",
       "      <th>3</th>\n",
       "      <td>accept</td>\n",
       "      <td>0.000479</td>\n",
       "      <td>0.000522</td>\n",
       "      <td>0.001001</td>\n",
       "    </tr>\n",
       "    <tr>\n",
       "      <th>4</th>\n",
       "      <td>achiev</td>\n",
       "      <td>0.000389</td>\n",
       "      <td>0.000286</td>\n",
       "      <td>0.000676</td>\n",
       "    </tr>\n",
       "    <tr>\n",
       "      <th>...</th>\n",
       "      <td>...</td>\n",
       "      <td>...</td>\n",
       "      <td>...</td>\n",
       "      <td>...</td>\n",
       "    </tr>\n",
       "    <tr>\n",
       "      <th>495</th>\n",
       "      <td>withdraw</td>\n",
       "      <td>0.000137</td>\n",
       "      <td>0.000106</td>\n",
       "      <td>0.000243</td>\n",
       "    </tr>\n",
       "    <tr>\n",
       "      <th>496</th>\n",
       "      <td>word</td>\n",
       "      <td>0.000279</td>\n",
       "      <td>0.000383</td>\n",
       "      <td>0.000662</td>\n",
       "    </tr>\n",
       "    <tr>\n",
       "      <th>497</th>\n",
       "      <td>write</td>\n",
       "      <td>0.000090</td>\n",
       "      <td>0.000091</td>\n",
       "      <td>0.000180</td>\n",
       "    </tr>\n",
       "    <tr>\n",
       "      <th>498</th>\n",
       "      <td>yes</td>\n",
       "      <td>0.000303</td>\n",
       "      <td>0.000296</td>\n",
       "      <td>0.000599</td>\n",
       "    </tr>\n",
       "    <tr>\n",
       "      <th>499</th>\n",
       "      <td>â£</td>\n",
       "      <td>0.001023</td>\n",
       "      <td>0.001113</td>\n",
       "      <td>0.002136</td>\n",
       "    </tr>\n",
       "  </tbody>\n",
       "</table>\n",
       "<p>500 rows × 4 columns</p>\n",
       "</div>"
      ],
      "text/plain": [
       "     variable  moitie_Con_pi  moitie_Lab_pi        pi\n",
       "0        abil       0.000364       0.000237  0.000601\n",
       "1         abl       0.002495       0.001939  0.004434\n",
       "2     absolut       0.000720       0.000358  0.001078\n",
       "3      accept       0.000479       0.000522  0.001001\n",
       "4      achiev       0.000389       0.000286  0.000676\n",
       "..        ...            ...            ...       ...\n",
       "495  withdraw       0.000137       0.000106  0.000243\n",
       "496      word       0.000279       0.000383  0.000662\n",
       "497     write       0.000090       0.000091  0.000180\n",
       "498       yes       0.000303       0.000296  0.000599\n",
       "499        â£       0.001023       0.001113  0.002136\n",
       "\n",
       "[500 rows x 4 columns]"
      ]
     },
     "execution_count": 318,
     "metadata": {},
     "output_type": "execute_result"
    }
   ],
   "source": [
    "res"
   ]
  }
 ],
 "metadata": {
  "kernelspec": {
   "display_name": "Python 3.9.12 ('base')",
   "language": "python",
   "name": "python3"
  },
  "language_info": {
   "codemirror_mode": {
    "name": "ipython",
    "version": 3
   },
   "file_extension": ".py",
   "mimetype": "text/x-python",
   "name": "python",
   "nbconvert_exporter": "python",
   "pygments_lexer": "ipython3",
   "version": "3.9.12"
  },
  "orig_nbformat": 4,
  "vscode": {
   "interpreter": {
    "hash": "0704e9e7027e30b245531b4e60cb4aaf65b18a7e325eaeb71f06804e85db260f"
   }
  }
 },
 "nbformat": 4,
 "nbformat_minor": 2
}
