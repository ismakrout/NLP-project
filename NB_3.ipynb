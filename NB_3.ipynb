{
 "cells": [
  {
   "cell_type": "markdown",
   "metadata": {},
   "source": [
    "# étude de l'article 2"
   ]
  },
  {
   "cell_type": "code",
   "execution_count": 10,
   "metadata": {},
   "outputs": [],
   "source": [
    "import pandas as pd\n",
    "import numpy as np\n",
    "import csv \n",
    "import matplotlib.pyplot as plt\n",
    "import spacy\n",
    "import math\n",
    "import os\n",
    "import statsmodels.api as sm\n",
    "\n",
    "from src.utils import *\n",
    "from src.data_preprocessing import *\n",
    "from src.data_processing import *\n",
    "from src.feature_selection import *\n",
    "from src.modelisation_arcticle_1 import *\n",
    "from src.modelisation_arcticle_2 import *\n",
    "\n",
    "os.chdir('/Users/ismailakrout/Desktop/python/NLP_statapp')\n",
    "\n",
    "pd.set_option(\"display.max_columns\", None)\n"
   ]
  },
  {
   "cell_type": "code",
   "execution_count": 11,
   "metadata": {},
   "outputs": [],
   "source": [
    "# pour ne pas charger le NB avec des warnings \n",
    "import warnings \n",
    "warnings.filterwarnings('ignore')"
   ]
  },
  {
   "cell_type": "code",
   "execution_count": 12,
   "metadata": {},
   "outputs": [],
   "source": [
    "df_modelisation = read_and_prepare_df_of_the_model('01. output/df_freqs_speaker_word.csv')"
   ]
  },
  {
   "cell_type": "code",
   "execution_count": 13,
   "metadata": {},
   "outputs": [],
   "source": [
    "df_modelisation['m_it'] = df_modelisation.groupby(by=['Speaker', 'party'])['value'].transform('sum')"
   ]
  },
  {
   "cell_type": "code",
   "execution_count": 14,
   "metadata": {},
   "outputs": [],
   "source": [
    "# On Calcule les termes ds le sigma \n",
    "df_modelisation['q_hat_it'] = df_modelisation['value']/df_modelisation['m_it']"
   ]
  },
  {
   "cell_type": "code",
   "execution_count": 15,
   "metadata": {},
   "outputs": [],
   "source": [
    "df_modelisation_Lab = df_modelisation.loc[df_modelisation['party'] == 'Lab']\n",
    "df_modelisation_Con = df_modelisation.loc[df_modelisation['party'] == 'Con']"
   ]
  },
  {
   "cell_type": "markdown",
   "metadata": {},
   "source": [
    "## plug-in estimator (biased)"
   ]
  },
  {
   "cell_type": "code",
   "execution_count": 16,
   "metadata": {},
   "outputs": [],
   "source": [
    "# je suis pas du tt sur je crosi c'est faux\n",
    "df_modelisation_Lab_plugin = plugin_estimator(df_modelisation_Lab)\n",
    "df_modelisation_Con_plugin = plugin_estimator(df_modelisation_Con)"
   ]
  },
  {
   "cell_type": "code",
   "execution_count": 17,
   "metadata": {},
   "outputs": [
    {
     "data": {
      "text/html": [
       "<div>\n",
       "<style scoped>\n",
       "    .dataframe tbody tr th:only-of-type {\n",
       "        vertical-align: middle;\n",
       "    }\n",
       "\n",
       "    .dataframe tbody tr th {\n",
       "        vertical-align: top;\n",
       "    }\n",
       "\n",
       "    .dataframe thead th {\n",
       "        text-align: right;\n",
       "    }\n",
       "</style>\n",
       "<table border=\"1\" class=\"dataframe\">\n",
       "  <thead>\n",
       "    <tr style=\"text-align: right;\">\n",
       "      <th></th>\n",
       "      <th>Speaker</th>\n",
       "      <th>party</th>\n",
       "      <th>variable</th>\n",
       "      <th>value</th>\n",
       "      <th>m_it</th>\n",
       "      <th>q_hat_it</th>\n",
       "      <th>Somme_m_it</th>\n",
       "      <th>Somme_c_it</th>\n",
       "      <th>q_hat_Lab_jt</th>\n",
       "    </tr>\n",
       "  </thead>\n",
       "  <tbody>\n",
       "    <tr>\n",
       "      <th>2</th>\n",
       "      <td>George Hollingbery</td>\n",
       "      <td>Con</td>\n",
       "      <td>abil</td>\n",
       "      <td>3</td>\n",
       "      <td>1948</td>\n",
       "      <td>0.001540</td>\n",
       "      <td>974000</td>\n",
       "      <td>1948</td>\n",
       "      <td>0.002</td>\n",
       "    </tr>\n",
       "    <tr>\n",
       "      <th>3</th>\n",
       "      <td>George Freeman</td>\n",
       "      <td>Con</td>\n",
       "      <td>abil</td>\n",
       "      <td>12</td>\n",
       "      <td>3886</td>\n",
       "      <td>0.003088</td>\n",
       "      <td>1943000</td>\n",
       "      <td>3886</td>\n",
       "      <td>0.002</td>\n",
       "    </tr>\n",
       "    <tr>\n",
       "      <th>4</th>\n",
       "      <td>George Eustice</td>\n",
       "      <td>Con</td>\n",
       "      <td>abil</td>\n",
       "      <td>13</td>\n",
       "      <td>9312</td>\n",
       "      <td>0.001396</td>\n",
       "      <td>4656000</td>\n",
       "      <td>9312</td>\n",
       "      <td>0.002</td>\n",
       "    </tr>\n",
       "    <tr>\n",
       "      <th>6</th>\n",
       "      <td>Geoffrey Cox</td>\n",
       "      <td>Con</td>\n",
       "      <td>abil</td>\n",
       "      <td>0</td>\n",
       "      <td>155</td>\n",
       "      <td>0.000000</td>\n",
       "      <td>77500</td>\n",
       "      <td>155</td>\n",
       "      <td>0.002</td>\n",
       "    </tr>\n",
       "    <tr>\n",
       "      <th>7</th>\n",
       "      <td>Geoffrey Clifton-Brown</td>\n",
       "      <td>Con</td>\n",
       "      <td>abil</td>\n",
       "      <td>5</td>\n",
       "      <td>3940</td>\n",
       "      <td>0.001269</td>\n",
       "      <td>1970000</td>\n",
       "      <td>3940</td>\n",
       "      <td>0.002</td>\n",
       "    </tr>\n",
       "    <tr>\n",
       "      <th>...</th>\n",
       "      <td>...</td>\n",
       "      <td>...</td>\n",
       "      <td>...</td>\n",
       "      <td>...</td>\n",
       "      <td>...</td>\n",
       "      <td>...</td>\n",
       "      <td>...</td>\n",
       "      <td>...</td>\n",
       "      <td>...</td>\n",
       "    </tr>\n",
       "    <tr>\n",
       "      <th>434987</th>\n",
       "      <td>Mary Robinson</td>\n",
       "      <td>Con</td>\n",
       "      <td>â£</td>\n",
       "      <td>10</td>\n",
       "      <td>1211</td>\n",
       "      <td>0.008258</td>\n",
       "      <td>605500</td>\n",
       "      <td>1211</td>\n",
       "      <td>0.002</td>\n",
       "    </tr>\n",
       "    <tr>\n",
       "      <th>434988</th>\n",
       "      <td>Mary Macleod</td>\n",
       "      <td>Con</td>\n",
       "      <td>â£</td>\n",
       "      <td>2</td>\n",
       "      <td>648</td>\n",
       "      <td>0.003086</td>\n",
       "      <td>324000</td>\n",
       "      <td>648</td>\n",
       "      <td>0.002</td>\n",
       "    </tr>\n",
       "    <tr>\n",
       "      <th>434992</th>\n",
       "      <td>Martin Vickers</td>\n",
       "      <td>Con</td>\n",
       "      <td>â£</td>\n",
       "      <td>3</td>\n",
       "      <td>3692</td>\n",
       "      <td>0.000813</td>\n",
       "      <td>1846000</td>\n",
       "      <td>3692</td>\n",
       "      <td>0.002</td>\n",
       "    </tr>\n",
       "    <tr>\n",
       "      <th>434998</th>\n",
       "      <td>Matt Hancock</td>\n",
       "      <td>Con</td>\n",
       "      <td>â£</td>\n",
       "      <td>40</td>\n",
       "      <td>15426</td>\n",
       "      <td>0.002593</td>\n",
       "      <td>7713000</td>\n",
       "      <td>15426</td>\n",
       "      <td>0.002</td>\n",
       "    </tr>\n",
       "    <tr>\n",
       "      <th>434999</th>\n",
       "      <td>Zac Goldsmith</td>\n",
       "      <td>Con</td>\n",
       "      <td>â£</td>\n",
       "      <td>12</td>\n",
       "      <td>2893</td>\n",
       "      <td>0.004148</td>\n",
       "      <td>1446500</td>\n",
       "      <td>2893</td>\n",
       "      <td>0.002</td>\n",
       "    </tr>\n",
       "  </tbody>\n",
       "</table>\n",
       "<p>215000 rows × 9 columns</p>\n",
       "</div>"
      ],
      "text/plain": [
       "                       Speaker party variable  value   m_it  q_hat_it  \\\n",
       "2           George Hollingbery   Con     abil      3   1948  0.001540   \n",
       "3               George Freeman   Con     abil     12   3886  0.003088   \n",
       "4               George Eustice   Con     abil     13   9312  0.001396   \n",
       "6                 Geoffrey Cox   Con     abil      0    155  0.000000   \n",
       "7       Geoffrey Clifton-Brown   Con     abil      5   3940  0.001269   \n",
       "...                        ...   ...      ...    ...    ...       ...   \n",
       "434987           Mary Robinson   Con       â£     10   1211  0.008258   \n",
       "434988            Mary Macleod   Con       â£      2    648  0.003086   \n",
       "434992          Martin Vickers   Con       â£      3   3692  0.000813   \n",
       "434998            Matt Hancock   Con       â£     40  15426  0.002593   \n",
       "434999           Zac Goldsmith   Con       â£     12   2893  0.004148   \n",
       "\n",
       "        Somme_m_it  Somme_c_it  q_hat_Lab_jt  \n",
       "2           974000        1948         0.002  \n",
       "3          1943000        3886         0.002  \n",
       "4          4656000        9312         0.002  \n",
       "6            77500         155         0.002  \n",
       "7          1970000        3940         0.002  \n",
       "...            ...         ...           ...  \n",
       "434987      605500        1211         0.002  \n",
       "434988      324000         648         0.002  \n",
       "434992     1846000        3692         0.002  \n",
       "434998     7713000       15426         0.002  \n",
       "434999     1446500        2893         0.002  \n",
       "\n",
       "[215000 rows x 9 columns]"
      ]
     },
     "execution_count": 17,
     "metadata": {},
     "output_type": "execute_result"
    }
   ],
   "source": [
    "df_modelisation_Con"
   ]
  },
  {
   "cell_type": "markdown",
   "metadata": {},
   "source": [
    "## leave-out estimator (not biased)"
   ]
  },
  {
   "cell_type": "code",
   "execution_count": 8,
   "metadata": {},
   "outputs": [],
   "source": [
    "lox_de_lox = df_modelisation_Con[['variable', 'value']].groupby(by=['variable']).sum().reset_index()\n",
    "lox_de_lox.rename(columns={'value':'Somme_c_it'},inplace=True)\n",
    "df_modelisation_Con = pd.merge(\n",
    "    df_modelisation_Con,\n",
    "    lox_de_lox,\n",
    "    how='left',\n",
    "    on=['variable']\n",
    ")"
   ]
  },
  {
   "cell_type": "code",
   "execution_count": 9,
   "metadata": {},
   "outputs": [
    {
     "data": {
      "text/html": [
       "<div>\n",
       "<style scoped>\n",
       "    .dataframe tbody tr th:only-of-type {\n",
       "        vertical-align: middle;\n",
       "    }\n",
       "\n",
       "    .dataframe tbody tr th {\n",
       "        vertical-align: top;\n",
       "    }\n",
       "\n",
       "    .dataframe thead th {\n",
       "        text-align: right;\n",
       "    }\n",
       "</style>\n",
       "<table border=\"1\" class=\"dataframe\">\n",
       "  <thead>\n",
       "    <tr style=\"text-align: right;\">\n",
       "      <th></th>\n",
       "      <th>Speaker</th>\n",
       "      <th>party</th>\n",
       "      <th>variable</th>\n",
       "      <th>value</th>\n",
       "      <th>m_it</th>\n",
       "      <th>q_hat_it</th>\n",
       "      <th>Somme_m_it</th>\n",
       "      <th>Somme_c_it_x</th>\n",
       "      <th>q_hat_Lab_jt</th>\n",
       "      <th>Somme_c_it_y</th>\n",
       "    </tr>\n",
       "  </thead>\n",
       "  <tbody>\n",
       "    <tr>\n",
       "      <th>0</th>\n",
       "      <td>George Hollingbery</td>\n",
       "      <td>Con</td>\n",
       "      <td>abil</td>\n",
       "      <td>3</td>\n",
       "      <td>1948</td>\n",
       "      <td>0.001540</td>\n",
       "      <td>974000</td>\n",
       "      <td>1948</td>\n",
       "      <td>0.002</td>\n",
       "      <td>1921</td>\n",
       "    </tr>\n",
       "    <tr>\n",
       "      <th>1</th>\n",
       "      <td>George Freeman</td>\n",
       "      <td>Con</td>\n",
       "      <td>abil</td>\n",
       "      <td>12</td>\n",
       "      <td>3886</td>\n",
       "      <td>0.003088</td>\n",
       "      <td>1943000</td>\n",
       "      <td>3886</td>\n",
       "      <td>0.002</td>\n",
       "      <td>1921</td>\n",
       "    </tr>\n",
       "    <tr>\n",
       "      <th>2</th>\n",
       "      <td>George Eustice</td>\n",
       "      <td>Con</td>\n",
       "      <td>abil</td>\n",
       "      <td>13</td>\n",
       "      <td>9312</td>\n",
       "      <td>0.001396</td>\n",
       "      <td>4656000</td>\n",
       "      <td>9312</td>\n",
       "      <td>0.002</td>\n",
       "      <td>1921</td>\n",
       "    </tr>\n",
       "    <tr>\n",
       "      <th>3</th>\n",
       "      <td>Geoffrey Cox</td>\n",
       "      <td>Con</td>\n",
       "      <td>abil</td>\n",
       "      <td>0</td>\n",
       "      <td>155</td>\n",
       "      <td>0.000000</td>\n",
       "      <td>77500</td>\n",
       "      <td>155</td>\n",
       "      <td>0.002</td>\n",
       "      <td>1921</td>\n",
       "    </tr>\n",
       "    <tr>\n",
       "      <th>4</th>\n",
       "      <td>Geoffrey Clifton-Brown</td>\n",
       "      <td>Con</td>\n",
       "      <td>abil</td>\n",
       "      <td>5</td>\n",
       "      <td>3940</td>\n",
       "      <td>0.001269</td>\n",
       "      <td>1970000</td>\n",
       "      <td>3940</td>\n",
       "      <td>0.002</td>\n",
       "      <td>1921</td>\n",
       "    </tr>\n",
       "    <tr>\n",
       "      <th>...</th>\n",
       "      <td>...</td>\n",
       "      <td>...</td>\n",
       "      <td>...</td>\n",
       "      <td>...</td>\n",
       "      <td>...</td>\n",
       "      <td>...</td>\n",
       "      <td>...</td>\n",
       "      <td>...</td>\n",
       "      <td>...</td>\n",
       "      <td>...</td>\n",
       "    </tr>\n",
       "    <tr>\n",
       "      <th>214995</th>\n",
       "      <td>Mary Robinson</td>\n",
       "      <td>Con</td>\n",
       "      <td>â£</td>\n",
       "      <td>10</td>\n",
       "      <td>1211</td>\n",
       "      <td>0.008258</td>\n",
       "      <td>605500</td>\n",
       "      <td>1211</td>\n",
       "      <td>0.002</td>\n",
       "      <td>5831</td>\n",
       "    </tr>\n",
       "    <tr>\n",
       "      <th>214996</th>\n",
       "      <td>Mary Macleod</td>\n",
       "      <td>Con</td>\n",
       "      <td>â£</td>\n",
       "      <td>2</td>\n",
       "      <td>648</td>\n",
       "      <td>0.003086</td>\n",
       "      <td>324000</td>\n",
       "      <td>648</td>\n",
       "      <td>0.002</td>\n",
       "      <td>5831</td>\n",
       "    </tr>\n",
       "    <tr>\n",
       "      <th>214997</th>\n",
       "      <td>Martin Vickers</td>\n",
       "      <td>Con</td>\n",
       "      <td>â£</td>\n",
       "      <td>3</td>\n",
       "      <td>3692</td>\n",
       "      <td>0.000813</td>\n",
       "      <td>1846000</td>\n",
       "      <td>3692</td>\n",
       "      <td>0.002</td>\n",
       "      <td>5831</td>\n",
       "    </tr>\n",
       "    <tr>\n",
       "      <th>214998</th>\n",
       "      <td>Matt Hancock</td>\n",
       "      <td>Con</td>\n",
       "      <td>â£</td>\n",
       "      <td>40</td>\n",
       "      <td>15426</td>\n",
       "      <td>0.002593</td>\n",
       "      <td>7713000</td>\n",
       "      <td>15426</td>\n",
       "      <td>0.002</td>\n",
       "      <td>5831</td>\n",
       "    </tr>\n",
       "    <tr>\n",
       "      <th>214999</th>\n",
       "      <td>Zac Goldsmith</td>\n",
       "      <td>Con</td>\n",
       "      <td>â£</td>\n",
       "      <td>12</td>\n",
       "      <td>2893</td>\n",
       "      <td>0.004148</td>\n",
       "      <td>1446500</td>\n",
       "      <td>2893</td>\n",
       "      <td>0.002</td>\n",
       "      <td>5831</td>\n",
       "    </tr>\n",
       "  </tbody>\n",
       "</table>\n",
       "<p>215000 rows × 10 columns</p>\n",
       "</div>"
      ],
      "text/plain": [
       "                       Speaker party variable  value   m_it  q_hat_it  \\\n",
       "0           George Hollingbery   Con     abil      3   1948  0.001540   \n",
       "1               George Freeman   Con     abil     12   3886  0.003088   \n",
       "2               George Eustice   Con     abil     13   9312  0.001396   \n",
       "3                 Geoffrey Cox   Con     abil      0    155  0.000000   \n",
       "4       Geoffrey Clifton-Brown   Con     abil      5   3940  0.001269   \n",
       "...                        ...   ...      ...    ...    ...       ...   \n",
       "214995           Mary Robinson   Con       â£     10   1211  0.008258   \n",
       "214996            Mary Macleod   Con       â£      2    648  0.003086   \n",
       "214997          Martin Vickers   Con       â£      3   3692  0.000813   \n",
       "214998            Matt Hancock   Con       â£     40  15426  0.002593   \n",
       "214999           Zac Goldsmith   Con       â£     12   2893  0.004148   \n",
       "\n",
       "        Somme_m_it  Somme_c_it_x  q_hat_Lab_jt  Somme_c_it_y  \n",
       "0           974000          1948         0.002          1921  \n",
       "1          1943000          3886         0.002          1921  \n",
       "2          4656000          9312         0.002          1921  \n",
       "3            77500           155         0.002          1921  \n",
       "4          1970000          3940         0.002          1921  \n",
       "...            ...           ...           ...           ...  \n",
       "214995      605500          1211         0.002          5831  \n",
       "214996      324000           648         0.002          5831  \n",
       "214997     1846000          3692         0.002          5831  \n",
       "214998     7713000         15426         0.002          5831  \n",
       "214999     1446500          2893         0.002          5831  \n",
       "\n",
       "[215000 rows x 10 columns]"
      ]
     },
     "execution_count": 9,
     "metadata": {},
     "output_type": "execute_result"
    }
   ],
   "source": [
    "df_modelisation_Con"
   ]
  },
  {
   "cell_type": "code",
   "execution_count": 12,
   "metadata": {},
   "outputs": [],
   "source": [
    "lox_de_lox = df_modelisation_Con[['variable', 'value']].groupby(by=['variable']).sum().reset_index()\n",
    "lox_de_lox.rename(columns={'value':'Somme_c_it'},inplace=True)\n",
    "df_modelisation_Con = pd.merge(\n",
    "    df_modelisation_Con,\n",
    "    lox_de_lox,\n",
    "    how='left',\n",
    "    on=['variable']\n",
    ")\n",
    "df_modelisation_Con['Somme_c_it'] = df_modelisation_Con['Somme_c_it'] - df_modelisation_Con['value']\n",
    "lox_de_lox = df_modelisation.drop_duplicates(subset=['Speaker'])\n",
    "lox_de_lox['Somme_m_it'] = lox_de_lox['m_it'].sum()\n",
    "df_modelisation_Con = pd.merge(\n",
    "    df_modelisation_Con,\n",
    "    lox_de_lox[['Speaker', 'Somme_m_it']],\n",
    "    how='left',\n",
    "    on=['Speaker']\n",
    ")\n",
    "df_modelisation_Con['Somme_m_it'] = df_modelisation_Con['Somme_m_it'] - df_modelisation_Con['m_it']\n",
    "df_modelisation_Con['q_hat_Con_-ijt'] = df_modelisation_Con['Somme_c_it'] / df_modelisation_Con['Somme_m_it']"
   ]
  },
  {
   "cell_type": "code",
   "execution_count": 13,
   "metadata": {},
   "outputs": [
    {
     "data": {
      "text/html": [
       "<div>\n",
       "<style scoped>\n",
       "    .dataframe tbody tr th:only-of-type {\n",
       "        vertical-align: middle;\n",
       "    }\n",
       "\n",
       "    .dataframe tbody tr th {\n",
       "        vertical-align: top;\n",
       "    }\n",
       "\n",
       "    .dataframe thead th {\n",
       "        text-align: right;\n",
       "    }\n",
       "</style>\n",
       "<table border=\"1\" class=\"dataframe\">\n",
       "  <thead>\n",
       "    <tr style=\"text-align: right;\">\n",
       "      <th></th>\n",
       "      <th>Speaker</th>\n",
       "      <th>party</th>\n",
       "      <th>variable</th>\n",
       "      <th>value</th>\n",
       "      <th>m_it</th>\n",
       "      <th>q_hat_it</th>\n",
       "      <th>Somme_c_it</th>\n",
       "      <th>Somme_m_it</th>\n",
       "      <th>q_hat_Con_-ijt</th>\n",
       "    </tr>\n",
       "  </thead>\n",
       "  <tbody>\n",
       "    <tr>\n",
       "      <th>0</th>\n",
       "      <td>George Hollingbery</td>\n",
       "      <td>Con</td>\n",
       "      <td>abil</td>\n",
       "      <td>3</td>\n",
       "      <td>1948</td>\n",
       "      <td>0.001540</td>\n",
       "      <td>1918</td>\n",
       "      <td>2495823</td>\n",
       "      <td>0.000768</td>\n",
       "    </tr>\n",
       "    <tr>\n",
       "      <th>1</th>\n",
       "      <td>George Freeman</td>\n",
       "      <td>Con</td>\n",
       "      <td>abil</td>\n",
       "      <td>12</td>\n",
       "      <td>3886</td>\n",
       "      <td>0.003088</td>\n",
       "      <td>1909</td>\n",
       "      <td>2493885</td>\n",
       "      <td>0.000765</td>\n",
       "    </tr>\n",
       "    <tr>\n",
       "      <th>2</th>\n",
       "      <td>George Eustice</td>\n",
       "      <td>Con</td>\n",
       "      <td>abil</td>\n",
       "      <td>13</td>\n",
       "      <td>9312</td>\n",
       "      <td>0.001396</td>\n",
       "      <td>1908</td>\n",
       "      <td>2488459</td>\n",
       "      <td>0.000767</td>\n",
       "    </tr>\n",
       "    <tr>\n",
       "      <th>3</th>\n",
       "      <td>Geoffrey Cox</td>\n",
       "      <td>Con</td>\n",
       "      <td>abil</td>\n",
       "      <td>0</td>\n",
       "      <td>155</td>\n",
       "      <td>0.000000</td>\n",
       "      <td>1921</td>\n",
       "      <td>2497616</td>\n",
       "      <td>0.000769</td>\n",
       "    </tr>\n",
       "    <tr>\n",
       "      <th>4</th>\n",
       "      <td>Geoffrey Clifton-Brown</td>\n",
       "      <td>Con</td>\n",
       "      <td>abil</td>\n",
       "      <td>5</td>\n",
       "      <td>3940</td>\n",
       "      <td>0.001269</td>\n",
       "      <td>1916</td>\n",
       "      <td>2493831</td>\n",
       "      <td>0.000768</td>\n",
       "    </tr>\n",
       "    <tr>\n",
       "      <th>...</th>\n",
       "      <td>...</td>\n",
       "      <td>...</td>\n",
       "      <td>...</td>\n",
       "      <td>...</td>\n",
       "      <td>...</td>\n",
       "      <td>...</td>\n",
       "      <td>...</td>\n",
       "      <td>...</td>\n",
       "      <td>...</td>\n",
       "    </tr>\n",
       "    <tr>\n",
       "      <th>214995</th>\n",
       "      <td>Mary Robinson</td>\n",
       "      <td>Con</td>\n",
       "      <td>â£</td>\n",
       "      <td>10</td>\n",
       "      <td>1211</td>\n",
       "      <td>0.008258</td>\n",
       "      <td>5821</td>\n",
       "      <td>2496560</td>\n",
       "      <td>0.002332</td>\n",
       "    </tr>\n",
       "    <tr>\n",
       "      <th>214996</th>\n",
       "      <td>Mary Macleod</td>\n",
       "      <td>Con</td>\n",
       "      <td>â£</td>\n",
       "      <td>2</td>\n",
       "      <td>648</td>\n",
       "      <td>0.003086</td>\n",
       "      <td>5829</td>\n",
       "      <td>2497123</td>\n",
       "      <td>0.002334</td>\n",
       "    </tr>\n",
       "    <tr>\n",
       "      <th>214997</th>\n",
       "      <td>Martin Vickers</td>\n",
       "      <td>Con</td>\n",
       "      <td>â£</td>\n",
       "      <td>3</td>\n",
       "      <td>3692</td>\n",
       "      <td>0.000813</td>\n",
       "      <td>5828</td>\n",
       "      <td>2494079</td>\n",
       "      <td>0.002337</td>\n",
       "    </tr>\n",
       "    <tr>\n",
       "      <th>214998</th>\n",
       "      <td>Matt Hancock</td>\n",
       "      <td>Con</td>\n",
       "      <td>â£</td>\n",
       "      <td>40</td>\n",
       "      <td>15426</td>\n",
       "      <td>0.002593</td>\n",
       "      <td>5791</td>\n",
       "      <td>2482345</td>\n",
       "      <td>0.002333</td>\n",
       "    </tr>\n",
       "    <tr>\n",
       "      <th>214999</th>\n",
       "      <td>Zac Goldsmith</td>\n",
       "      <td>Con</td>\n",
       "      <td>â£</td>\n",
       "      <td>12</td>\n",
       "      <td>2893</td>\n",
       "      <td>0.004148</td>\n",
       "      <td>5819</td>\n",
       "      <td>2494878</td>\n",
       "      <td>0.002332</td>\n",
       "    </tr>\n",
       "  </tbody>\n",
       "</table>\n",
       "<p>215000 rows × 9 columns</p>\n",
       "</div>"
      ],
      "text/plain": [
       "                       Speaker party variable  value   m_it  q_hat_it  \\\n",
       "0           George Hollingbery   Con     abil      3   1948  0.001540   \n",
       "1               George Freeman   Con     abil     12   3886  0.003088   \n",
       "2               George Eustice   Con     abil     13   9312  0.001396   \n",
       "3                 Geoffrey Cox   Con     abil      0    155  0.000000   \n",
       "4       Geoffrey Clifton-Brown   Con     abil      5   3940  0.001269   \n",
       "...                        ...   ...      ...    ...    ...       ...   \n",
       "214995           Mary Robinson   Con       â£     10   1211  0.008258   \n",
       "214996            Mary Macleod   Con       â£      2    648  0.003086   \n",
       "214997          Martin Vickers   Con       â£      3   3692  0.000813   \n",
       "214998            Matt Hancock   Con       â£     40  15426  0.002593   \n",
       "214999           Zac Goldsmith   Con       â£     12   2893  0.004148   \n",
       "\n",
       "        Somme_c_it  Somme_m_it  q_hat_Con_-ijt  \n",
       "0             1918     2495823        0.000768  \n",
       "1             1909     2493885        0.000765  \n",
       "2             1908     2488459        0.000767  \n",
       "3             1921     2497616        0.000769  \n",
       "4             1916     2493831        0.000768  \n",
       "...            ...         ...             ...  \n",
       "214995        5821     2496560        0.002332  \n",
       "214996        5829     2497123        0.002334  \n",
       "214997        5828     2494079        0.002337  \n",
       "214998        5791     2482345        0.002333  \n",
       "214999        5819     2494878        0.002332  \n",
       "\n",
       "[215000 rows x 9 columns]"
      ]
     },
     "execution_count": 13,
     "metadata": {},
     "output_type": "execute_result"
    }
   ],
   "source": [
    "df_modelisation_Con"
   ]
  },
  {
   "cell_type": "code",
   "execution_count": 14,
   "metadata": {},
   "outputs": [],
   "source": [
    "lox_de_lox = df_modelisation_Lab[['variable', 'value']].groupby(by=['variable']).sum().reset_index()\n",
    "lox_de_lox.rename(columns={'value':'Somme_c_it'},inplace=True)\n",
    "df_modelisation_Lab = pd.merge(\n",
    "    df_modelisation_Lab,\n",
    "    lox_de_lox,\n",
    "    how='left',\n",
    "    on=['variable']\n",
    ")\n",
    "df_modelisation_Lab['Somme_c_it'] = df_modelisation_Lab['Somme_c_it'] - df_modelisation_Lab['value']\n",
    "lox_de_lox = df_modelisation.drop_duplicates(subset=['Speaker'])\n",
    "lox_de_lox['Somme_m_it'] = lox_de_lox['m_it'].sum()\n",
    "df_modelisation_Lab = pd.merge(\n",
    "    df_modelisation_Lab,\n",
    "    lox_de_lox[['Speaker', 'Somme_m_it']],\n",
    "    how='left',\n",
    "    on=['Speaker']\n",
    ")\n",
    "df_modelisation_Lab['Somme_m_it'] = df_modelisation_Lab['Somme_m_it'] - df_modelisation_Lab['m_it']\n",
    "df_modelisation_Lab['q_hat_Lab_-ijt'] = df_modelisation_Lab['Somme_c_it'] / df_modelisation_Lab['Somme_m_it']"
   ]
  },
  {
   "cell_type": "code",
   "execution_count": 15,
   "metadata": {},
   "outputs": [],
   "source": [
    "df_modelisation_Lab_intial = df_modelisation_Lab.drop(columns=['q_hat_Lab_-ijt'])\n",
    "df_modelisation_Lab_intial['Somme_m_it'] = df_modelisation_Lab_intial['Somme_m_it'] + df_modelisation_Lab_intial['m_it']\n",
    "df_modelisation_Lab_intial['Somme_c_it'] = df_modelisation_Lab_intial['Somme_c_it'] + df_modelisation_Lab_intial['value']\n",
    "df_modelisation_Lab_intial['q_hat_Lab_jt'] = df_modelisation_Lab_intial['Somme_c_it'] / df_modelisation_Lab_intial['Somme_m_it']\n",
    "df_modelisation_Lab_intial = df_modelisation_Lab_intial[['variable', 'q_hat_Lab_jt']]\n",
    "df_modelisation_Lab_intial.drop_duplicates(subset=['variable'], inplace=True)"
   ]
  },
  {
   "cell_type": "code",
   "execution_count": 16,
   "metadata": {},
   "outputs": [],
   "source": [
    "# La je fais mon merge \n",
    "df_modelisation_Con = pd.merge(\n",
    "    df_modelisation_Con,\n",
    "    df_modelisation_Lab_intial,\n",
    "    how='left',\n",
    "    on=['variable']\n",
    ")\n",
    "df_modelisation_Con['rho_hat_-ijt'] = (df_modelisation_Con['q_hat_Con_-ijt']) / (df_modelisation_Con['q_hat_Con_-ijt'] + df_modelisation_Con['q_hat_Lab_jt'])\n",
    "df_modelisation_Con['produit'] = df_modelisation_Con['q_hat_it'] * df_modelisation_Con['rho_hat_-ijt']\n",
    "nb_Con = len(df_modelisation_Con['Speaker'].unique())\n",
    "res_Con = df_modelisation_Con[['variable', 'produit']].groupby(by=['variable']).sum().reset_index()\n",
    "res_Con['moitie_Con_pi'] = res_Con['produit']*(1/2)*(1/nb_Con)\n",
    "res_Con.drop(columns=['produit'], inplace=True)"
   ]
  },
  {
   "cell_type": "markdown",
   "metadata": {},
   "source": [
    "## je refais pour les Labors "
   ]
  },
  {
   "cell_type": "code",
   "execution_count": 17,
   "metadata": {},
   "outputs": [],
   "source": [
    "df_modelisation_Con_intial = df_modelisation_Con.drop(columns=['q_hat_Con_-ijt'])\n",
    "df_modelisation_Con_intial['Somme_m_it'] = df_modelisation_Con_intial['Somme_m_it'] + df_modelisation_Con_intial['m_it']\n",
    "df_modelisation_Con_intial['Somme_c_it'] = df_modelisation_Con_intial['Somme_c_it'] + df_modelisation_Con_intial['value']\n",
    "df_modelisation_Con_intial['q_hat_Con_jt'] = df_modelisation_Con_intial['Somme_c_it'] / df_modelisation_Con_intial['Somme_m_it']\n",
    "df_modelisation_Con_intial = df_modelisation_Con_intial[['variable', 'q_hat_Con_jt']]\n",
    "df_modelisation_Con_intial.drop_duplicates(subset=['variable'], inplace=True)"
   ]
  },
  {
   "cell_type": "code",
   "execution_count": 18,
   "metadata": {},
   "outputs": [],
   "source": [
    "#  La je fais mon merge \n",
    "df_modelisation_Lab = pd.merge(\n",
    "    df_modelisation_Lab,\n",
    "    df_modelisation_Lab_intial,\n",
    "    how='left',\n",
    "    on=['variable']\n",
    ")\n",
    "df_modelisation_Lab['rho_hat_-ijt'] = (df_modelisation_Lab['q_hat_Lab_-ijt']) / (df_modelisation_Lab['q_hat_Lab_-ijt'] + df_modelisation_Lab['q_hat_Lab_jt'])\n",
    "df_modelisation_Lab['produit'] = df_modelisation_Lab['q_hat_it'] * df_modelisation_Lab['rho_hat_-ijt']\n",
    "nb_Lab = len(df_modelisation_Lab['Speaker'].unique())\n",
    "res_Lab = df_modelisation_Lab[['variable', 'produit']].groupby(by=['variable']).sum().reset_index()\n",
    "res_Lab['moitie_Lab_pi'] = res_Lab['produit']*(1/2)*(1/nb_Lab)\n",
    "res_Lab.drop(columns=['produit'], inplace=True)"
   ]
  },
  {
   "cell_type": "code",
   "execution_count": 19,
   "metadata": {},
   "outputs": [],
   "source": [
    "res = pd.merge(\n",
    "    res_Con,\n",
    "    res_Lab,\n",
    "    how='left',\n",
    "    on=['variable'],\n",
    ")"
   ]
  },
  {
   "cell_type": "code",
   "execution_count": 20,
   "metadata": {},
   "outputs": [],
   "source": [
    "res['pi'] = res['moitie_Con_pi'] + res['moitie_Lab_pi']"
   ]
  },
  {
   "cell_type": "code",
   "execution_count": 21,
   "metadata": {},
   "outputs": [
    {
     "data": {
      "text/html": [
       "<div>\n",
       "<style scoped>\n",
       "    .dataframe tbody tr th:only-of-type {\n",
       "        vertical-align: middle;\n",
       "    }\n",
       "\n",
       "    .dataframe tbody tr th {\n",
       "        vertical-align: top;\n",
       "    }\n",
       "\n",
       "    .dataframe thead th {\n",
       "        text-align: right;\n",
       "    }\n",
       "</style>\n",
       "<table border=\"1\" class=\"dataframe\">\n",
       "  <thead>\n",
       "    <tr style=\"text-align: right;\">\n",
       "      <th></th>\n",
       "      <th>variable</th>\n",
       "      <th>moitie_Con_pi</th>\n",
       "      <th>moitie_Lab_pi</th>\n",
       "      <th>pi</th>\n",
       "    </tr>\n",
       "  </thead>\n",
       "  <tbody>\n",
       "    <tr>\n",
       "      <th>0</th>\n",
       "      <td>abil</td>\n",
       "      <td>0.000364</td>\n",
       "      <td>0.000237</td>\n",
       "      <td>0.000601</td>\n",
       "    </tr>\n",
       "    <tr>\n",
       "      <th>1</th>\n",
       "      <td>abl</td>\n",
       "      <td>0.002495</td>\n",
       "      <td>0.001939</td>\n",
       "      <td>0.004434</td>\n",
       "    </tr>\n",
       "    <tr>\n",
       "      <th>2</th>\n",
       "      <td>absolut</td>\n",
       "      <td>0.000720</td>\n",
       "      <td>0.000358</td>\n",
       "      <td>0.001078</td>\n",
       "    </tr>\n",
       "    <tr>\n",
       "      <th>3</th>\n",
       "      <td>accept</td>\n",
       "      <td>0.000479</td>\n",
       "      <td>0.000522</td>\n",
       "      <td>0.001001</td>\n",
       "    </tr>\n",
       "    <tr>\n",
       "      <th>4</th>\n",
       "      <td>achiev</td>\n",
       "      <td>0.000389</td>\n",
       "      <td>0.000286</td>\n",
       "      <td>0.000676</td>\n",
       "    </tr>\n",
       "    <tr>\n",
       "      <th>...</th>\n",
       "      <td>...</td>\n",
       "      <td>...</td>\n",
       "      <td>...</td>\n",
       "      <td>...</td>\n",
       "    </tr>\n",
       "    <tr>\n",
       "      <th>495</th>\n",
       "      <td>withdraw</td>\n",
       "      <td>0.000137</td>\n",
       "      <td>0.000106</td>\n",
       "      <td>0.000243</td>\n",
       "    </tr>\n",
       "    <tr>\n",
       "      <th>496</th>\n",
       "      <td>word</td>\n",
       "      <td>0.000279</td>\n",
       "      <td>0.000383</td>\n",
       "      <td>0.000662</td>\n",
       "    </tr>\n",
       "    <tr>\n",
       "      <th>497</th>\n",
       "      <td>write</td>\n",
       "      <td>0.000090</td>\n",
       "      <td>0.000091</td>\n",
       "      <td>0.000180</td>\n",
       "    </tr>\n",
       "    <tr>\n",
       "      <th>498</th>\n",
       "      <td>yes</td>\n",
       "      <td>0.000303</td>\n",
       "      <td>0.000296</td>\n",
       "      <td>0.000599</td>\n",
       "    </tr>\n",
       "    <tr>\n",
       "      <th>499</th>\n",
       "      <td>â£</td>\n",
       "      <td>0.001023</td>\n",
       "      <td>0.001113</td>\n",
       "      <td>0.002136</td>\n",
       "    </tr>\n",
       "  </tbody>\n",
       "</table>\n",
       "<p>500 rows × 4 columns</p>\n",
       "</div>"
      ],
      "text/plain": [
       "     variable  moitie_Con_pi  moitie_Lab_pi        pi\n",
       "0        abil       0.000364       0.000237  0.000601\n",
       "1         abl       0.002495       0.001939  0.004434\n",
       "2     absolut       0.000720       0.000358  0.001078\n",
       "3      accept       0.000479       0.000522  0.001001\n",
       "4      achiev       0.000389       0.000286  0.000676\n",
       "..        ...            ...            ...       ...\n",
       "495  withdraw       0.000137       0.000106  0.000243\n",
       "496      word       0.000279       0.000383  0.000662\n",
       "497     write       0.000090       0.000091  0.000180\n",
       "498       yes       0.000303       0.000296  0.000599\n",
       "499        â£       0.001023       0.001113  0.002136\n",
       "\n",
       "[500 rows x 4 columns]"
      ]
     },
     "execution_count": 21,
     "metadata": {},
     "output_type": "execute_result"
    }
   ],
   "source": [
    "res"
   ]
  },
  {
   "cell_type": "code",
   "execution_count": 22,
   "metadata": {},
   "outputs": [
    {
     "data": {
      "text/plain": [
       "0.08763558698043365"
      ]
     },
     "execution_count": 22,
     "metadata": {},
     "output_type": "execute_result"
    }
   ],
   "source": [
    "res['pi'].max()"
   ]
  },
  {
   "cell_type": "markdown",
   "metadata": {},
   "source": [
    "## Test sur un speaker"
   ]
  },
  {
   "cell_type": "code",
   "execution_count": 23,
   "metadata": {},
   "outputs": [],
   "source": [
    "pi_speaker_Con = df_modelisation_Con[['Speaker','produit']].groupby(by=['Speaker']).sum().reset_index()\n"
   ]
  },
  {
   "cell_type": "code",
   "execution_count": 24,
   "metadata": {},
   "outputs": [],
   "source": [
    "# Pour les Con\n",
    "pi_speaker_Con = df_modelisation_Con[['Speaker','produit']].groupby(by=['Speaker']).sum().reset_index()\n",
    "pi_speaker_Con['party'] = 'Con'\n",
    "\n",
    "# Pour les Lab\n",
    "pi_speaker_Lab = df_modelisation_Lab[['Speaker','produit']].groupby(by=['Speaker']).sum().reset_index()\n",
    "pi_speaker_Lab['party'] = 'Lab'\n"
   ]
  },
  {
   "cell_type": "code",
   "execution_count": 25,
   "metadata": {},
   "outputs": [],
   "source": [
    "pi_speaker = pd.concat([pi_speaker_Con, pi_speaker_Lab])\n",
    "pi_speaker.rename(columns={'produit':'speaker_pi'},inplace=True)\n",
    "pi_speaker = pi_speaker.loc[pi_speaker['speaker_pi'] > 0]"
   ]
  },
  {
   "cell_type": "code",
   "execution_count": 27,
   "metadata": {},
   "outputs": [
    {
     "data": {
      "application/vnd.plotly.v1+json": {
       "config": {
        "plotlyServerURL": "https://plot.ly"
       },
       "data": [
        {
         "hovertemplate": "party=%{y}<br>speaker_pi=%{x}<extra></extra>",
         "legendgroup": "Con",
         "marker": {
          "color": "#636efa",
          "size": 10,
          "symbol": "circle"
         },
         "mode": "markers",
         "name": "Con",
         "orientation": "h",
         "showlegend": true,
         "type": "scatter",
         "x": [
          0.6362587290867063,
          0.6304275451639818,
          0.6320711609292932,
          0.6389457874732177,
          0.6328503166713949,
          0.6383671074097963,
          0.6370587710483481,
          0.6352780991996781,
          0.6335192703338601,
          0.638884724527142,
          0.6373846195964438,
          0.6340650921207247,
          0.6311268487622784,
          0.6316885620179018,
          0.6375105912382304,
          0.6416202163513487,
          0.6339451423837906,
          0.6337363180747071,
          0.6342150380240493,
          0.6378431284959325,
          0.6384527426788607,
          0.6364810429029193,
          0.6360819247247691,
          0.6374430710842671,
          0.6309805856407018,
          0.632139350745936,
          0.6379395649614763,
          0.6355558173375191,
          0.6319693543420386,
          0.6371461866462406,
          0.6314522371261483,
          0.6346831418267549,
          0.633054405514494,
          0.6356255441180414,
          0.6251512125151245,
          0.6278375620782414,
          0.6288043614488185,
          0.618441185009489,
          0.6333656995190192,
          0.635395717463795,
          0.6307798670079654,
          0.6295643823319519,
          0.6270953960462053,
          0.6400385248866459,
          0.6336275044355812,
          0.6317999599636422,
          0.635599321991972,
          0.6280424331189864,
          0.6261894118106506,
          0.6325838790949958,
          0.636092679999986,
          0.633970848492711,
          0.6391442176002884,
          0.638883523713943,
          0.6292025804823416,
          0.63179403824669,
          0.635888366721095,
          0.6332013874648414,
          0.635594203840747,
          0.6382661081358256,
          0.6447489679842671,
          0.6338174780337286,
          0.6337354226272254,
          0.6300024573821883,
          0.6285156784699119,
          0.6334046162687861,
          0.6318067213255432,
          0.635907303171929,
          0.636779872789406,
          0.630381165225042,
          0.6326217470909677,
          0.6295994002864369,
          0.6367902872830451,
          0.6324720801056583,
          0.635503046445727,
          0.6352332241910731,
          0.6428078985154275,
          0.6352813771574359,
          0.6359858183327696,
          0.6388406719786227,
          0.6326932967379402,
          0.631551783019858,
          0.6336434838732734,
          0.6340458563978059,
          0.6332544150250716,
          0.6294102358800306,
          0.6342755116588323,
          0.635501249860067,
          0.6321632495870275,
          0.635898144177481,
          0.6310086229756886,
          0.6318671239552116,
          0.6397862577194057,
          0.6419556543758959,
          0.6341972880865402,
          0.627084651878367,
          0.6412164771615173,
          0.6333208646822039,
          0.6355135057668184,
          0.6360895978289121,
          0.6359679710533108,
          0.63302143623383,
          0.6378158880497329,
          0.6305180115535487,
          0.6211608283838259,
          0.6293534127872796,
          0.6406464089573453,
          0.6415356919538198,
          0.6437228243220254,
          0.6380295482687599,
          0.6343874526631643,
          0.6405876946139382,
          0.6430577782326379,
          0.6387972260384979,
          0.6298276895650482,
          0.6328656631506877,
          0.6352879904908675,
          0.6370303629530808,
          0.6261662224490535,
          0.6334713204077951,
          0.6423100844162606,
          0.6352372771729603,
          0.6376817952618193,
          0.6482768031589774,
          0.636316602657326,
          0.6374084187609771,
          0.6374427603759449,
          0.6286281867427588,
          0.6184693831638809,
          0.6301205342286926,
          0.6331703780103943,
          0.630858950716697,
          0.6421354241754672,
          0.6344119114025166,
          0.6342595488836296,
          0.6417940461362246,
          0.6266629195131468,
          0.6354749570886153,
          0.6288177248296374,
          0.6261555323422306,
          0.6277325909091923,
          0.6259405745236603,
          0.6337429148580221,
          0.6336701315817218,
          0.6329004965183219,
          0.6310949560027792,
          0.630488679110804,
          0.6400038480407984,
          0.63795653186212,
          0.6369005150619877,
          0.6370149917407669,
          0.6340515137428262,
          0.6328054830841201,
          0.6397032595741468,
          0.6321725457971977,
          0.6427352504283989,
          0.6343376791299326,
          0.6328157201744927,
          0.628918105814547,
          0.6311462407145072,
          0.6329829638110904,
          0.6372115037451276,
          0.634885894805469,
          0.6361340711390012,
          0.6397052029572667,
          0.6384967783951727,
          0.6367150741218112,
          0.6298535970787266,
          0.6279817310328447,
          0.6317975600922587,
          0.6336308083067284,
          0.6372123441618134,
          0.6322626376660183,
          0.6308648373804224,
          0.636578214677054,
          0.6381316813889812,
          0.6377689620817792,
          0.6402160829147082,
          0.6413623638945877,
          0.6353908648397624,
          0.6321987670591753,
          0.6391247461819243,
          0.636534766695066,
          0.6299192281650813,
          0.6341673707019403,
          0.6357598205533723,
          0.6351667892504365,
          0.6395456351659775,
          0.6304020062126569,
          0.6312183219294953,
          0.6382713874328314,
          0.6383303344329103,
          0.6510731356730382,
          0.635084986598047,
          0.6317304262829746,
          0.6327039982658675,
          0.6315789473211781,
          0.631611583967966,
          0.6344000169711052,
          0.6317430619040991,
          0.6358010545915284,
          0.6348051167117131,
          0.6338355213069811,
          0.6379236051968055,
          0.6322163492045073,
          0.6312325276932298,
          0.6418408873274303,
          0.6379003048621268,
          0.634020003171684,
          0.6336716418746481,
          0.6368216640047291,
          0.6312417123673255,
          0.649572335400616,
          0.6327006991997915,
          0.6357716460545287,
          0.6385391930755075,
          0.636847589923762,
          0.6316290051163369,
          0.627001603063624,
          0.633220855897362,
          0.6252590055284819,
          0.6304494082680182,
          0.6345320232146943,
          0.6285796838344581,
          0.6326384928008083,
          0.6350685980653412,
          0.6341002265879403,
          0.633647916490275,
          0.6404138971605093,
          0.6307789113265686,
          0.6312725160476109,
          0.6342544293140286,
          0.6297225847578656,
          0.6330034589033648,
          0.6349805635816697,
          0.6424875116214337,
          0.6402413621244685,
          0.6375250465596525,
          0.6299882986600297,
          0.6335709492626156,
          0.6266646768504773,
          0.631314876522988,
          0.6352572989507317,
          0.6379617716020328,
          0.633720139413217,
          0.6335195903029186,
          0.6351197843807134,
          0.6321954021452193,
          0.6326084651488197,
          0.6328307085352639,
          0.6327657468712552,
          0.6380965182424972,
          0.6365818897168194,
          0.6373976136133755,
          0.634978995897533,
          0.6322271698270341,
          0.6313879813300743,
          0.6388597748673722,
          0.636793999892055,
          0.6330476074695299,
          0.6367939776640934,
          0.6341364762839256,
          0.6317051135129573,
          0.636427109629088,
          0.635347912340362,
          0.6269539471298866,
          0.6375196935895822,
          0.6351905791882647,
          0.6337200766552828,
          0.6436641565378439,
          0.6371698486642965,
          0.6354895662028193,
          0.6367983479364122,
          0.632636572697176,
          0.6298997831514381,
          0.6393761426609359,
          0.6362370132499024,
          0.6327749092065872,
          0.6441657349301394,
          0.6350582761229203,
          0.6344434554308991,
          0.6312719927836835,
          0.6327400049036812,
          0.6361855975559464,
          0.6351685247538319,
          0.6334313645506034,
          0.6449404231165685,
          0.6422207062492076,
          0.6355765812999679,
          0.6400079693393371,
          0.6371866955856205,
          0.6434886661461791,
          0.6176866366630664,
          0.6486669088742895,
          0.6338167598419499,
          0.6348791859694125,
          0.6332092242519868,
          0.6329691035967656,
          0.6402638061896727,
          0.6374411630248386,
          0.6335036826804108,
          0.6285932228889152,
          0.6393507121147326,
          0.6384054782224068,
          0.6235994877891092,
          0.6389467126937204,
          0.6403454472375026,
          0.6392643213729465,
          0.633662118812502,
          0.6333844587878331,
          0.6353984523754118,
          0.6341065423731028,
          0.6369163922065576,
          0.6340657040172643,
          0.6324056959011947,
          0.6320682012081502,
          0.6380775181384878,
          0.6387663356880607,
          0.6269300069368825,
          0.6411990996415892,
          0.6393235145730556,
          0.6324210459261971,
          0.6341749234829978,
          0.6363024138612764,
          0.6441852675183487,
          0.6374195469035527,
          0.6424805360362216,
          0.6419134688475968,
          0.6307325166801043,
          0.6353187469801479,
          0.628274585770125,
          0.6364323553210967,
          0.6342290517812841,
          0.6362837029552801,
          0.6318685863425073,
          0.6328429162635948,
          0.6335015895369484,
          0.6304051036137117,
          0.6353040169210787,
          0.6327629009277052,
          0.6290592223669286,
          0.6447540875150896,
          0.6373409404799945,
          0.641083433580048,
          0.6444464952790607,
          0.6400754195784079,
          0.6317641448900849,
          0.6382090236786132,
          0.6293319985144331,
          0.6372751046580138,
          0.630253828482977,
          0.6322992912996269,
          0.6345598226543434,
          0.6334918582846346,
          0.6346292470690421,
          0.6330094151582579,
          0.6298439560765153,
          0.634193535886453,
          0.630931673148992,
          0.6333418074731051,
          0.6358328199938585,
          0.6252440253884044,
          0.632514961822213,
          0.633284003285472,
          0.6378930544069781,
          0.6350001852159249,
          0.6332947019992404,
          0.6311823036084484,
          0.6375197335472246,
          0.6314978721656802,
          0.6259211120386273,
          0.6478395605461023,
          0.639998391294712,
          0.6381303068166169,
          0.6312406128947219,
          0.6267955339524741,
          0.6315291875826983,
          0.6393317226052002,
          0.6349105138436479,
          0.6400928590961358,
          0.6370639010170255,
          0.649927520210257,
          0.645999663502202,
          0.640842242249605,
          0.6421891718978392,
          0.635065071790523,
          0.633303056967394,
          0.6266350279150373,
          0.6395023347474977,
          0.6385223779295384,
          0.6286337010913545,
          0.6419742346716864,
          0.6326847956383812,
          0.6337960296123067,
          0.6368364782078197,
          0.634757846395775,
          0.6314395388621882,
          0.6322689733237734,
          0.6321847309584449,
          0.6394771680802431,
          0.6350958545535474,
          0.6263217067435731,
          0.640598143629018,
          0.6398899933276665,
          0.6310872584284055,
          0.6365640714666724,
          0.6393529615730411,
          0.6335999783539363,
          0.6305654351672743,
          0.6356747778769452,
          0.634987807146523,
          0.6369165859665331,
          0.6313983014328838,
          0.6304957765921991,
          0.6372222670696311,
          0.631461819342875,
          0.6384587553096358,
          0.6339328613285982,
          0.6346235453177218,
          0.6433507052759533,
          0.6376469033196406,
          0.6438247162492948,
          0.6350031799318756,
          0.6404863478318346,
          0.6445236417267223,
          0.6323180353904012,
          0.6414693601649993,
          0.641318512478349,
          0.6298616877100124,
          0.6318469281513126
         ],
         "xaxis": "x",
         "y": [
          "Con",
          "Con",
          "Con",
          "Con",
          "Con",
          "Con",
          "Con",
          "Con",
          "Con",
          "Con",
          "Con",
          "Con",
          "Con",
          "Con",
          "Con",
          "Con",
          "Con",
          "Con",
          "Con",
          "Con",
          "Con",
          "Con",
          "Con",
          "Con",
          "Con",
          "Con",
          "Con",
          "Con",
          "Con",
          "Con",
          "Con",
          "Con",
          "Con",
          "Con",
          "Con",
          "Con",
          "Con",
          "Con",
          "Con",
          "Con",
          "Con",
          "Con",
          "Con",
          "Con",
          "Con",
          "Con",
          "Con",
          "Con",
          "Con",
          "Con",
          "Con",
          "Con",
          "Con",
          "Con",
          "Con",
          "Con",
          "Con",
          "Con",
          "Con",
          "Con",
          "Con",
          "Con",
          "Con",
          "Con",
          "Con",
          "Con",
          "Con",
          "Con",
          "Con",
          "Con",
          "Con",
          "Con",
          "Con",
          "Con",
          "Con",
          "Con",
          "Con",
          "Con",
          "Con",
          "Con",
          "Con",
          "Con",
          "Con",
          "Con",
          "Con",
          "Con",
          "Con",
          "Con",
          "Con",
          "Con",
          "Con",
          "Con",
          "Con",
          "Con",
          "Con",
          "Con",
          "Con",
          "Con",
          "Con",
          "Con",
          "Con",
          "Con",
          "Con",
          "Con",
          "Con",
          "Con",
          "Con",
          "Con",
          "Con",
          "Con",
          "Con",
          "Con",
          "Con",
          "Con",
          "Con",
          "Con",
          "Con",
          "Con",
          "Con",
          "Con",
          "Con",
          "Con",
          "Con",
          "Con",
          "Con",
          "Con",
          "Con",
          "Con",
          "Con",
          "Con",
          "Con",
          "Con",
          "Con",
          "Con",
          "Con",
          "Con",
          "Con",
          "Con",
          "Con",
          "Con",
          "Con",
          "Con",
          "Con",
          "Con",
          "Con",
          "Con",
          "Con",
          "Con",
          "Con",
          "Con",
          "Con",
          "Con",
          "Con",
          "Con",
          "Con",
          "Con",
          "Con",
          "Con",
          "Con",
          "Con",
          "Con",
          "Con",
          "Con",
          "Con",
          "Con",
          "Con",
          "Con",
          "Con",
          "Con",
          "Con",
          "Con",
          "Con",
          "Con",
          "Con",
          "Con",
          "Con",
          "Con",
          "Con",
          "Con",
          "Con",
          "Con",
          "Con",
          "Con",
          "Con",
          "Con",
          "Con",
          "Con",
          "Con",
          "Con",
          "Con",
          "Con",
          "Con",
          "Con",
          "Con",
          "Con",
          "Con",
          "Con",
          "Con",
          "Con",
          "Con",
          "Con",
          "Con",
          "Con",
          "Con",
          "Con",
          "Con",
          "Con",
          "Con",
          "Con",
          "Con",
          "Con",
          "Con",
          "Con",
          "Con",
          "Con",
          "Con",
          "Con",
          "Con",
          "Con",
          "Con",
          "Con",
          "Con",
          "Con",
          "Con",
          "Con",
          "Con",
          "Con",
          "Con",
          "Con",
          "Con",
          "Con",
          "Con",
          "Con",
          "Con",
          "Con",
          "Con",
          "Con",
          "Con",
          "Con",
          "Con",
          "Con",
          "Con",
          "Con",
          "Con",
          "Con",
          "Con",
          "Con",
          "Con",
          "Con",
          "Con",
          "Con",
          "Con",
          "Con",
          "Con",
          "Con",
          "Con",
          "Con",
          "Con",
          "Con",
          "Con",
          "Con",
          "Con",
          "Con",
          "Con",
          "Con",
          "Con",
          "Con",
          "Con",
          "Con",
          "Con",
          "Con",
          "Con",
          "Con",
          "Con",
          "Con",
          "Con",
          "Con",
          "Con",
          "Con",
          "Con",
          "Con",
          "Con",
          "Con",
          "Con",
          "Con",
          "Con",
          "Con",
          "Con",
          "Con",
          "Con",
          "Con",
          "Con",
          "Con",
          "Con",
          "Con",
          "Con",
          "Con",
          "Con",
          "Con",
          "Con",
          "Con",
          "Con",
          "Con",
          "Con",
          "Con",
          "Con",
          "Con",
          "Con",
          "Con",
          "Con",
          "Con",
          "Con",
          "Con",
          "Con",
          "Con",
          "Con",
          "Con",
          "Con",
          "Con",
          "Con",
          "Con",
          "Con",
          "Con",
          "Con",
          "Con",
          "Con",
          "Con",
          "Con",
          "Con",
          "Con",
          "Con",
          "Con",
          "Con",
          "Con",
          "Con",
          "Con",
          "Con",
          "Con",
          "Con",
          "Con",
          "Con",
          "Con",
          "Con",
          "Con",
          "Con",
          "Con",
          "Con",
          "Con",
          "Con",
          "Con",
          "Con",
          "Con",
          "Con",
          "Con",
          "Con",
          "Con",
          "Con",
          "Con",
          "Con",
          "Con",
          "Con",
          "Con",
          "Con",
          "Con",
          "Con",
          "Con",
          "Con",
          "Con",
          "Con",
          "Con",
          "Con",
          "Con",
          "Con",
          "Con",
          "Con",
          "Con",
          "Con",
          "Con",
          "Con",
          "Con",
          "Con",
          "Con",
          "Con",
          "Con",
          "Con",
          "Con",
          "Con",
          "Con",
          "Con",
          "Con",
          "Con",
          "Con",
          "Con",
          "Con",
          "Con",
          "Con",
          "Con",
          "Con",
          "Con",
          "Con",
          "Con",
          "Con",
          "Con",
          "Con",
          "Con",
          "Con",
          "Con",
          "Con",
          "Con",
          "Con",
          "Con",
          "Con",
          "Con",
          "Con",
          "Con",
          "Con",
          "Con",
          "Con",
          "Con",
          "Con",
          "Con",
          "Con",
          "Con",
          "Con",
          "Con",
          "Con",
          "Con",
          "Con",
          "Con",
          "Con"
         ],
         "yaxis": "y"
        },
        {
         "hovertemplate": "party=%{y}<br>speaker_pi=%{x}<extra></extra>",
         "legendgroup": "Lab",
         "marker": {
          "color": "#EF553B",
          "size": 10,
          "symbol": "diamond"
         },
         "mode": "markers",
         "name": "Lab",
         "orientation": "h",
         "showlegend": true,
         "type": "scatter",
         "x": [
          0.49855837783914236,
          0.49943160297478384,
          0.4977837969106214,
          0.4995817350130535,
          0.49940178386567824,
          0.49987241465896576,
          0.4964409166614515,
          0.4988650911614793,
          0.498221990003743,
          0.4996457915364495,
          0.4993226832976669,
          0.4987828230102305,
          0.49933654569131647,
          0.49938548228681096,
          0.49750498583040503,
          0.49838687569604695,
          0.4995177257182233,
          0.49875422335107056,
          0.4992177158279187,
          0.4997317142082477,
          0.4980570674496534,
          0.49742114095039874,
          0.49956889289339207,
          0.49804429687814505,
          0.49890767270056313,
          0.4998537304049877,
          0.4986245535067654,
          0.49953624267183727,
          0.49816178951652257,
          0.499348954767598,
          0.49803772799972235,
          0.4993850314331788,
          0.49872204606850357,
          0.49963481956504885,
          0.4991167258964054,
          0.49956545873865676,
          0.4959524403635631,
          0.4984192644494133,
          0.4995445427083803,
          0.4987156514513749,
          0.49853685674439946,
          0.49910713122403444,
          0.4970255385537259,
          0.4975104595698115,
          0.4986882290502048,
          0.49797045965775083,
          0.4998412654095031,
          0.49854755844202964,
          0.49968949848677746,
          0.49935678710269804,
          0.4996198206056719,
          0.49939575081021775,
          0.4997312701853964,
          0.49936067066771694,
          0.49970284939176535,
          0.4987017404294902,
          0.4996369987556238,
          0.4996941399392574,
          0.4993694515824881,
          0.4993341025707729,
          0.49874347757767656,
          0.4998361985074708,
          0.49768192079036355,
          0.4959046664257973,
          0.4997160445073346,
          0.4979760974520521,
          0.4986975747133592,
          0.4998685119537617,
          0.4998713282371709,
          0.4990232190630486,
          0.49835609980304707,
          0.49871656952201165,
          0.49920115450476793,
          0.49829884677017394,
          0.4984633253511684,
          0.4980544413850366,
          0.4995009487923337,
          0.4994286105229912,
          0.49941965021477175,
          0.49966531599641606,
          0.49953329844682093,
          0.49957340883479323,
          0.4998449195692004,
          0.4997615293066387,
          0.49914345145341577,
          0.4973339413899383,
          0.4997780068767908,
          0.4998410095645147,
          0.4987117496759823,
          0.4998073918020126,
          0.49910029095396097,
          0.4990998380819222,
          0.4997748779494288,
          0.4994851239899742,
          0.49987477213873405,
          0.4998590495925545,
          0.4997628025748506,
          0.49927734425794934,
          0.4994324518642727,
          0.496748375301696,
          0.4991058784568392,
          0.4983976145419795,
          0.4991144893673015,
          0.49900751509309893,
          0.49979131406028904,
          0.49954940670531217,
          0.4982613386064591,
          0.4987226524275442,
          0.4995436049747689,
          0.49969612304971056,
          0.4995497122975212,
          0.4981934125582203,
          0.49951951005108647,
          0.4982591488087608,
          0.49975414032880144,
          0.4990894078683353,
          0.493117303661445,
          0.4977081020572861,
          0.49977142847044304,
          0.49880405217711243,
          0.49870688733878943,
          0.4997369238656967,
          0.49951089248902975,
          0.49913255705039355,
          0.49765042011997823,
          0.49981350079128306,
          0.4990751879019899,
          0.4996945977215057,
          0.4996658902182345,
          0.49918021398404966,
          0.4994223395385066,
          0.4999120342389497,
          0.4996230805252924,
          0.4995906556221229,
          0.4995084402796706,
          0.4998134464739052,
          0.4998373121941414,
          0.49810329512129176,
          0.4997410872868056,
          0.49929059790886243,
          0.4997958198966369,
          0.4995853097980722,
          0.49937754818720187,
          0.49892833088639593,
          0.49897906255931584,
          0.4979146050288953,
          0.4994490674610316,
          0.49944878721564506,
          0.49982655877284965,
          0.49966580074191846,
          0.49934783143524797,
          0.49926966862314637,
          0.4991273618509973,
          0.49912233402804274,
          0.4993055823718063,
          0.4966122544340695,
          0.498890866594996,
          0.49992780619176014,
          0.49918777175600887,
          0.49834244870055305,
          0.49867967953948183,
          0.4999096815420339,
          0.4983548216927471,
          0.4988470571889863,
          0.49964102926582604,
          0.49916206106737254,
          0.4999110747567282,
          0.4978180923080601,
          0.49985446325976524,
          0.49890027401948245,
          0.4984447798411447,
          0.4973749255599676,
          0.4995481887440597,
          0.49877712323286,
          0.49987474633435397,
          0.4985771893892963,
          0.4968295751894062,
          0.49910894367300523,
          0.49953568568893125,
          0.4975362498865832,
          0.4989402782296107,
          0.49860025534960734,
          0.49437720026275955,
          0.4991773136434967,
          0.49989646060856985,
          0.4997229123386378,
          0.49802357992332075,
          0.498391761513265,
          0.4992755302152946,
          0.49830388307149265,
          0.4988272621115907,
          0.4992901813948849,
          0.49856958129954765,
          0.49788378484729034,
          0.4997933110395514,
          0.49946296398424894,
          0.4998061670075029,
          0.4984733648999861,
          0.49985262353427573,
          0.4997251942390094,
          0.49980393446207827,
          0.4994171768665202,
          0.4982813164387736,
          0.4918890263528331,
          0.4996602711568178,
          0.49918644894907077,
          0.4992187128790241,
          0.49959725038884384,
          0.49919167108783025,
          0.49891225328615846,
          0.499618409939344,
          0.49978513188109425,
          0.49927144185905586,
          0.4990748903843315,
          0.4996995327080736,
          0.4999860645972287,
          0.49973238199143266,
          0.4991619000061307,
          0.4996369898979166,
          0.49957850720607166,
          0.4990872587990337,
          0.4989183215698754,
          0.49950751566612905,
          0.4994148548811162,
          0.49832972343404985,
          0.49886355753504147,
          0.4983382308690258,
          0.49516692637383997,
          0.4995606165294525,
          0.49950621783969756,
          0.4990641321222229,
          0.49945522208392956,
          0.4985364207227702,
          0.49881948787722574,
          0.4992434325002091,
          0.4997230686015873,
          0.49977547611027046,
          0.4993684434933985,
          0.49641975043480413,
          0.4993544629489782,
          0.499940924643926,
          0.4992486569588175,
          0.49982296079486505,
          0.499266564585977,
          0.49931410069046944,
          0.49756284283875674,
          0.4993591455293542,
          0.4996912237483126,
          0.49950483678188834,
          0.49943539835346856,
          0.4975530995437674,
          0.4976355434777144,
          0.498191146717651,
          0.4983282967460519,
          0.49813285325643364,
          0.499601251384017,
          0.49730815390172994,
          0.49977002027988815,
          0.49969846761064174,
          0.49933209112792837,
          0.49966284954160334,
          0.49802452484060306,
          0.49883778174466875,
          0.4998455335337215,
          0.4997915718216344,
          0.4998347920363139,
          0.499576385870236,
          0.49987710234932553,
          0.49867927476059454,
          0.49965254813931653,
          0.499094468406187,
          0.4990737682909289,
          0.49973303955322074,
          0.4986231728405775,
          0.4991445657402632,
          0.4989170201375702,
          0.49828483948799335,
          0.4991660591965412,
          0.49793655364280964,
          0.4975976806170794,
          0.49918623413245244,
          0.4998002239559637,
          0.49903835772295585,
          0.49952301288141476,
          0.49967778970808396,
          0.49864667428419196,
          0.4994942283609467,
          0.49866439509612276,
          0.49804486949324517,
          0.4997007086358988,
          0.49931585981262316,
          0.49925633234052225,
          0.4996741714556702,
          0.4997981479190774,
          0.4997765444728827,
          0.49951281791276386,
          0.498751622425327,
          0.4997570526426445,
          0.4997487300576436,
          0.49831824309261114,
          0.49975745350496736,
          0.4997345046236252,
          0.4991070888368363,
          0.49912239999761965,
          0.49866027018261544,
          0.49871171795656954,
          0.497186320368453,
          0.49985366864309344,
          0.4981892473817725,
          0.49964267121477285,
          0.4997975583790883,
          0.499495320815236,
          0.4991467555907764,
          0.4997986689987649,
          0.4989321938552947,
          0.4995422342361824,
          0.4994759354311743,
          0.49884404768967344,
          0.49974223238428755,
          0.49967560703737385,
          0.49897588486418964,
          0.4997205479926072,
          0.4995624854509296,
          0.499899804765859,
          0.4990188444958266,
          0.4988406597998526,
          0.4994717687449952,
          0.4996629418285561,
          0.49939841744193575,
          0.4991711747540746,
          0.4981089618585287,
          0.49987320899363585,
          0.499333702589333,
          0.49928331330241155,
          0.4988955637007445,
          0.4983725706404921,
          0.49991579361138466,
          0.49990433984715493,
          0.49928629261554175,
          0.4997117786946494,
          0.49950620989356115,
          0.49813986841263663,
          0.4975855742186991,
          0.49911988808739016,
          0.49852768395619934,
          0.49971262444689124,
          0.49956149276146045,
          0.49889143609315334,
          0.49808963197953254,
          0.4995284321237495,
          0.49934971689570173,
          0.49963670430303053,
          0.49927825026059747,
          0.499720819413264,
          0.4998036157564697,
          0.49938761753604155,
          0.4984918024259632,
          0.49922998702206306,
          0.4994826302041858,
          0.49808867103901755,
          0.49833778947301016,
          0.4988846838575033,
          0.4992393109955096,
          0.49972748315225723,
          0.498947221177012,
          0.4993618181616011,
          0.4997519653671755,
          0.49952670310197794,
          0.4995791695687504,
          0.499797277367723,
          0.49954005585774136,
          0.4992588637237074,
          0.49915539969129163,
          0.4997083816196853,
          0.49935453251822665,
          0.49899224175145024,
          0.49833878253255076,
          0.4966467633900959,
          0.49990165134597603,
          0.49734315005299035,
          0.49969155118515374,
          0.49870775480484186,
          0.4997832756337127,
          0.4991756609497857,
          0.4996040405237289,
          0.4993151329461,
          0.4994933812753201,
          0.4984278182860422,
          0.4998127664658876,
          0.49966356260647576,
          0.49909332606056933,
          0.4995369681167631,
          0.498611572278544,
          0.49985491201463433,
          0.49809968728023485,
          0.49963765387594256,
          0.49833950733797605,
          0.49982616860655077,
          0.4998151651524814,
          0.49758215955360957,
          0.49850280015851545,
          0.49939286953724077,
          0.4990061883322152,
          0.4987510146292501,
          0.49872354440720845,
          0.49912363282514377,
          0.49845994532294446,
          0.499107889650271,
          0.49958919203181856,
          0.4993210119759328,
          0.49916952691706945,
          0.49810573246397394,
          0.49972188964993697,
          0.49911812679489426,
          0.4985207635825,
          0.49828184957498334,
          0.49937352156151926,
          0.4984274636311301,
          0.4991861503062696,
          0.49979990146542896,
          0.4985573751627347,
          0.4997421526442686,
          0.49981489245510985,
          0.49916378873812434,
          0.49992873326184717,
          0.4994772401327094,
          0.49902457384762744,
          0.49971515898962177,
          0.4993018542350664,
          0.4988108211791147,
          0.49712126222998104,
          0.49979327434296267,
          0.4995662852748364,
          0.49861620452019806,
          0.4991583360020914,
          0.49822113254065126,
          0.4981125461812458,
          0.4964961486054414,
          0.49805732499395705
         ],
         "xaxis": "x",
         "y": [
          "Lab",
          "Lab",
          "Lab",
          "Lab",
          "Lab",
          "Lab",
          "Lab",
          "Lab",
          "Lab",
          "Lab",
          "Lab",
          "Lab",
          "Lab",
          "Lab",
          "Lab",
          "Lab",
          "Lab",
          "Lab",
          "Lab",
          "Lab",
          "Lab",
          "Lab",
          "Lab",
          "Lab",
          "Lab",
          "Lab",
          "Lab",
          "Lab",
          "Lab",
          "Lab",
          "Lab",
          "Lab",
          "Lab",
          "Lab",
          "Lab",
          "Lab",
          "Lab",
          "Lab",
          "Lab",
          "Lab",
          "Lab",
          "Lab",
          "Lab",
          "Lab",
          "Lab",
          "Lab",
          "Lab",
          "Lab",
          "Lab",
          "Lab",
          "Lab",
          "Lab",
          "Lab",
          "Lab",
          "Lab",
          "Lab",
          "Lab",
          "Lab",
          "Lab",
          "Lab",
          "Lab",
          "Lab",
          "Lab",
          "Lab",
          "Lab",
          "Lab",
          "Lab",
          "Lab",
          "Lab",
          "Lab",
          "Lab",
          "Lab",
          "Lab",
          "Lab",
          "Lab",
          "Lab",
          "Lab",
          "Lab",
          "Lab",
          "Lab",
          "Lab",
          "Lab",
          "Lab",
          "Lab",
          "Lab",
          "Lab",
          "Lab",
          "Lab",
          "Lab",
          "Lab",
          "Lab",
          "Lab",
          "Lab",
          "Lab",
          "Lab",
          "Lab",
          "Lab",
          "Lab",
          "Lab",
          "Lab",
          "Lab",
          "Lab",
          "Lab",
          "Lab",
          "Lab",
          "Lab",
          "Lab",
          "Lab",
          "Lab",
          "Lab",
          "Lab",
          "Lab",
          "Lab",
          "Lab",
          "Lab",
          "Lab",
          "Lab",
          "Lab",
          "Lab",
          "Lab",
          "Lab",
          "Lab",
          "Lab",
          "Lab",
          "Lab",
          "Lab",
          "Lab",
          "Lab",
          "Lab",
          "Lab",
          "Lab",
          "Lab",
          "Lab",
          "Lab",
          "Lab",
          "Lab",
          "Lab",
          "Lab",
          "Lab",
          "Lab",
          "Lab",
          "Lab",
          "Lab",
          "Lab",
          "Lab",
          "Lab",
          "Lab",
          "Lab",
          "Lab",
          "Lab",
          "Lab",
          "Lab",
          "Lab",
          "Lab",
          "Lab",
          "Lab",
          "Lab",
          "Lab",
          "Lab",
          "Lab",
          "Lab",
          "Lab",
          "Lab",
          "Lab",
          "Lab",
          "Lab",
          "Lab",
          "Lab",
          "Lab",
          "Lab",
          "Lab",
          "Lab",
          "Lab",
          "Lab",
          "Lab",
          "Lab",
          "Lab",
          "Lab",
          "Lab",
          "Lab",
          "Lab",
          "Lab",
          "Lab",
          "Lab",
          "Lab",
          "Lab",
          "Lab",
          "Lab",
          "Lab",
          "Lab",
          "Lab",
          "Lab",
          "Lab",
          "Lab",
          "Lab",
          "Lab",
          "Lab",
          "Lab",
          "Lab",
          "Lab",
          "Lab",
          "Lab",
          "Lab",
          "Lab",
          "Lab",
          "Lab",
          "Lab",
          "Lab",
          "Lab",
          "Lab",
          "Lab",
          "Lab",
          "Lab",
          "Lab",
          "Lab",
          "Lab",
          "Lab",
          "Lab",
          "Lab",
          "Lab",
          "Lab",
          "Lab",
          "Lab",
          "Lab",
          "Lab",
          "Lab",
          "Lab",
          "Lab",
          "Lab",
          "Lab",
          "Lab",
          "Lab",
          "Lab",
          "Lab",
          "Lab",
          "Lab",
          "Lab",
          "Lab",
          "Lab",
          "Lab",
          "Lab",
          "Lab",
          "Lab",
          "Lab",
          "Lab",
          "Lab",
          "Lab",
          "Lab",
          "Lab",
          "Lab",
          "Lab",
          "Lab",
          "Lab",
          "Lab",
          "Lab",
          "Lab",
          "Lab",
          "Lab",
          "Lab",
          "Lab",
          "Lab",
          "Lab",
          "Lab",
          "Lab",
          "Lab",
          "Lab",
          "Lab",
          "Lab",
          "Lab",
          "Lab",
          "Lab",
          "Lab",
          "Lab",
          "Lab",
          "Lab",
          "Lab",
          "Lab",
          "Lab",
          "Lab",
          "Lab",
          "Lab",
          "Lab",
          "Lab",
          "Lab",
          "Lab",
          "Lab",
          "Lab",
          "Lab",
          "Lab",
          "Lab",
          "Lab",
          "Lab",
          "Lab",
          "Lab",
          "Lab",
          "Lab",
          "Lab",
          "Lab",
          "Lab",
          "Lab",
          "Lab",
          "Lab",
          "Lab",
          "Lab",
          "Lab",
          "Lab",
          "Lab",
          "Lab",
          "Lab",
          "Lab",
          "Lab",
          "Lab",
          "Lab",
          "Lab",
          "Lab",
          "Lab",
          "Lab",
          "Lab",
          "Lab",
          "Lab",
          "Lab",
          "Lab",
          "Lab",
          "Lab",
          "Lab",
          "Lab",
          "Lab",
          "Lab",
          "Lab",
          "Lab",
          "Lab",
          "Lab",
          "Lab",
          "Lab",
          "Lab",
          "Lab",
          "Lab",
          "Lab",
          "Lab",
          "Lab",
          "Lab",
          "Lab",
          "Lab",
          "Lab",
          "Lab",
          "Lab",
          "Lab",
          "Lab",
          "Lab",
          "Lab",
          "Lab",
          "Lab",
          "Lab",
          "Lab",
          "Lab",
          "Lab",
          "Lab",
          "Lab",
          "Lab",
          "Lab",
          "Lab",
          "Lab",
          "Lab",
          "Lab",
          "Lab",
          "Lab",
          "Lab",
          "Lab",
          "Lab",
          "Lab",
          "Lab",
          "Lab",
          "Lab",
          "Lab",
          "Lab",
          "Lab",
          "Lab",
          "Lab",
          "Lab",
          "Lab",
          "Lab",
          "Lab",
          "Lab",
          "Lab",
          "Lab",
          "Lab",
          "Lab",
          "Lab",
          "Lab",
          "Lab",
          "Lab",
          "Lab",
          "Lab",
          "Lab",
          "Lab",
          "Lab",
          "Lab",
          "Lab",
          "Lab",
          "Lab",
          "Lab",
          "Lab",
          "Lab",
          "Lab",
          "Lab",
          "Lab",
          "Lab",
          "Lab",
          "Lab",
          "Lab",
          "Lab",
          "Lab",
          "Lab",
          "Lab",
          "Lab",
          "Lab",
          "Lab",
          "Lab",
          "Lab",
          "Lab",
          "Lab",
          "Lab",
          "Lab",
          "Lab",
          "Lab",
          "Lab",
          "Lab",
          "Lab",
          "Lab",
          "Lab",
          "Lab",
          "Lab",
          "Lab",
          "Lab",
          "Lab",
          "Lab",
          "Lab",
          "Lab",
          "Lab"
         ],
         "yaxis": "y"
        }
       ],
       "layout": {
        "legend": {
         "title": {
          "text": "party"
         },
         "tracegroupgap": 0
        },
        "margin": {
         "t": 60
        },
        "template": {
         "data": {
          "bar": [
           {
            "error_x": {
             "color": "#2a3f5f"
            },
            "error_y": {
             "color": "#2a3f5f"
            },
            "marker": {
             "line": {
              "color": "#E5ECF6",
              "width": 0.5
             },
             "pattern": {
              "fillmode": "overlay",
              "size": 10,
              "solidity": 0.2
             }
            },
            "type": "bar"
           }
          ],
          "barpolar": [
           {
            "marker": {
             "line": {
              "color": "#E5ECF6",
              "width": 0.5
             },
             "pattern": {
              "fillmode": "overlay",
              "size": 10,
              "solidity": 0.2
             }
            },
            "type": "barpolar"
           }
          ],
          "carpet": [
           {
            "aaxis": {
             "endlinecolor": "#2a3f5f",
             "gridcolor": "white",
             "linecolor": "white",
             "minorgridcolor": "white",
             "startlinecolor": "#2a3f5f"
            },
            "baxis": {
             "endlinecolor": "#2a3f5f",
             "gridcolor": "white",
             "linecolor": "white",
             "minorgridcolor": "white",
             "startlinecolor": "#2a3f5f"
            },
            "type": "carpet"
           }
          ],
          "choropleth": [
           {
            "colorbar": {
             "outlinewidth": 0,
             "ticks": ""
            },
            "type": "choropleth"
           }
          ],
          "contour": [
           {
            "colorbar": {
             "outlinewidth": 0,
             "ticks": ""
            },
            "colorscale": [
             [
              0,
              "#0d0887"
             ],
             [
              0.1111111111111111,
              "#46039f"
             ],
             [
              0.2222222222222222,
              "#7201a8"
             ],
             [
              0.3333333333333333,
              "#9c179e"
             ],
             [
              0.4444444444444444,
              "#bd3786"
             ],
             [
              0.5555555555555556,
              "#d8576b"
             ],
             [
              0.6666666666666666,
              "#ed7953"
             ],
             [
              0.7777777777777778,
              "#fb9f3a"
             ],
             [
              0.8888888888888888,
              "#fdca26"
             ],
             [
              1,
              "#f0f921"
             ]
            ],
            "type": "contour"
           }
          ],
          "contourcarpet": [
           {
            "colorbar": {
             "outlinewidth": 0,
             "ticks": ""
            },
            "type": "contourcarpet"
           }
          ],
          "heatmap": [
           {
            "colorbar": {
             "outlinewidth": 0,
             "ticks": ""
            },
            "colorscale": [
             [
              0,
              "#0d0887"
             ],
             [
              0.1111111111111111,
              "#46039f"
             ],
             [
              0.2222222222222222,
              "#7201a8"
             ],
             [
              0.3333333333333333,
              "#9c179e"
             ],
             [
              0.4444444444444444,
              "#bd3786"
             ],
             [
              0.5555555555555556,
              "#d8576b"
             ],
             [
              0.6666666666666666,
              "#ed7953"
             ],
             [
              0.7777777777777778,
              "#fb9f3a"
             ],
             [
              0.8888888888888888,
              "#fdca26"
             ],
             [
              1,
              "#f0f921"
             ]
            ],
            "type": "heatmap"
           }
          ],
          "heatmapgl": [
           {
            "colorbar": {
             "outlinewidth": 0,
             "ticks": ""
            },
            "colorscale": [
             [
              0,
              "#0d0887"
             ],
             [
              0.1111111111111111,
              "#46039f"
             ],
             [
              0.2222222222222222,
              "#7201a8"
             ],
             [
              0.3333333333333333,
              "#9c179e"
             ],
             [
              0.4444444444444444,
              "#bd3786"
             ],
             [
              0.5555555555555556,
              "#d8576b"
             ],
             [
              0.6666666666666666,
              "#ed7953"
             ],
             [
              0.7777777777777778,
              "#fb9f3a"
             ],
             [
              0.8888888888888888,
              "#fdca26"
             ],
             [
              1,
              "#f0f921"
             ]
            ],
            "type": "heatmapgl"
           }
          ],
          "histogram": [
           {
            "marker": {
             "pattern": {
              "fillmode": "overlay",
              "size": 10,
              "solidity": 0.2
             }
            },
            "type": "histogram"
           }
          ],
          "histogram2d": [
           {
            "colorbar": {
             "outlinewidth": 0,
             "ticks": ""
            },
            "colorscale": [
             [
              0,
              "#0d0887"
             ],
             [
              0.1111111111111111,
              "#46039f"
             ],
             [
              0.2222222222222222,
              "#7201a8"
             ],
             [
              0.3333333333333333,
              "#9c179e"
             ],
             [
              0.4444444444444444,
              "#bd3786"
             ],
             [
              0.5555555555555556,
              "#d8576b"
             ],
             [
              0.6666666666666666,
              "#ed7953"
             ],
             [
              0.7777777777777778,
              "#fb9f3a"
             ],
             [
              0.8888888888888888,
              "#fdca26"
             ],
             [
              1,
              "#f0f921"
             ]
            ],
            "type": "histogram2d"
           }
          ],
          "histogram2dcontour": [
           {
            "colorbar": {
             "outlinewidth": 0,
             "ticks": ""
            },
            "colorscale": [
             [
              0,
              "#0d0887"
             ],
             [
              0.1111111111111111,
              "#46039f"
             ],
             [
              0.2222222222222222,
              "#7201a8"
             ],
             [
              0.3333333333333333,
              "#9c179e"
             ],
             [
              0.4444444444444444,
              "#bd3786"
             ],
             [
              0.5555555555555556,
              "#d8576b"
             ],
             [
              0.6666666666666666,
              "#ed7953"
             ],
             [
              0.7777777777777778,
              "#fb9f3a"
             ],
             [
              0.8888888888888888,
              "#fdca26"
             ],
             [
              1,
              "#f0f921"
             ]
            ],
            "type": "histogram2dcontour"
           }
          ],
          "mesh3d": [
           {
            "colorbar": {
             "outlinewidth": 0,
             "ticks": ""
            },
            "type": "mesh3d"
           }
          ],
          "parcoords": [
           {
            "line": {
             "colorbar": {
              "outlinewidth": 0,
              "ticks": ""
             }
            },
            "type": "parcoords"
           }
          ],
          "pie": [
           {
            "automargin": true,
            "type": "pie"
           }
          ],
          "scatter": [
           {
            "marker": {
             "colorbar": {
              "outlinewidth": 0,
              "ticks": ""
             }
            },
            "type": "scatter"
           }
          ],
          "scatter3d": [
           {
            "line": {
             "colorbar": {
              "outlinewidth": 0,
              "ticks": ""
             }
            },
            "marker": {
             "colorbar": {
              "outlinewidth": 0,
              "ticks": ""
             }
            },
            "type": "scatter3d"
           }
          ],
          "scattercarpet": [
           {
            "marker": {
             "colorbar": {
              "outlinewidth": 0,
              "ticks": ""
             }
            },
            "type": "scattercarpet"
           }
          ],
          "scattergeo": [
           {
            "marker": {
             "colorbar": {
              "outlinewidth": 0,
              "ticks": ""
             }
            },
            "type": "scattergeo"
           }
          ],
          "scattergl": [
           {
            "marker": {
             "colorbar": {
              "outlinewidth": 0,
              "ticks": ""
             }
            },
            "type": "scattergl"
           }
          ],
          "scattermapbox": [
           {
            "marker": {
             "colorbar": {
              "outlinewidth": 0,
              "ticks": ""
             }
            },
            "type": "scattermapbox"
           }
          ],
          "scatterpolar": [
           {
            "marker": {
             "colorbar": {
              "outlinewidth": 0,
              "ticks": ""
             }
            },
            "type": "scatterpolar"
           }
          ],
          "scatterpolargl": [
           {
            "marker": {
             "colorbar": {
              "outlinewidth": 0,
              "ticks": ""
             }
            },
            "type": "scatterpolargl"
           }
          ],
          "scatterternary": [
           {
            "marker": {
             "colorbar": {
              "outlinewidth": 0,
              "ticks": ""
             }
            },
            "type": "scatterternary"
           }
          ],
          "surface": [
           {
            "colorbar": {
             "outlinewidth": 0,
             "ticks": ""
            },
            "colorscale": [
             [
              0,
              "#0d0887"
             ],
             [
              0.1111111111111111,
              "#46039f"
             ],
             [
              0.2222222222222222,
              "#7201a8"
             ],
             [
              0.3333333333333333,
              "#9c179e"
             ],
             [
              0.4444444444444444,
              "#bd3786"
             ],
             [
              0.5555555555555556,
              "#d8576b"
             ],
             [
              0.6666666666666666,
              "#ed7953"
             ],
             [
              0.7777777777777778,
              "#fb9f3a"
             ],
             [
              0.8888888888888888,
              "#fdca26"
             ],
             [
              1,
              "#f0f921"
             ]
            ],
            "type": "surface"
           }
          ],
          "table": [
           {
            "cells": {
             "fill": {
              "color": "#EBF0F8"
             },
             "line": {
              "color": "white"
             }
            },
            "header": {
             "fill": {
              "color": "#C8D4E3"
             },
             "line": {
              "color": "white"
             }
            },
            "type": "table"
           }
          ]
         },
         "layout": {
          "annotationdefaults": {
           "arrowcolor": "#2a3f5f",
           "arrowhead": 0,
           "arrowwidth": 1
          },
          "autotypenumbers": "strict",
          "coloraxis": {
           "colorbar": {
            "outlinewidth": 0,
            "ticks": ""
           }
          },
          "colorscale": {
           "diverging": [
            [
             0,
             "#8e0152"
            ],
            [
             0.1,
             "#c51b7d"
            ],
            [
             0.2,
             "#de77ae"
            ],
            [
             0.3,
             "#f1b6da"
            ],
            [
             0.4,
             "#fde0ef"
            ],
            [
             0.5,
             "#f7f7f7"
            ],
            [
             0.6,
             "#e6f5d0"
            ],
            [
             0.7,
             "#b8e186"
            ],
            [
             0.8,
             "#7fbc41"
            ],
            [
             0.9,
             "#4d9221"
            ],
            [
             1,
             "#276419"
            ]
           ],
           "sequential": [
            [
             0,
             "#0d0887"
            ],
            [
             0.1111111111111111,
             "#46039f"
            ],
            [
             0.2222222222222222,
             "#7201a8"
            ],
            [
             0.3333333333333333,
             "#9c179e"
            ],
            [
             0.4444444444444444,
             "#bd3786"
            ],
            [
             0.5555555555555556,
             "#d8576b"
            ],
            [
             0.6666666666666666,
             "#ed7953"
            ],
            [
             0.7777777777777778,
             "#fb9f3a"
            ],
            [
             0.8888888888888888,
             "#fdca26"
            ],
            [
             1,
             "#f0f921"
            ]
           ],
           "sequentialminus": [
            [
             0,
             "#0d0887"
            ],
            [
             0.1111111111111111,
             "#46039f"
            ],
            [
             0.2222222222222222,
             "#7201a8"
            ],
            [
             0.3333333333333333,
             "#9c179e"
            ],
            [
             0.4444444444444444,
             "#bd3786"
            ],
            [
             0.5555555555555556,
             "#d8576b"
            ],
            [
             0.6666666666666666,
             "#ed7953"
            ],
            [
             0.7777777777777778,
             "#fb9f3a"
            ],
            [
             0.8888888888888888,
             "#fdca26"
            ],
            [
             1,
             "#f0f921"
            ]
           ]
          },
          "colorway": [
           "#636efa",
           "#EF553B",
           "#00cc96",
           "#ab63fa",
           "#FFA15A",
           "#19d3f3",
           "#FF6692",
           "#B6E880",
           "#FF97FF",
           "#FECB52"
          ],
          "font": {
           "color": "#2a3f5f"
          },
          "geo": {
           "bgcolor": "white",
           "lakecolor": "white",
           "landcolor": "#E5ECF6",
           "showlakes": true,
           "showland": true,
           "subunitcolor": "white"
          },
          "hoverlabel": {
           "align": "left"
          },
          "hovermode": "closest",
          "mapbox": {
           "style": "light"
          },
          "paper_bgcolor": "white",
          "plot_bgcolor": "#E5ECF6",
          "polar": {
           "angularaxis": {
            "gridcolor": "white",
            "linecolor": "white",
            "ticks": ""
           },
           "bgcolor": "#E5ECF6",
           "radialaxis": {
            "gridcolor": "white",
            "linecolor": "white",
            "ticks": ""
           }
          },
          "scene": {
           "xaxis": {
            "backgroundcolor": "#E5ECF6",
            "gridcolor": "white",
            "gridwidth": 2,
            "linecolor": "white",
            "showbackground": true,
            "ticks": "",
            "zerolinecolor": "white"
           },
           "yaxis": {
            "backgroundcolor": "#E5ECF6",
            "gridcolor": "white",
            "gridwidth": 2,
            "linecolor": "white",
            "showbackground": true,
            "ticks": "",
            "zerolinecolor": "white"
           },
           "zaxis": {
            "backgroundcolor": "#E5ECF6",
            "gridcolor": "white",
            "gridwidth": 2,
            "linecolor": "white",
            "showbackground": true,
            "ticks": "",
            "zerolinecolor": "white"
           }
          },
          "shapedefaults": {
           "line": {
            "color": "#2a3f5f"
           }
          },
          "ternary": {
           "aaxis": {
            "gridcolor": "white",
            "linecolor": "white",
            "ticks": ""
           },
           "baxis": {
            "gridcolor": "white",
            "linecolor": "white",
            "ticks": ""
           },
           "bgcolor": "#E5ECF6",
           "caxis": {
            "gridcolor": "white",
            "linecolor": "white",
            "ticks": ""
           }
          },
          "title": {
           "x": 0.05
          },
          "xaxis": {
           "automargin": true,
           "gridcolor": "white",
           "linecolor": "white",
           "ticks": "",
           "title": {
            "standoff": 15
           },
           "zerolinecolor": "white",
           "zerolinewidth": 2
          },
          "yaxis": {
           "automargin": true,
           "gridcolor": "white",
           "linecolor": "white",
           "ticks": "",
           "title": {
            "standoff": 15
           },
           "zerolinecolor": "white",
           "zerolinewidth": 2
          }
         }
        },
        "xaxis": {
         "anchor": "y",
         "domain": [
          0,
          1
         ],
         "title": {
          "text": "speaker_pi"
         }
        },
        "yaxis": {
         "anchor": "x",
         "categoryarray": [
          "Lab",
          "Con"
         ],
         "categoryorder": "array",
         "domain": [
          0,
          1
         ],
         "title": {
          "text": "party"
         }
        }
       }
      }
     },
     "metadata": {},
     "output_type": "display_data"
    }
   ],
   "source": [
    "import plotly.express as px\n",
    "fig = px.scatter(pi_speaker, y=\"party\", x=\"speaker_pi\", color=\"party\", symbol=\"party\")\n",
    "fig.update_traces(marker_size=10)\n",
    "fig.show()"
   ]
  },
  {
   "cell_type": "markdown",
   "metadata": {},
   "source": [
    "## avec les articles "
   ]
  },
  {
   "cell_type": "code",
   "execution_count": 32,
   "metadata": {},
   "outputs": [],
   "source": [
    "df_Guardian = pd.read_csv('00. input/newSplit_topics_bigfive_theGuardian_with_sentibert_post2010.csv')\n",
    "df_DE = pd.read_csv('00. input/new_bigfive_DailyExpress_with_sentibert_post2010.csv')"
   ]
  },
  {
   "cell_type": "markdown",
   "metadata": {},
   "source": [
    "Il faut d'abord effectuer un traitement similaire df_modelisation articles des journdf_modelisation"
   ]
  },
  {
   "cell_type": "code",
   "execution_count": 1,
   "metadata": {},
   "outputs": [],
   "source": [
    "def treat_1(df, party):\n",
    "  df = df[['author', 'fulltext']]\n",
    "  if party == 'Guardian' :\n",
    "    df['party'] = 'Lab'\n",
    "  if party == 'DE' :\n",
    "    df['party'] = 'Con'\n",
    "  df.rename(columns=\n",
    "          {'author' : 'Speaker', 'fulltext':'text'}, inplace=True)\n",
    "  return df"
   ]
  },
  {
   "cell_type": "code",
   "execution_count": 2,
   "metadata": {},
   "outputs": [],
   "source": [
    "def treat_2(df_1,df_2):\n",
    "  df = pd.concat([df_1, df_2])\n",
    "  df.dropna().reset_index(drop=True)\n",
    "  return df"
   ]
  },
  {
   "cell_type": "code",
   "execution_count": 3,
   "metadata": {},
   "outputs": [],
   "source": [
    "def treat_3(df):\n",
    "  df['text'] = df['text'].apply(clean, args=(stop_words,))\n",
    "  return df "
   ]
  },
  {
   "cell_type": "code",
   "execution_count": 4,
   "metadata": {},
   "outputs": [
    {
     "ename": "NameError",
     "evalue": "name 'df_Guardian' is not defined",
     "output_type": "error",
     "traceback": [
      "\u001b[0;31m---------------------------------------------------------------------------\u001b[0m",
      "\u001b[0;31mNameError\u001b[0m                                 Traceback (most recent call last)",
      "\u001b[1;32m/Users/ismailakrout/Desktop/python/NLP_statapp/NLP_project_git/NB_3.ipynb Cellule 37\u001b[0m in \u001b[0;36m<cell line: 1>\u001b[0;34m()\u001b[0m\n\u001b[0;32m----> <a href='vscode-notebook-cell:/Users/ismailakrout/Desktop/python/NLP_statapp/NLP_project_git/NB_3.ipynb#X51sZmlsZQ%3D%3D?line=0'>1</a>\u001b[0m df_Guardian \u001b[39m=\u001b[39m treat_1(df_Guardian, \u001b[39m'\u001b[39m\u001b[39mGuardian\u001b[39m\u001b[39m'\u001b[39m)\n",
      "\u001b[0;31mNameError\u001b[0m: name 'df_Guardian' is not defined"
     ]
    }
   ],
   "source": [
    "df_Guardian = treat_1(df_Guardian, 'Guardian')"
   ]
  },
  {
   "cell_type": "code",
   "execution_count": 5,
   "metadata": {},
   "outputs": [
    {
     "ename": "NameError",
     "evalue": "name 'df_DE' is not defined",
     "output_type": "error",
     "traceback": [
      "\u001b[0;31m---------------------------------------------------------------------------\u001b[0m",
      "\u001b[0;31mNameError\u001b[0m                                 Traceback (most recent call last)",
      "\u001b[1;32m/Users/ismailakrout/Desktop/python/NLP_statapp/NLP_project_git/NB_3.ipynb Cellule 38\u001b[0m in \u001b[0;36m<cell line: 1>\u001b[0;34m()\u001b[0m\n\u001b[0;32m----> <a href='vscode-notebook-cell:/Users/ismailakrout/Desktop/python/NLP_statapp/NLP_project_git/NB_3.ipynb#X52sZmlsZQ%3D%3D?line=0'>1</a>\u001b[0m df_DE \u001b[39m=\u001b[39m treat_1(df_DE, \u001b[39m'\u001b[39m\u001b[39mDE\u001b[39m\u001b[39m'\u001b[39m)\n",
      "\u001b[0;31mNameError\u001b[0m: name 'df_DE' is not defined"
     ]
    }
   ],
   "source": [
    "df_DE = treat_1(df_DE, 'DE')"
   ]
  },
  {
   "cell_type": "code",
   "execution_count": null,
   "metadata": {},
   "outputs": [],
   "source": [
    "df_newspaper = treat_2(df_Guardian, df_DE)"
   ]
  },
  {
   "cell_type": "code",
   "execution_count": null,
   "metadata": {},
   "outputs": [],
   "source": [
    "df_newspaper = df_newspaper.sample(frac=1).reset_index(drop=True)\n",
    "df_newspaper = df_newspaper.head(1000)"
   ]
  },
  {
   "cell_type": "code",
   "execution_count": null,
   "metadata": {},
   "outputs": [],
   "source": [
    "df_newspaper = treat_3(df_newspaper)"
   ]
  },
  {
   "cell_type": "code",
   "execution_count": null,
   "metadata": {},
   "outputs": [],
   "source": [
    "df_newspaper_treated = df_newspaper"
   ]
  },
  {
   "cell_type": "code",
   "execution_count": null,
   "metadata": {},
   "outputs": [],
   "source": [
    "df_newspaper_treated = df_newspaper_treated.groupby(by=['Speaker', 'party']).sum().reset_index()"
   ]
  },
  {
   "cell_type": "code",
   "execution_count": null,
   "metadata": {},
   "outputs": [],
   "source": [
    "df_freqs_Con = count_freqs(df_newspaper_treated, 'Con')\n",
    "df_freqs_Lab = count_freqs(df_newspaper_treated, 'Lab')"
   ]
  },
  {
   "cell_type": "code",
   "execution_count": null,
   "metadata": {},
   "outputs": [],
   "source": [
    "df_freqs = merge_freq(df_freqs_Con, df_freqs_Lab)"
   ]
  },
  {
   "cell_type": "code",
   "execution_count": null,
   "metadata": {},
   "outputs": [],
   "source": [
    "list_of_words = selected_words(df_freqs)"
   ]
  },
  {
   "cell_type": "code",
   "execution_count": null,
   "metadata": {},
   "outputs": [],
   "source": [
    "df_newspaper_treated = construct_df_reg(df_newspaper_treated, df_freqs, list_of_words)"
   ]
  },
  {
   "cell_type": "code",
   "execution_count": null,
   "metadata": {},
   "outputs": [],
   "source": [
    "df_newspaper_treated['Unnamed: 0'] = 0"
   ]
  },
  {
   "cell_type": "code",
   "execution_count": null,
   "metadata": {},
   "outputs": [],
   "source": [
    "LO_treatment(df_newspaper_treated)"
   ]
  },
  {
   "cell_type": "code",
   "execution_count": null,
   "metadata": {},
   "outputs": [],
   "source": [
    "def treat_fonction(df_1, df_2):\n",
    "  df_newspaper = treat_2(df_1, df_2)\n",
    "  df_newspaper = df_newspaper.sample(frac=1).reset_index(drop=True)\n",
    "  df_newspaper = df_newspaper.head(100)\n",
    "  df_newspaper = treat_3(df_newspaper)\n",
    "  df_newspaper_treated = df_newspaper\n",
    "  df_newspaper_treated = df_newspaper_treated.groupby(by=['Speaker', 'party']).sum().reset_index()\n",
    "  df_freqs_Con = count_freqs(df_newspaper_treated, 'Con')\n",
    "  df_freqs_Lab = count_freqs(df_newspaper_treated, 'Lab')\n",
    "  df_freqs = merge_freq(df_freqs_Con, df_freqs_Lab)\n",
    "  list_of_words = selected_words(df_freqs)\n",
    "  df_newspaper_treated = construct_df_reg(df_newspaper_treated, df_freqs, list_of_words)\n",
    "  df_newspaper_treated['Unnamed: 0'] = 0\n",
    "  return LO_treatment(df_newspaper_treated)"
   ]
  },
  {
   "cell_type": "code",
   "execution_count": null,
   "metadata": {},
   "outputs": [],
   "source": [
    "treat_fonction(df_Guardian, df_DE)"
   ]
  },
  {
   "cell_type": "markdown",
   "metadata": {},
   "source": [
    "# **Évolution de la polarisation dans le temps**"
   ]
  },
  {
   "cell_type": "code",
   "execution_count": null,
   "metadata": {},
   "outputs": [],
   "source": [
    "df_Guardian = pd.read_csv('/content/drive/MyDrive/Statapp_TextDigit/Stage_2022/data/TheGuardian/newSplit_topics_bigfive_theGuardian_with_sentibert_post2010.csv')\n",
    "df_DE = pd.read_csv('/content/drive/MyDrive/Statapp_TextDigit/Stage_2022/data/DailyExpress/new_bigfive_DailyExpress_with_sentibert_post2010.csv')"
   ]
  },
  {
   "cell_type": "code",
   "execution_count": null,
   "metadata": {},
   "outputs": [],
   "source": [
    "def treat_1_date(df, party, year):\n",
    "  df = df.loc[df['year'] == year]\n",
    "  df = df[['author', 'fulltext']]\n",
    "  if party == 'Guardian' :\n",
    "    df['party'] = 'Lab'\n",
    "  if party == 'DE' :\n",
    "    df['party'] = 'Con'\n",
    "  df.rename(columns=\n",
    "          {'author' : 'Speaker', 'fulltext':'text'}, inplace=True)\n",
    "  return df"
   ]
  },
  {
   "cell_type": "code",
   "execution_count": null,
   "metadata": {},
   "outputs": [],
   "source": [
    "def treat_fonction(df_1, df_2):\n",
    "  df_newspaper = treat_2(df_1, df_2)\n",
    "  df_newspaper = df_newspaper.sample(frac=1).reset_index(drop=True)\n",
    "  df_newspaper = df_newspaper.head(100)\n",
    "  df_newspaper = treat_3(df_newspaper)\n",
    "  df_newspaper_treated = df_newspaper\n",
    "  df_newspaper_treated = df_newspaper_treated.groupby(by=['Speaker', 'party']).sum().reset_index()\n",
    "  df_freqs_Con = count_freqs(df_newspaper_treated, 'Con')\n",
    "  df_freqs_Lab = count_freqs(df_newspaper_treated, 'Lab')\n",
    "  df_freqs = merge_freq(df_freqs_Con, df_freqs_Lab)\n",
    "  list_of_words = selected_words(df_freqs)\n",
    "  df_newspaper_treated = construct_df_reg(df_newspaper_treated, df_freqs, list_of_words)\n",
    "  df_newspaper_treated['Unnamed: 0'] = 0\n",
    "  print('SORTIE')\n",
    "  return LO_treatment(df_newspaper_treated)"
   ]
  },
  {
   "cell_type": "code",
   "execution_count": null,
   "metadata": {},
   "outputs": [],
   "source": [
    "df_1 = treat_1_date(df_Guardian, 'Guardian', 2020)\n",
    "df_2 = treat_1_date(df_DE, 'DE', 2020)"
   ]
  },
  {
   "cell_type": "code",
   "execution_count": null,
   "metadata": {},
   "outputs": [],
   "source": [
    "treat_fonction(df_1, df_2)"
   ]
  },
  {
   "cell_type": "code",
   "execution_count": null,
   "metadata": {},
   "outputs": [],
   "source": [
    "evolution_of_pi = []"
   ]
  },
  {
   "cell_type": "code",
   "execution_count": null,
   "metadata": {},
   "outputs": [],
   "source": [
    "for year in range(2010, 2023 ):\n",
    "  df_a = treat_1_date(df_Guardian, 'Guardian', year)\n",
    "  df_b = treat_1_date(df_DE, 'DE', year)\n",
    "  pi = treat_fonction(df_a, df_b)\n",
    "  evolution_of_pi.append(pi)\n",
    "  print(evolution_of_pi, 'BOUCLE')"
   ]
  },
  {
   "cell_type": "code",
   "execution_count": null,
   "metadata": {},
   "outputs": [],
   "source": [
    "evolution_of_pi"
   ]
  },
  {
   "cell_type": "code",
   "execution_count": null,
   "metadata": {},
   "outputs": [],
   "source": [
    "plt.plot([i for i in range(2010, 2023)], evolution_of_pi)\n",
    "plt.show()"
   ]
  },
  {
   "cell_type": "markdown",
   "metadata": {},
   "source": [
    "# **Partisanship des mots**"
   ]
  },
  {
   "cell_type": "code",
   "execution_count": null,
   "metadata": {},
   "outputs": [],
   "source": [
    "df_Guardian = pd.read_csv('/content/drive/MyDrive/Statapp_TextDigit/Stage_2022/data/TheGuardian/newSplit_topics_bigfive_theGuardian_with_sentibert_post2010.csv')\n",
    "df_DE = pd.read_csv('/content/drive/MyDrive/Statapp_TextDigit/Stage_2022/data/DailyExpress/new_bigfive_DailyExpress_with_sentibert_post2010.csv')"
   ]
  },
  {
   "cell_type": "code",
   "execution_count": null,
   "metadata": {},
   "outputs": [],
   "source": [
    "df_Guardian = treat_1(df_Guardian, 'Guardian')\n",
    "df_DE = treat_1(df_DE, 'DE')"
   ]
  },
  {
   "cell_type": "code",
   "execution_count": null,
   "metadata": {},
   "outputs": [],
   "source": [
    "df_Guardian = treat_1(df_Guardian, 'Guardian')\n",
    "df_DE = treat_1(df_DE, 'DE')"
   ]
  },
  {
   "cell_type": "code",
   "execution_count": null,
   "metadata": {},
   "outputs": [],
   "source": [
    "def treat_table(df_1, df_2):\n",
    "  df_newspaper = treat_2(df_1, df_2)\n",
    "  df_newspaper = df_newspaper.sample(frac=1).reset_index(drop=True)\n",
    "  df_newspaper = df_newspaper.head(100)\n",
    "  df_newspaper = treat_3(df_newspaper)\n",
    "  df_newspaper_treated = df_newspaper\n",
    "  df_newspaper_treated = df_newspaper_treated.groupby(by=['Speaker', 'party']).sum().reset_index()\n",
    "  df_freqs_Con = count_freqs(df_newspaper_treated, 'Con')\n",
    "  df_freqs_Lab = count_freqs(df_newspaper_treated, 'Lab')\n",
    "  df_freqs = merge_freq(df_freqs_Con, df_freqs_Lab)\n",
    "  list_of_words = selected_words(df_freqs)\n",
    "  df_newspaper_treated = construct_df_reg(df_newspaper_treated, df_freqs, list_of_words)\n",
    "  df_newspaper_treated['Unnamed: 0'] = 0\n",
    "  return LO_treatment_table(df_newspaper_treated)"
   ]
  },
  {
   "cell_type": "code",
   "execution_count": null,
   "metadata": {},
   "outputs": [],
   "source": [
    "table_Con, table_Lab = treat_table(df_Guardian, df_DE)"
   ]
  },
  {
   "cell_type": "code",
   "execution_count": null,
   "metadata": {},
   "outputs": [],
   "source": [
    "table_Con.dropna().reset_index(drop=True)\n",
    "table_Lab.dropna().reset_index(drop=True)"
   ]
  }
 ],
 "metadata": {
  "kernelspec": {
   "display_name": "Python 3.9.12 ('base')",
   "language": "python",
   "name": "python3"
  },
  "language_info": {
   "codemirror_mode": {
    "name": "ipython",
    "version": 3
   },
   "file_extension": ".py",
   "mimetype": "text/x-python",
   "name": "python",
   "nbconvert_exporter": "python",
   "pygments_lexer": "ipython3",
   "version": "3.9.12"
  },
  "orig_nbformat": 4,
  "vscode": {
   "interpreter": {
    "hash": "0704e9e7027e30b245531b4e60cb4aaf65b18a7e325eaeb71f06804e85db260f"
   }
  }
 },
 "nbformat": 4,
 "nbformat_minor": 2
}
