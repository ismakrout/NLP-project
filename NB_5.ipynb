{
 "cells": [
  {
   "cell_type": "code",
   "execution_count": 1,
   "metadata": {},
   "outputs": [
    {
     "name": "stderr",
     "output_type": "stream",
     "text": [
      "[nltk_data] Downloading package stopwords to\n",
      "[nltk_data]     /Users/ismailakrout/nltk_data...\n",
      "[nltk_data]   Package stopwords is already up-to-date!\n",
      "[nltk_data] Downloading package punkt to\n",
      "[nltk_data]     /Users/ismailakrout/nltk_data...\n",
      "[nltk_data]   Package punkt is already up-to-date!\n"
     ]
    }
   ],
   "source": [
    "import pandas as pd\n",
    "import numpy as np\n",
    "import csv \n",
    "import matplotlib.pyplot as plt\n",
    "import spacy\n",
    "import math\n",
    "import os\n",
    "import statsmodels.api as sm\n",
    "\n",
    "from src.utils import *\n",
    "from src.data_preprocessing import *\n",
    "from src.data_processing import *\n",
    "from src.feature_selection import *\n",
    "from src.modelisation_arcticle_1 import *\n",
    "from src.modelisation_arcticle_2 import *\n",
    "\n",
    "os.chdir('/Users/ismailakrout/Desktop/python/NLP_statapp')\n",
    "\n",
    "pd.set_option(\"display.max_columns\", None)"
   ]
  },
  {
   "cell_type": "code",
   "execution_count": 2,
   "metadata": {},
   "outputs": [],
   "source": [
    "# pour ne pas charger le NB avec des warnings \n",
    "import warnings \n",
    "warnings.filterwarnings('ignore')"
   ]
  },
  {
   "cell_type": "markdown",
   "metadata": {},
   "source": [
    "## Pour les journaux"
   ]
  },
  {
   "cell_type": "code",
   "execution_count": 3,
   "metadata": {},
   "outputs": [],
   "source": [
    "df_daily_express = pd.read_csv('00. input/new_bigfive_DailyExpress_with_sentibert_post2010.csv', encoding='utf-8')\n",
    "df_the_guardian = pd.read_csv('00. input/newSplit_topics_bigfive_theGuardian_with_sentibert_post2010.csv', encoding='utf-8')"
   ]
  },
  {
   "cell_type": "code",
   "execution_count": 4,
   "metadata": {},
   "outputs": [
    {
     "data": {
      "image/png": "[encoded data removed]",
      "text/plain": [
       "<Figure size 432x288 with 1 Axes>"
      ]
     },
     "metadata": {
      "needs_background": "light"
     },
     "output_type": "display_data"
    }
   ],
   "source": [
    "aux_graphique_daily = pd.DataFrame(df_daily_express['year'].value_counts()).reset_index().sort_values(by=['index'])\n",
    "aux_graphique_daily.plot(x='index', y='year', kind='scatter')\n",
    "plt.show()"
   ]
  },
  {
   "cell_type": "code",
   "execution_count": 5,
   "metadata": {},
   "outputs": [
    {
     "data": {
      "image/png": "[encoded data removed]",
      "text/plain": [
       "<Figure size 432x288 with 1 Axes>"
      ]
     },
     "metadata": {
      "needs_background": "light"
     },
     "output_type": "display_data"
    }
   ],
   "source": [
    "aux_graphique_guardian = pd.DataFrame(df_the_guardian['year'].value_counts()).reset_index().sort_values(by=['index'])\n",
    "aux_graphique_guardian.plot(x='index', y='year', kind='scatter')\n",
    "plt.show()"
   ]
  },
  {
   "cell_type": "code",
   "execution_count": 6,
   "metadata": {},
   "outputs": [],
   "source": [
    "df_daily_express = df_daily_express[['year', 'fulltext']]\n",
    "df_daily_express['party'] = 'Con'\n"
   ]
  },
  {
   "cell_type": "code",
   "execution_count": 7,
   "metadata": {},
   "outputs": [],
   "source": [
    "df_the_guardian = df_the_guardian[['year', 'fulltext']]\n",
    "df_the_guardian['party'] = 'Lab'\n"
   ]
  },
  {
   "cell_type": "code",
   "execution_count": 8,
   "metadata": {},
   "outputs": [],
   "source": [
    "df = pd.concat([df_daily_express, df_the_guardian])\n",
    "df.rename(columns={\n",
    "    'fulltext': 'text'\n",
    "}, inplace=True)"
   ]
  },
  {
   "cell_type": "code",
   "execution_count": 9,
   "metadata": {},
   "outputs": [],
   "source": [
    "df = df.sample(frac=1)[:100]"
   ]
  },
  {
   "cell_type": "code",
   "execution_count": 10,
   "metadata": {},
   "outputs": [],
   "source": [
    "# il faut une minute pour 1000 lignes\n",
    "# donc il me faudra 30 minutes pour faire tourner avec toute la base \n",
    "# puis je fais le calcul des fréquences\n",
    " \n",
    "df['text'] = df['fulltext'].apply(clean, args=('bigram',))\n"
   ]
  },
  {
   "cell_type": "code",
   "execution_count": 14,
   "metadata": {},
   "outputs": [
    {
     "data": {
      "text/html": [
       "<div>\n",
       "<style scoped>\n",
       "    .dataframe tbody tr th:only-of-type {\n",
       "        vertical-align: middle;\n",
       "    }\n",
       "\n",
       "    .dataframe tbody tr th {\n",
       "        vertical-align: top;\n",
       "    }\n",
       "\n",
       "    .dataframe thead th {\n",
       "        text-align: right;\n",
       "    }\n",
       "</style>\n",
       "<table border=\"1\" class=\"dataframe\">\n",
       "  <thead>\n",
       "    <tr style=\"text-align: right;\">\n",
       "      <th></th>\n",
       "      <th>year</th>\n",
       "      <th>fulltext</th>\n",
       "      <th>party_dummy</th>\n",
       "      <th>party</th>\n",
       "      <th>text</th>\n",
       "    </tr>\n",
       "  </thead>\n",
       "  <tbody>\n",
       "    <tr>\n",
       "      <th>10983</th>\n",
       "      <td>2021</td>\n",
       "      <td>Vikings is a historical drama that holds some ...</td>\n",
       "      <td>Con</td>\n",
       "      <td>NaN</td>\n",
       "      <td>[vike histor, histor drama, drama hold, hold t...</td>\n",
       "    </tr>\n",
       "    <tr>\n",
       "      <th>1569</th>\n",
       "      <td>2015</td>\n",
       "      <td>The 31-year-old entrepreneur announced the new...</td>\n",
       "      <td>Con</td>\n",
       "      <td>NaN</td>\n",
       "      <td>[yearold entrepreneur, entrepreneur announc, a...</td>\n",
       "    </tr>\n",
       "    <tr>\n",
       "      <th>11938</th>\n",
       "      <td>2021</td>\n",
       "      <td>Tesco is fighting back against Amazon with its...</td>\n",
       "      <td>NaN</td>\n",
       "      <td>Lab</td>\n",
       "      <td>[tesco fight, fight back, back amazon, amazon ...</td>\n",
       "    </tr>\n",
       "    <tr>\n",
       "      <th>1636</th>\n",
       "      <td>2011</td>\n",
       "      <td>Someone tweeting about a nasty cold or updatin...</td>\n",
       "      <td>NaN</td>\n",
       "      <td>Lab</td>\n",
       "      <td>[someon tweet, tweet nasti, nasti cold, cold u...</td>\n",
       "    </tr>\n",
       "    <tr>\n",
       "      <th>8447</th>\n",
       "      <td>2019</td>\n",
       "      <td>The 2019/20 season marks the first time Amazon...</td>\n",
       "      <td>Con</td>\n",
       "      <td>NaN</td>\n",
       "      <td>[season mark, mark first, first time, time ama...</td>\n",
       "    </tr>\n",
       "    <tr>\n",
       "      <th>...</th>\n",
       "      <td>...</td>\n",
       "      <td>...</td>\n",
       "      <td>...</td>\n",
       "      <td>...</td>\n",
       "      <td>...</td>\n",
       "    </tr>\n",
       "    <tr>\n",
       "      <th>11468</th>\n",
       "      <td>2021</td>\n",
       "      <td>\\n New Zealand Prime Minister Jacinda Arder...</td>\n",
       "      <td>Con</td>\n",
       "      <td>NaN</td>\n",
       "      <td>[new zealand, zealand prime, prime minist, min...</td>\n",
       "    </tr>\n",
       "    <tr>\n",
       "      <th>3589</th>\n",
       "      <td>2017</td>\n",
       "      <td>The final Xbox Scorpio price and release date ...</td>\n",
       "      <td>Con</td>\n",
       "      <td>NaN</td>\n",
       "      <td>[final xbox, xbox scorpio, scorpio price, pric...</td>\n",
       "    </tr>\n",
       "    <tr>\n",
       "      <th>6673</th>\n",
       "      <td>2019</td>\n",
       "      <td>Google Maps Street View is something many peop...</td>\n",
       "      <td>Con</td>\n",
       "      <td>NaN</td>\n",
       "      <td>[googl map, map street, street view, view some...</td>\n",
       "    </tr>\n",
       "    <tr>\n",
       "      <th>7257</th>\n",
       "      <td>2019</td>\n",
       "      <td>The new Google Pixel 3a already offers some se...</td>\n",
       "      <td>Con</td>\n",
       "      <td>NaN</td>\n",
       "      <td>[new googl, googl pixel, pixel alreadi, alread...</td>\n",
       "    </tr>\n",
       "    <tr>\n",
       "      <th>536</th>\n",
       "      <td>2010</td>\n",
       "      <td></td>\n",
       "      <td>NaN</td>\n",
       "      <td>Lab</td>\n",
       "      <td>[]</td>\n",
       "    </tr>\n",
       "  </tbody>\n",
       "</table>\n",
       "<p>100 rows × 5 columns</p>\n",
       "</div>"
      ],
      "text/plain": [
       "       year                                           fulltext party_dummy  \\\n",
       "10983  2021  Vikings is a historical drama that holds some ...         Con   \n",
       "1569   2015  The 31-year-old entrepreneur announced the new...         Con   \n",
       "11938  2021  Tesco is fighting back against Amazon with its...         NaN   \n",
       "1636   2011  Someone tweeting about a nasty cold or updatin...         NaN   \n",
       "8447   2019  The 2019/20 season marks the first time Amazon...         Con   \n",
       "...     ...                                                ...         ...   \n",
       "11468  2021     \\n New Zealand Prime Minister Jacinda Arder...         Con   \n",
       "3589   2017  The final Xbox Scorpio price and release date ...         Con   \n",
       "6673   2019  Google Maps Street View is something many peop...         Con   \n",
       "7257   2019  The new Google Pixel 3a already offers some se...         Con   \n",
       "536    2010                                                            NaN   \n",
       "\n",
       "      party                                               text  \n",
       "10983   NaN  [vike histor, histor drama, drama hold, hold t...  \n",
       "1569    NaN  [yearold entrepreneur, entrepreneur announc, a...  \n",
       "11938   Lab  [tesco fight, fight back, back amazon, amazon ...  \n",
       "1636    Lab  [someon tweet, tweet nasti, nasti cold, cold u...  \n",
       "8447    NaN  [season mark, mark first, first time, time ama...  \n",
       "...     ...                                                ...  \n",
       "11468   NaN  [new zealand, zealand prime, prime minist, min...  \n",
       "3589    NaN  [final xbox, xbox scorpio, scorpio price, pric...  \n",
       "6673    NaN  [googl map, map street, street view, view some...  \n",
       "7257    NaN  [new googl, googl pixel, pixel alreadi, alread...  \n",
       "536     Lab                                                 []  \n",
       "\n",
       "[100 rows x 5 columns]"
      ]
     },
     "execution_count": 14,
     "metadata": {},
     "output_type": "execute_result"
    }
   ],
   "source": [
    "df"
   ]
  },
  {
   "cell_type": "code",
   "execution_count": 12,
   "metadata": {},
   "outputs": [
    {
     "ename": "KeyError",
     "evalue": "'Con'",
     "output_type": "error",
     "traceback": [
      "\u001b[0;31m---------------------------------------------------------------------------\u001b[0m",
      "\u001b[0;31mKeyError\u001b[0m                                  Traceback (most recent call last)",
      "File \u001b[0;32m~/opt/anaconda3/lib/python3.9/site-packages/pandas/core/indexes/base.py:3621\u001b[0m, in \u001b[0;36mIndex.get_loc\u001b[0;34m(self, key, method, tolerance)\u001b[0m\n\u001b[1;32m   3620\u001b[0m \u001b[39mtry\u001b[39;00m:\n\u001b[0;32m-> 3621\u001b[0m     \u001b[39mreturn\u001b[39;00m \u001b[39mself\u001b[39;49m\u001b[39m.\u001b[39;49m_engine\u001b[39m.\u001b[39;49mget_loc(casted_key)\n\u001b[1;32m   3622\u001b[0m \u001b[39mexcept\u001b[39;00m \u001b[39mKeyError\u001b[39;00m \u001b[39mas\u001b[39;00m err:\n",
      "File \u001b[0;32m~/opt/anaconda3/lib/python3.9/site-packages/pandas/_libs/index.pyx:136\u001b[0m, in \u001b[0;36mpandas._libs.index.IndexEngine.get_loc\u001b[0;34m()\u001b[0m\n",
      "File \u001b[0;32m~/opt/anaconda3/lib/python3.9/site-packages/pandas/_libs/index.pyx:163\u001b[0m, in \u001b[0;36mpandas._libs.index.IndexEngine.get_loc\u001b[0;34m()\u001b[0m\n",
      "File \u001b[0;32mpandas/_libs/hashtable_class_helper.pxi:5198\u001b[0m, in \u001b[0;36mpandas._libs.hashtable.PyObjectHashTable.get_item\u001b[0;34m()\u001b[0m\n",
      "File \u001b[0;32mpandas/_libs/hashtable_class_helper.pxi:5206\u001b[0m, in \u001b[0;36mpandas._libs.hashtable.PyObjectHashTable.get_item\u001b[0;34m()\u001b[0m\n",
      "\u001b[0;31mKeyError\u001b[0m: 'Con'",
      "\nThe above exception was the direct cause of the following exception:\n",
      "\u001b[0;31mKeyError\u001b[0m                                  Traceback (most recent call last)",
      "\u001b[1;32m/Users/ismailakrout/Desktop/python/NLP_statapp/NLP_project_git/NB_5.ipynb Cellule 13\u001b[0m in \u001b[0;36m<cell line: 1>\u001b[0;34m()\u001b[0m\n\u001b[0;32m----> <a href='vscode-notebook-cell:/Users/ismailakrout/Desktop/python/NLP_statapp/NLP_project_git/NB_5.ipynb#X15sZmlsZQ%3D%3D?line=0'>1</a>\u001b[0m df_freqs_Con \u001b[39m=\u001b[39m count_freqs(df, \u001b[39m'\u001b[39;49m\u001b[39mCon\u001b[39;49m\u001b[39m'\u001b[39;49m)\n\u001b[1;32m      <a href='vscode-notebook-cell:/Users/ismailakrout/Desktop/python/NLP_statapp/NLP_project_git/NB_5.ipynb#X15sZmlsZQ%3D%3D?line=1'>2</a>\u001b[0m df_freqs_Lab \u001b[39m=\u001b[39m count_freqs(df, \u001b[39m'\u001b[39m\u001b[39mLab\u001b[39m\u001b[39m'\u001b[39m)\n\u001b[1;32m      <a href='vscode-notebook-cell:/Users/ismailakrout/Desktop/python/NLP_statapp/NLP_project_git/NB_5.ipynb#X15sZmlsZQ%3D%3D?line=2'>3</a>\u001b[0m df_freqs \u001b[39m=\u001b[39m merge_freq(df_freqs_Con, df_freqs_Lab)\n",
      "File \u001b[0;32m~/Desktop/python/NLP_statapp/NLP_project_git/src/data_processing.py:130\u001b[0m, in \u001b[0;36mcount_freqs\u001b[0;34m(df, party)\u001b[0m\n\u001b[1;32m    120\u001b[0m \u001b[39m'''\u001b[39;00m\n\u001b[1;32m    121\u001b[0m \u001b[39mprend en input le DataFrame\u001b[39;00m\n\u001b[1;32m    122\u001b[0m \u001b[39mrenvoie le df des fréquences pour un parti donné\u001b[39;00m\n\u001b[0;32m   (...)\u001b[0m\n\u001b[1;32m    127\u001b[0m \u001b[39mparty : le parti politique pour lequel on souhaite les freqs \u001b[39;00m\n\u001b[1;32m    128\u001b[0m \u001b[39m'''\u001b[39;00m  \n\u001b[1;32m    129\u001b[0m aux \u001b[39m=\u001b[39m df[[\u001b[39m'\u001b[39m\u001b[39mparty\u001b[39m\u001b[39m'\u001b[39m, \u001b[39m'\u001b[39m\u001b[39mtext\u001b[39m\u001b[39m'\u001b[39m]] \n\u001b[0;32m--> 130\u001b[0m list_of_words \u001b[39m=\u001b[39m pd\u001b[39m.\u001b[39mSeries(aux\u001b[39m.\u001b[39;49mgroupby(by\u001b[39m=\u001b[39;49m[\u001b[39m'\u001b[39;49m\u001b[39mparty\u001b[39;49m\u001b[39m'\u001b[39;49m])\u001b[39m.\u001b[39;49msum()\u001b[39m.\u001b[39;49mloc[party, \u001b[39m'\u001b[39;49m\u001b[39mtext\u001b[39;49m\u001b[39m'\u001b[39;49m])\n\u001b[1;32m    131\u001b[0m freq_df \u001b[39m=\u001b[39m pd\u001b[39m.\u001b[39mDataFrame(list_of_words\u001b[39m.\u001b[39mvalue_counts(), columns\u001b[39m=\u001b[39m[\u001b[39mf\u001b[39m\u001b[39m'\u001b[39m\u001b[39mfreq_\u001b[39m\u001b[39m{\u001b[39;00mparty\u001b[39m}\u001b[39;00m\u001b[39m'\u001b[39m])\n\u001b[1;32m    132\u001b[0m freq_df \u001b[39m=\u001b[39m freq_df\u001b[39m.\u001b[39mreset_index()\u001b[39m.\u001b[39mrename(columns\u001b[39m=\u001b[39m{\u001b[39m'\u001b[39m\u001b[39mindex\u001b[39m\u001b[39m'\u001b[39m:\u001b[39m\"\u001b[39m\u001b[39mwords\u001b[39m\u001b[39m\"\u001b[39m})\n",
      "File \u001b[0;32m~/opt/anaconda3/lib/python3.9/site-packages/pandas/core/indexing.py:960\u001b[0m, in \u001b[0;36m_LocationIndexer.__getitem__\u001b[0;34m(self, key)\u001b[0m\n\u001b[1;32m    958\u001b[0m     key \u001b[39m=\u001b[39m \u001b[39mtuple\u001b[39m(com\u001b[39m.\u001b[39mapply_if_callable(x, \u001b[39mself\u001b[39m\u001b[39m.\u001b[39mobj) \u001b[39mfor\u001b[39;00m x \u001b[39min\u001b[39;00m key)\n\u001b[1;32m    959\u001b[0m     \u001b[39mif\u001b[39;00m \u001b[39mself\u001b[39m\u001b[39m.\u001b[39m_is_scalar_access(key):\n\u001b[0;32m--> 960\u001b[0m         \u001b[39mreturn\u001b[39;00m \u001b[39mself\u001b[39;49m\u001b[39m.\u001b[39;49mobj\u001b[39m.\u001b[39;49m_get_value(\u001b[39m*\u001b[39;49mkey, takeable\u001b[39m=\u001b[39;49m\u001b[39mself\u001b[39;49m\u001b[39m.\u001b[39;49m_takeable)\n\u001b[1;32m    961\u001b[0m     \u001b[39mreturn\u001b[39;00m \u001b[39mself\u001b[39m\u001b[39m.\u001b[39m_getitem_tuple(key)\n\u001b[1;32m    962\u001b[0m \u001b[39melse\u001b[39;00m:\n\u001b[1;32m    963\u001b[0m     \u001b[39m# we by definition only have the 0th axis\u001b[39;00m\n",
      "File \u001b[0;32m~/opt/anaconda3/lib/python3.9/site-packages/pandas/core/frame.py:3622\u001b[0m, in \u001b[0;36mDataFrame._get_value\u001b[0;34m(self, index, col, takeable)\u001b[0m\n\u001b[1;32m   3616\u001b[0m engine \u001b[39m=\u001b[39m \u001b[39mself\u001b[39m\u001b[39m.\u001b[39mindex\u001b[39m.\u001b[39m_engine\n\u001b[1;32m   3618\u001b[0m \u001b[39mif\u001b[39;00m \u001b[39mnot\u001b[39;00m \u001b[39misinstance\u001b[39m(\u001b[39mself\u001b[39m\u001b[39m.\u001b[39mindex, MultiIndex):\n\u001b[1;32m   3619\u001b[0m     \u001b[39m# CategoricalIndex: Trying to use the engine fastpath may give incorrect\u001b[39;00m\n\u001b[1;32m   3620\u001b[0m     \u001b[39m#  results if our categories are integers that dont match our codes\u001b[39;00m\n\u001b[1;32m   3621\u001b[0m     \u001b[39m# IntervalIndex: IntervalTree has no get_loc\u001b[39;00m\n\u001b[0;32m-> 3622\u001b[0m     row \u001b[39m=\u001b[39m \u001b[39mself\u001b[39;49m\u001b[39m.\u001b[39;49mindex\u001b[39m.\u001b[39;49mget_loc(index)\n\u001b[1;32m   3623\u001b[0m     \u001b[39mreturn\u001b[39;00m series\u001b[39m.\u001b[39m_values[row]\n\u001b[1;32m   3625\u001b[0m \u001b[39m# For MultiIndex going through engine effectively restricts us to\u001b[39;00m\n\u001b[1;32m   3626\u001b[0m \u001b[39m#  same-length tuples; see test_get_set_value_no_partial_indexing\u001b[39;00m\n",
      "File \u001b[0;32m~/opt/anaconda3/lib/python3.9/site-packages/pandas/core/indexes/base.py:3623\u001b[0m, in \u001b[0;36mIndex.get_loc\u001b[0;34m(self, key, method, tolerance)\u001b[0m\n\u001b[1;32m   3621\u001b[0m     \u001b[39mreturn\u001b[39;00m \u001b[39mself\u001b[39m\u001b[39m.\u001b[39m_engine\u001b[39m.\u001b[39mget_loc(casted_key)\n\u001b[1;32m   3622\u001b[0m \u001b[39mexcept\u001b[39;00m \u001b[39mKeyError\u001b[39;00m \u001b[39mas\u001b[39;00m err:\n\u001b[0;32m-> 3623\u001b[0m     \u001b[39mraise\u001b[39;00m \u001b[39mKeyError\u001b[39;00m(key) \u001b[39mfrom\u001b[39;00m \u001b[39merr\u001b[39;00m\n\u001b[1;32m   3624\u001b[0m \u001b[39mexcept\u001b[39;00m \u001b[39mTypeError\u001b[39;00m:\n\u001b[1;32m   3625\u001b[0m     \u001b[39m# If we have a listlike key, _check_indexing_error will raise\u001b[39;00m\n\u001b[1;32m   3626\u001b[0m     \u001b[39m#  InvalidIndexError. Otherwise we fall through and re-raise\u001b[39;00m\n\u001b[1;32m   3627\u001b[0m     \u001b[39m#  the TypeError.\u001b[39;00m\n\u001b[1;32m   3628\u001b[0m     \u001b[39mself\u001b[39m\u001b[39m.\u001b[39m_check_indexing_error(key)\n",
      "\u001b[0;31mKeyError\u001b[0m: 'Con'"
     ]
    }
   ],
   "source": [
    "df_freqs_Con = count_freqs(df, 'Con')\n",
    "df_freqs_Lab = count_freqs(df, 'Lab')\n",
    "df_freqs = merge_freq(df_freqs_Con, df_freqs_Lab)"
   ]
  },
  {
   "cell_type": "code",
   "execution_count": 19,
   "metadata": {},
   "outputs": [
    {
     "data": {
      "text/html": [
       "<div>\n",
       "<style scoped>\n",
       "    .dataframe tbody tr th:only-of-type {\n",
       "        vertical-align: middle;\n",
       "    }\n",
       "\n",
       "    .dataframe tbody tr th {\n",
       "        vertical-align: top;\n",
       "    }\n",
       "\n",
       "    .dataframe thead th {\n",
       "        text-align: right;\n",
       "    }\n",
       "</style>\n",
       "<table border=\"1\" class=\"dataframe\">\n",
       "  <thead>\n",
       "    <tr style=\"text-align: right;\">\n",
       "      <th></th>\n",
       "      <th>words</th>\n",
       "      <th>freq_Con</th>\n",
       "      <th>freq_Lab</th>\n",
       "    </tr>\n",
       "  </thead>\n",
       "  <tbody>\n",
       "    <tr>\n",
       "      <th>0</th>\n",
       "      <td>hon friend</td>\n",
       "      <td>665.0</td>\n",
       "      <td>265.0</td>\n",
       "    </tr>\n",
       "    <tr>\n",
       "      <th>1</th>\n",
       "      <td>right hon</td>\n",
       "      <td>341.0</td>\n",
       "      <td>112.0</td>\n",
       "    </tr>\n",
       "    <tr>\n",
       "      <th>2</th>\n",
       "      <td>hon gentleman</td>\n",
       "      <td>325.0</td>\n",
       "      <td>177.0</td>\n",
       "    </tr>\n",
       "    <tr>\n",
       "      <th>3</th>\n",
       "      <td>hon member</td>\n",
       "      <td>240.0</td>\n",
       "      <td>188.0</td>\n",
       "    </tr>\n",
       "    <tr>\n",
       "      <th>4</th>\n",
       "      <td>friend member</td>\n",
       "      <td>205.0</td>\n",
       "      <td>107.0</td>\n",
       "    </tr>\n",
       "    <tr>\n",
       "      <th>...</th>\n",
       "      <td>...</td>\n",
       "      <td>...</td>\n",
       "      <td>...</td>\n",
       "    </tr>\n",
       "    <tr>\n",
       "      <th>116911</th>\n",
       "      <td>alarm uncertainti</td>\n",
       "      <td>NaN</td>\n",
       "      <td>1.0</td>\n",
       "    </tr>\n",
       "    <tr>\n",
       "      <th>116912</th>\n",
       "      <td>uncertainti among</td>\n",
       "      <td>NaN</td>\n",
       "      <td>1.0</td>\n",
       "    </tr>\n",
       "    <tr>\n",
       "      <th>116913</th>\n",
       "      <td>stakehold industri</td>\n",
       "      <td>NaN</td>\n",
       "      <td>1.0</td>\n",
       "    </tr>\n",
       "    <tr>\n",
       "      <th>116914</th>\n",
       "      <td>industri threaten</td>\n",
       "      <td>NaN</td>\n",
       "      <td>1.0</td>\n",
       "    </tr>\n",
       "    <tr>\n",
       "      <th>116915</th>\n",
       "      <td>base futur</td>\n",
       "      <td>NaN</td>\n",
       "      <td>1.0</td>\n",
       "    </tr>\n",
       "  </tbody>\n",
       "</table>\n",
       "<p>116916 rows × 3 columns</p>\n",
       "</div>"
      ],
      "text/plain": [
       "                     words  freq_Con  freq_Lab\n",
       "0               hon friend     665.0     265.0\n",
       "1                right hon     341.0     112.0\n",
       "2            hon gentleman     325.0     177.0\n",
       "3               hon member     240.0     188.0\n",
       "4            friend member     205.0     107.0\n",
       "...                    ...       ...       ...\n",
       "116911   alarm uncertainti       NaN       1.0\n",
       "116912   uncertainti among       NaN       1.0\n",
       "116913  stakehold industri       NaN       1.0\n",
       "116914   industri threaten       NaN       1.0\n",
       "116915          base futur       NaN       1.0\n",
       "\n",
       "[116916 rows x 3 columns]"
      ]
     },
     "execution_count": 19,
     "metadata": {},
     "output_type": "execute_result"
    }
   ],
   "source": [
    "df_freqs"
   ]
  }
 ],
 "metadata": {
  "kernelspec": {
   "display_name": "Python 3.9.12 ('base')",
   "language": "python",
   "name": "python3"
  },
  "language_info": {
   "codemirror_mode": {
    "name": "ipython",
    "version": 3
   },
   "file_extension": ".py",
   "mimetype": "text/x-python",
   "name": "python",
   "nbconvert_exporter": "python",
   "pygments_lexer": "ipython3",
   "version": "3.9.12"
  },
  "orig_nbformat": 4,
  "vscode": {
   "interpreter": {
    "hash": "0704e9e7027e30b245531b4e60cb4aaf65b18a7e325eaeb71f06804e85db260f"
   }
  }
 },
 "nbformat": 4,
 "nbformat_minor": 2
}
