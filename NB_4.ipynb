{
 "cells": [
  {
   "cell_type": "code",
   "execution_count": 1,
   "metadata": {},
   "outputs": [
    {
     "name": "stderr",
     "output_type": "stream",
     "text": [
      "[nltk_data] Downloading package stopwords to\n",
      "[nltk_data]     /Users/ismailakrout/nltk_data...\n",
      "[nltk_data]   Package stopwords is already up-to-date!\n",
      "[nltk_data] Downloading package punkt to\n",
      "[nltk_data]     /Users/ismailakrout/nltk_data...\n",
      "[nltk_data]   Package punkt is already up-to-date!\n"
     ]
    }
   ],
   "source": [
    "import pandas as pd\n",
    "import numpy as np\n",
    "import csv \n",
    "import matplotlib.pyplot as plt\n",
    "import spacy\n",
    "import math\n",
    "import os\n",
    "import statsmodels.api as sm\n",
    "\n",
    "from main_2 import *\n",
    "from src.utils import *\n",
    "from src.data_preprocessing import *\n",
    "from src.data_processing import *\n",
    "from src.feature_selection import *\n",
    "from src.modelisation_arcticle_1 import *\n",
    "from src.modelisation_arcticle_2 import *\n",
    "\n",
    "os.chdir('/Users/ismailakrout/Desktop/python/NLP_statapp')"
   ]
  },
  {
   "cell_type": "code",
   "execution_count": 8,
   "metadata": {},
   "outputs": [],
   "source": [
    "pd.set_option(\"display.max_columns\", None)\n",
    "\n",
    "# pour ne pas charger le NB avec des warnings \n",
    "import warnings \n",
    "warnings.filterwarnings('ignore')"
   ]
  },
  {
   "cell_type": "markdown",
   "metadata": {},
   "source": [
    "## avec les articles "
   ]
  },
  {
   "cell_type": "code",
   "execution_count": 9,
   "metadata": {},
   "outputs": [],
   "source": [
    "df_Guardian = pd.read_csv('00. input/newSplit_topics_bigfive_theGuardian_with_sentibert_post2010.csv')\n",
    "df_DE = pd.read_csv('00. input/new_bigfive_DailyExpress_with_sentibert_post2010.csv')"
   ]
  },
  {
   "cell_type": "markdown",
   "metadata": {},
   "source": [
    "Il faut d'abord effectuer un traitement similaire df_modelisation articles des journdf_modelisation"
   ]
  },
  {
   "cell_type": "code",
   "execution_count": 10,
   "metadata": {},
   "outputs": [],
   "source": [
    "def treat_3(df):\n",
    "  df['text'] = df['text'].apply(clean, args=('bigram',))\n",
    "  return df "
   ]
  },
  {
   "cell_type": "code",
   "execution_count": 11,
   "metadata": {},
   "outputs": [],
   "source": [
    "df_Guardian = treat_newspaper_df(df_Guardian, 'Guardian', year=False)"
   ]
  },
  {
   "cell_type": "code",
   "execution_count": 12,
   "metadata": {},
   "outputs": [],
   "source": [
    "df_DE = treat_newspaper_df(df_DE, 'DE', year=False)"
   ]
  },
  {
   "cell_type": "code",
   "execution_count": 13,
   "metadata": {},
   "outputs": [],
   "source": [
    "df_newspaper = concat_newspapers_df(df_Guardian, df_DE)"
   ]
  },
  {
   "cell_type": "code",
   "execution_count": 14,
   "metadata": {},
   "outputs": [],
   "source": [
    "df_newspaper = df_newspaper.sample(frac=1).reset_index(drop=True)\n",
    "df_newspaper = df_newspaper.head(1000)"
   ]
  },
  {
   "cell_type": "code",
   "execution_count": 15,
   "metadata": {},
   "outputs": [],
   "source": [
    "df_newspaper['text'] = df_newspaper['text'].apply(clean, args=('bigram',))"
   ]
  },
  {
   "cell_type": "code",
   "execution_count": 16,
   "metadata": {},
   "outputs": [],
   "source": [
    "df_newspaper_treated = df_newspaper.copy()"
   ]
  },
  {
   "cell_type": "code",
   "execution_count": 17,
   "metadata": {},
   "outputs": [],
   "source": [
    "df_newspaper_treated = df_newspaper_treated.groupby(by=['Speaker', 'party']).sum().reset_index()"
   ]
  },
  {
   "cell_type": "code",
   "execution_count": 18,
   "metadata": {},
   "outputs": [],
   "source": [
    "df_freqs_Con = count_freqs(df_newspaper_treated, 'Con')\n",
    "df_freqs_Lab = count_freqs(df_newspaper_treated, 'Lab')"
   ]
  },
  {
   "cell_type": "code",
   "execution_count": 19,
   "metadata": {},
   "outputs": [],
   "source": [
    "df_freqs = merge_freq(df_freqs_Con, df_freqs_Lab)"
   ]
  },
  {
   "cell_type": "code",
   "execution_count": 20,
   "metadata": {},
   "outputs": [],
   "source": [
    "list_of_words = selected_words(df_freqs)"
   ]
  },
  {
   "cell_type": "code",
   "execution_count": 22,
   "metadata": {},
   "outputs": [
    {
     "data": {
      "text/plain": [
       "242058"
      ]
     },
     "execution_count": 22,
     "metadata": {},
     "output_type": "execute_result"
    }
   ],
   "source": [
    "len(list_of_words)"
   ]
  },
  {
   "cell_type": "code",
   "execution_count": 23,
   "metadata": {},
   "outputs": [],
   "source": [
    "# à ce moment on doit rajouter la seelection des 5000 mots les plus intéressants"
   ]
  },
  {
   "cell_type": "code",
   "execution_count": 17,
   "metadata": {},
   "outputs": [
    {
     "ename": "KeyboardInterrupt",
     "evalue": "",
     "output_type": "error",
     "traceback": [
      "\u001b[0;31m---------------------------------------------------------------------------\u001b[0m",
      "\u001b[0;31mKeyError\u001b[0m                                  Traceback (most recent call last)",
      "File \u001b[0;32m~/opt/anaconda3/lib/python3.9/site-packages/pandas/core/indexes/base.py:3621\u001b[0m, in \u001b[0;36mIndex.get_loc\u001b[0;34m(self, key, method, tolerance)\u001b[0m\n\u001b[1;32m   3620\u001b[0m \u001b[39mtry\u001b[39;00m:\n\u001b[0;32m-> 3621\u001b[0m     \u001b[39mreturn\u001b[39;00m \u001b[39mself\u001b[39;49m\u001b[39m.\u001b[39;49m_engine\u001b[39m.\u001b[39;49mget_loc(casted_key)\n\u001b[1;32m   3622\u001b[0m \u001b[39mexcept\u001b[39;00m \u001b[39mKeyError\u001b[39;00m \u001b[39mas\u001b[39;00m err:\n",
      "File \u001b[0;32m~/opt/anaconda3/lib/python3.9/site-packages/pandas/_libs/index.pyx:136\u001b[0m, in \u001b[0;36mpandas._libs.index.IndexEngine.get_loc\u001b[0;34m()\u001b[0m\n",
      "File \u001b[0;32m~/opt/anaconda3/lib/python3.9/site-packages/pandas/_libs/index.pyx:163\u001b[0m, in \u001b[0;36mpandas._libs.index.IndexEngine.get_loc\u001b[0;34m()\u001b[0m\n",
      "File \u001b[0;32mpandas/_libs/hashtable_class_helper.pxi:5198\u001b[0m, in \u001b[0;36mpandas._libs.hashtable.PyObjectHashTable.get_item\u001b[0;34m()\u001b[0m\n",
      "File \u001b[0;32mpandas/_libs/hashtable_class_helper.pxi:5206\u001b[0m, in \u001b[0;36mpandas._libs.hashtable.PyObjectHashTable.get_item\u001b[0;34m()\u001b[0m\n",
      "\u001b[0;31mKeyError\u001b[0m: 'geekbench benchmark'",
      "\nThe above exception was the direct cause of the following exception:\n",
      "\u001b[0;31mKeyError\u001b[0m                                  Traceback (most recent call last)",
      "File \u001b[0;32m~/opt/anaconda3/lib/python3.9/site-packages/pandas/core/frame.py:3799\u001b[0m, in \u001b[0;36mDataFrame._set_item_mgr\u001b[0;34m(self, key, value)\u001b[0m\n\u001b[1;32m   3798\u001b[0m \u001b[39mtry\u001b[39;00m:\n\u001b[0;32m-> 3799\u001b[0m     loc \u001b[39m=\u001b[39m \u001b[39mself\u001b[39;49m\u001b[39m.\u001b[39;49m_info_axis\u001b[39m.\u001b[39;49mget_loc(key)\n\u001b[1;32m   3800\u001b[0m \u001b[39mexcept\u001b[39;00m \u001b[39mKeyError\u001b[39;00m:\n\u001b[1;32m   3801\u001b[0m     \u001b[39m# This item wasn't present, just insert at end\u001b[39;00m\n",
      "File \u001b[0;32m~/opt/anaconda3/lib/python3.9/site-packages/pandas/core/indexes/base.py:3623\u001b[0m, in \u001b[0;36mIndex.get_loc\u001b[0;34m(self, key, method, tolerance)\u001b[0m\n\u001b[1;32m   3622\u001b[0m \u001b[39mexcept\u001b[39;00m \u001b[39mKeyError\u001b[39;00m \u001b[39mas\u001b[39;00m err:\n\u001b[0;32m-> 3623\u001b[0m     \u001b[39mraise\u001b[39;00m \u001b[39mKeyError\u001b[39;00m(key) \u001b[39mfrom\u001b[39;00m \u001b[39merr\u001b[39;00m\n\u001b[1;32m   3624\u001b[0m \u001b[39mexcept\u001b[39;00m \u001b[39mTypeError\u001b[39;00m:\n\u001b[1;32m   3625\u001b[0m     \u001b[39m# If we have a listlike key, _check_indexing_error will raise\u001b[39;00m\n\u001b[1;32m   3626\u001b[0m     \u001b[39m#  InvalidIndexError. Otherwise we fall through and re-raise\u001b[39;00m\n\u001b[1;32m   3627\u001b[0m     \u001b[39m#  the TypeError.\u001b[39;00m\n",
      "\u001b[0;31mKeyError\u001b[0m: 'geekbench benchmark'",
      "\nDuring handling of the above exception, another exception occurred:\n",
      "\u001b[0;31mKeyboardInterrupt\u001b[0m                         Traceback (most recent call last)",
      "\u001b[1;32m/Users/ismailakrout/Desktop/python/NLP_statapp/NLP_project_git/NB_4.ipynb Cellule 19\u001b[0m in \u001b[0;36m<cell line: 1>\u001b[0;34m()\u001b[0m\n\u001b[0;32m----> <a href='vscode-notebook-cell:/Users/ismailakrout/Desktop/python/NLP_statapp/NLP_project_git/NB_4.ipynb#X23sZmlsZQ%3D%3D?line=0'>1</a>\u001b[0m df_newspaper_treated \u001b[39m=\u001b[39m construct_df_reg(df_newspaper_treated, df_freqs, list_of_words)\n",
      "File \u001b[0;32m~/Desktop/python/NLP_statapp/NLP_project_git/src/data_processing.py:175\u001b[0m, in \u001b[0;36mconstruct_df_reg\u001b[0;34m(df, df_freqs, list_of_words)\u001b[0m\n\u001b[1;32m    167\u001b[0m \u001b[39m'''\u001b[39;00m\n\u001b[1;32m    168\u001b[0m \u001b[39mConstruire le df qui va nous aider à faire nos régressions \u001b[39;00m\n\u001b[1;32m    169\u001b[0m \n\u001b[0;32m   (...)\u001b[0m\n\u001b[1;32m    172\u001b[0m \u001b[39mdf_freqs -> DataFrame : le df des freqs\u001b[39;00m\n\u001b[1;32m    173\u001b[0m \u001b[39m'''\u001b[39;00m\n\u001b[1;32m    174\u001b[0m \u001b[39mfor\u001b[39;00m word \u001b[39min\u001b[39;00m list_of_words:\n\u001b[0;32m--> 175\u001b[0m     df[\u001b[39mf\u001b[39m\u001b[39m'\u001b[39m\u001b[39m{\u001b[39;00mword\u001b[39m}\u001b[39;00m\u001b[39m'\u001b[39m] \u001b[39m=\u001b[39m df[\u001b[39m'\u001b[39m\u001b[39mtext\u001b[39m\u001b[39m'\u001b[39m]\u001b[39m.\u001b[39mapply(count_liste, args\u001b[39m=\u001b[39m(word,))\n\u001b[1;32m    176\u001b[0m \u001b[39mreturn\u001b[39;00m df\n",
      "File \u001b[0;32m~/opt/anaconda3/lib/python3.9/site-packages/pandas/core/frame.py:3655\u001b[0m, in \u001b[0;36mDataFrame.__setitem__\u001b[0;34m(self, key, value)\u001b[0m\n\u001b[1;32m   3652\u001b[0m     \u001b[39mself\u001b[39m\u001b[39m.\u001b[39m_setitem_array([key], value)\n\u001b[1;32m   3653\u001b[0m \u001b[39melse\u001b[39;00m:\n\u001b[1;32m   3654\u001b[0m     \u001b[39m# set column\u001b[39;00m\n\u001b[0;32m-> 3655\u001b[0m     \u001b[39mself\u001b[39;49m\u001b[39m.\u001b[39;49m_set_item(key, value)\n",
      "File \u001b[0;32m~/opt/anaconda3/lib/python3.9/site-packages/pandas/core/frame.py:3845\u001b[0m, in \u001b[0;36mDataFrame._set_item\u001b[0;34m(self, key, value)\u001b[0m\n\u001b[1;32m   3842\u001b[0m         \u001b[39mif\u001b[39;00m \u001b[39misinstance\u001b[39m(existing_piece, DataFrame):\n\u001b[1;32m   3843\u001b[0m             value \u001b[39m=\u001b[39m np\u001b[39m.\u001b[39mtile(value, (\u001b[39mlen\u001b[39m(existing_piece\u001b[39m.\u001b[39mcolumns), \u001b[39m1\u001b[39m))\u001b[39m.\u001b[39mT\n\u001b[0;32m-> 3845\u001b[0m \u001b[39mself\u001b[39;49m\u001b[39m.\u001b[39;49m_set_item_mgr(key, value)\n",
      "File \u001b[0;32m~/opt/anaconda3/lib/python3.9/site-packages/pandas/core/frame.py:3802\u001b[0m, in \u001b[0;36mDataFrame._set_item_mgr\u001b[0;34m(self, key, value)\u001b[0m\n\u001b[1;32m   3799\u001b[0m     loc \u001b[39m=\u001b[39m \u001b[39mself\u001b[39m\u001b[39m.\u001b[39m_info_axis\u001b[39m.\u001b[39mget_loc(key)\n\u001b[1;32m   3800\u001b[0m \u001b[39mexcept\u001b[39;00m \u001b[39mKeyError\u001b[39;00m:\n\u001b[1;32m   3801\u001b[0m     \u001b[39m# This item wasn't present, just insert at end\u001b[39;00m\n\u001b[0;32m-> 3802\u001b[0m     \u001b[39mself\u001b[39;49m\u001b[39m.\u001b[39;49m_mgr\u001b[39m.\u001b[39;49minsert(\u001b[39mlen\u001b[39;49m(\u001b[39mself\u001b[39;49m\u001b[39m.\u001b[39;49m_info_axis), key, value)\n\u001b[1;32m   3803\u001b[0m \u001b[39melse\u001b[39;00m:\n\u001b[1;32m   3804\u001b[0m     \u001b[39mself\u001b[39m\u001b[39m.\u001b[39m_iset_item_mgr(loc, value)\n",
      "File \u001b[0;32m~/opt/anaconda3/lib/python3.9/site-packages/pandas/core/internals/managers.py:1264\u001b[0m, in \u001b[0;36mBlockManager.insert\u001b[0;34m(self, loc, item, value)\u001b[0m\n\u001b[1;32m   1255\u001b[0m \u001b[39mself\u001b[39m\u001b[39m.\u001b[39m_known_consolidated \u001b[39m=\u001b[39m \u001b[39mFalse\u001b[39;00m\n\u001b[1;32m   1257\u001b[0m \u001b[39mif\u001b[39;00m \u001b[39msum\u001b[39m(\u001b[39mnot\u001b[39;00m block\u001b[39m.\u001b[39mis_extension \u001b[39mfor\u001b[39;00m block \u001b[39min\u001b[39;00m \u001b[39mself\u001b[39m\u001b[39m.\u001b[39mblocks) \u001b[39m>\u001b[39m \u001b[39m100\u001b[39m:\n\u001b[1;32m   1258\u001b[0m     warnings\u001b[39m.\u001b[39mwarn(\n\u001b[1;32m   1259\u001b[0m         \u001b[39m\"\u001b[39m\u001b[39mDataFrame is highly fragmented.  This is usually the result \u001b[39m\u001b[39m\"\u001b[39m\n\u001b[1;32m   1260\u001b[0m         \u001b[39m\"\u001b[39m\u001b[39mof calling `frame.insert` many times, which has poor performance.  \u001b[39m\u001b[39m\"\u001b[39m\n\u001b[1;32m   1261\u001b[0m         \u001b[39m\"\u001b[39m\u001b[39mConsider joining all columns at once using pd.concat(axis=1) \u001b[39m\u001b[39m\"\u001b[39m\n\u001b[1;32m   1262\u001b[0m         \u001b[39m\"\u001b[39m\u001b[39minstead. To get a de-fragmented frame, use `newframe = frame.copy()`\u001b[39m\u001b[39m\"\u001b[39m,\n\u001b[1;32m   1263\u001b[0m         PerformanceWarning,\n\u001b[0;32m-> 1264\u001b[0m         stacklevel\u001b[39m=\u001b[39mfind_stack_level(),\n\u001b[1;32m   1265\u001b[0m     )\n",
      "File \u001b[0;32m~/opt/anaconda3/lib/python3.9/site-packages/pandas/util/_exceptions.py:32\u001b[0m, in \u001b[0;36mfind_stack_level\u001b[0;34m()\u001b[0m\n\u001b[1;32m     27\u001b[0m \u001b[39mdef\u001b[39;00m \u001b[39mfind_stack_level\u001b[39m() \u001b[39m-\u001b[39m\u001b[39m>\u001b[39m \u001b[39mint\u001b[39m:\n\u001b[1;32m     28\u001b[0m     \u001b[39m\"\"\"\u001b[39;00m\n\u001b[1;32m     29\u001b[0m \u001b[39m    Find the first place in the stack that is not inside pandas\u001b[39;00m\n\u001b[1;32m     30\u001b[0m \u001b[39m    (tests notwithstanding).\u001b[39;00m\n\u001b[1;32m     31\u001b[0m \u001b[39m    \"\"\"\u001b[39;00m\n\u001b[0;32m---> 32\u001b[0m     stack \u001b[39m=\u001b[39m inspect\u001b[39m.\u001b[39;49mstack()\n\u001b[1;32m     34\u001b[0m     \u001b[39mimport\u001b[39;00m \u001b[39mpandas\u001b[39;00m \u001b[39mas\u001b[39;00m \u001b[39mpd\u001b[39;00m\n\u001b[1;32m     36\u001b[0m     pkg_dir \u001b[39m=\u001b[39m os\u001b[39m.\u001b[39mpath\u001b[39m.\u001b[39mdirname(pd\u001b[39m.\u001b[39m\u001b[39m__file__\u001b[39m)\n",
      "File \u001b[0;32m~/opt/anaconda3/lib/python3.9/inspect.py:1554\u001b[0m, in \u001b[0;36mstack\u001b[0;34m(context)\u001b[0m\n\u001b[1;32m   1552\u001b[0m \u001b[39mdef\u001b[39;00m \u001b[39mstack\u001b[39m(context\u001b[39m=\u001b[39m\u001b[39m1\u001b[39m):\n\u001b[1;32m   1553\u001b[0m     \u001b[39m\"\"\"Return a list of records for the stack above the caller's frame.\"\"\"\u001b[39;00m\n\u001b[0;32m-> 1554\u001b[0m     \u001b[39mreturn\u001b[39;00m getouterframes(sys\u001b[39m.\u001b[39;49m_getframe(\u001b[39m1\u001b[39;49m), context)\n",
      "File \u001b[0;32m~/opt/anaconda3/lib/python3.9/inspect.py:1531\u001b[0m, in \u001b[0;36mgetouterframes\u001b[0;34m(frame, context)\u001b[0m\n\u001b[1;32m   1529\u001b[0m framelist \u001b[39m=\u001b[39m []\n\u001b[1;32m   1530\u001b[0m \u001b[39mwhile\u001b[39;00m frame:\n\u001b[0;32m-> 1531\u001b[0m     frameinfo \u001b[39m=\u001b[39m (frame,) \u001b[39m+\u001b[39m getframeinfo(frame, context)\n\u001b[1;32m   1532\u001b[0m     framelist\u001b[39m.\u001b[39mappend(FrameInfo(\u001b[39m*\u001b[39mframeinfo))\n\u001b[1;32m   1533\u001b[0m     frame \u001b[39m=\u001b[39m frame\u001b[39m.\u001b[39mf_back\n",
      "File \u001b[0;32m~/opt/anaconda3/lib/python3.9/inspect.py:1505\u001b[0m, in \u001b[0;36mgetframeinfo\u001b[0;34m(frame, context)\u001b[0m\n\u001b[1;32m   1503\u001b[0m start \u001b[39m=\u001b[39m lineno \u001b[39m-\u001b[39m \u001b[39m1\u001b[39m \u001b[39m-\u001b[39m context\u001b[39m/\u001b[39m\u001b[39m/\u001b[39m\u001b[39m2\u001b[39m\n\u001b[1;32m   1504\u001b[0m \u001b[39mtry\u001b[39;00m:\n\u001b[0;32m-> 1505\u001b[0m     lines, lnum \u001b[39m=\u001b[39m findsource(frame)\n\u001b[1;32m   1506\u001b[0m \u001b[39mexcept\u001b[39;00m \u001b[39mOSError\u001b[39;00m:\n\u001b[1;32m   1507\u001b[0m     lines \u001b[39m=\u001b[39m index \u001b[39m=\u001b[39m \u001b[39mNone\u001b[39;00m\n",
      "File \u001b[0;32m~/opt/anaconda3/lib/python3.9/inspect.py:817\u001b[0m, in \u001b[0;36mfindsource\u001b[0;34m(object)\u001b[0m\n\u001b[1;32m    809\u001b[0m \u001b[39mdef\u001b[39;00m \u001b[39mfindsource\u001b[39m(\u001b[39mobject\u001b[39m):\n\u001b[1;32m    810\u001b[0m     \u001b[39m\"\"\"Return the entire source file and starting line number for an object.\u001b[39;00m\n\u001b[1;32m    811\u001b[0m \n\u001b[1;32m    812\u001b[0m \u001b[39m    The argument may be a module, class, method, function, traceback, frame,\u001b[39;00m\n\u001b[1;32m    813\u001b[0m \u001b[39m    or code object.  The source code is returned as a list of all the lines\u001b[39;00m\n\u001b[1;32m    814\u001b[0m \u001b[39m    in the file and the line number indexes a line in that list.  An OSError\u001b[39;00m\n\u001b[1;32m    815\u001b[0m \u001b[39m    is raised if the source code cannot be retrieved.\"\"\"\u001b[39;00m\n\u001b[0;32m--> 817\u001b[0m     file \u001b[39m=\u001b[39m getsourcefile(\u001b[39mobject\u001b[39;49m)\n\u001b[1;32m    818\u001b[0m     \u001b[39mif\u001b[39;00m file:\n\u001b[1;32m    819\u001b[0m         \u001b[39m# Invalidate cache if needed.\u001b[39;00m\n\u001b[1;32m    820\u001b[0m         linecache\u001b[39m.\u001b[39mcheckcache(file)\n",
      "File \u001b[0;32m~/opt/anaconda3/lib/python3.9/inspect.py:709\u001b[0m, in \u001b[0;36mgetsourcefile\u001b[0;34m(object)\u001b[0m\n\u001b[1;32m    707\u001b[0m     \u001b[39mreturn\u001b[39;00m filename\n\u001b[1;32m    708\u001b[0m \u001b[39m# only return a non-existent filename if the module has a PEP 302 loader\u001b[39;00m\n\u001b[0;32m--> 709\u001b[0m \u001b[39mif\u001b[39;00m \u001b[39mgetattr\u001b[39m(getmodule(\u001b[39mobject\u001b[39;49m, filename), \u001b[39m'\u001b[39m\u001b[39m__loader__\u001b[39m\u001b[39m'\u001b[39m, \u001b[39mNone\u001b[39;00m) \u001b[39mis\u001b[39;00m \u001b[39mnot\u001b[39;00m \u001b[39mNone\u001b[39;00m:\n\u001b[1;32m    710\u001b[0m     \u001b[39mreturn\u001b[39;00m filename\n\u001b[1;32m    711\u001b[0m \u001b[39m# or it is in the linecache\u001b[39;00m\n",
      "File \u001b[0;32m~/opt/anaconda3/lib/python3.9/inspect.py:746\u001b[0m, in \u001b[0;36mgetmodule\u001b[0;34m(object, _filename)\u001b[0m\n\u001b[1;32m    743\u001b[0m \u001b[39m# Update the filename to module name cache and check yet again\u001b[39;00m\n\u001b[1;32m    744\u001b[0m \u001b[39m# Copy sys.modules in order to cope with changes while iterating\u001b[39;00m\n\u001b[1;32m    745\u001b[0m \u001b[39mfor\u001b[39;00m modname, module \u001b[39min\u001b[39;00m sys\u001b[39m.\u001b[39mmodules\u001b[39m.\u001b[39mcopy()\u001b[39m.\u001b[39mitems():\n\u001b[0;32m--> 746\u001b[0m     \u001b[39mif\u001b[39;00m ismodule(module) \u001b[39mand\u001b[39;00m \u001b[39mhasattr\u001b[39m(module, \u001b[39m'\u001b[39m\u001b[39m__file__\u001b[39m\u001b[39m'\u001b[39m):\n\u001b[1;32m    747\u001b[0m         f \u001b[39m=\u001b[39m module\u001b[39m.\u001b[39m\u001b[39m__file__\u001b[39m\n\u001b[1;32m    748\u001b[0m         \u001b[39mif\u001b[39;00m f \u001b[39m==\u001b[39m _filesbymodname\u001b[39m.\u001b[39mget(modname, \u001b[39mNone\u001b[39;00m):\n\u001b[1;32m    749\u001b[0m             \u001b[39m# Have already mapped this module, so skip it\u001b[39;00m\n",
      "File \u001b[0;32m~/opt/anaconda3/lib/python3.9/inspect.py:71\u001b[0m, in \u001b[0;36mismodule\u001b[0;34m(object)\u001b[0m\n\u001b[1;32m     64\u001b[0m \u001b[39mdef\u001b[39;00m \u001b[39mismodule\u001b[39m(\u001b[39mobject\u001b[39m):\n\u001b[1;32m     65\u001b[0m     \u001b[39m\"\"\"Return true if the object is a module.\u001b[39;00m\n\u001b[1;32m     66\u001b[0m \n\u001b[1;32m     67\u001b[0m \u001b[39m    Module objects provide these attributes:\u001b[39;00m\n\u001b[1;32m     68\u001b[0m \u001b[39m        __cached__      pathname to byte compiled file\u001b[39;00m\n\u001b[1;32m     69\u001b[0m \u001b[39m        __doc__         documentation string\u001b[39;00m\n\u001b[1;32m     70\u001b[0m \u001b[39m        __file__        filename (missing for built-in modules)\"\"\"\u001b[39;00m\n\u001b[0;32m---> 71\u001b[0m     \u001b[39mreturn\u001b[39;00m \u001b[39misinstance\u001b[39;49m(\u001b[39mobject\u001b[39;49m, types\u001b[39m.\u001b[39;49mModuleType)\n",
      "\u001b[0;31mKeyboardInterrupt\u001b[0m: "
     ]
    }
   ],
   "source": [
    "df_newspaper_treated = construct_df_reg(df_newspaper_treated, df_freqs, list_of_words)"
   ]
  },
  {
   "cell_type": "code",
   "execution_count": null,
   "metadata": {},
   "outputs": [],
   "source": [
    "df_newspaper_treated['Unnamed: 0'] = 0"
   ]
  },
  {
   "cell_type": "code",
   "execution_count": null,
   "metadata": {},
   "outputs": [],
   "source": [
    "df_newspaper_treated = main_calcul_pi(df_newspaper_treated)"
   ]
  },
  {
   "cell_type": "code",
   "execution_count": null,
   "metadata": {},
   "outputs": [],
   "source": [
    "def treat_fonction(df_1, df_2):\n",
    "  df_newspaper = treat_2(df_1, df_2)\n",
    "  df_newspaper = df_newspaper.sample(frac=1).reset_index(drop=True)\n",
    "  df_newspaper = df_newspaper.head(100)\n",
    "  df_newspaper = treat_3(df_newspaper)\n",
    "  df_newspaper_treated = df_newspaper\n",
    "  df_newspaper_treated = df_newspaper_treated.groupby(by=['Speaker', 'party']).sum().reset_index()\n",
    "  df_freqs_Con = count_freqs(df_newspaper_treated, 'Con')\n",
    "  df_freqs_Lab = count_freqs(df_newspaper_treated, 'Lab')\n",
    "  df_freqs = merge_freq(df_freqs_Con, df_freqs_Lab)\n",
    "  list_of_words = selected_words(df_freqs)\n",
    "  df_newspaper_treated = construct_df_reg(df_newspaper_treated, df_freqs, list_of_words)\n",
    "  df_newspaper_treated['Unnamed: 0'] = 0\n",
    "  return LO_treatment(df_newspaper_treated)"
   ]
  },
  {
   "cell_type": "code",
   "execution_count": null,
   "metadata": {},
   "outputs": [],
   "source": [
    "treat_fonction(df_Guardian, df_DE)"
   ]
  },
  {
   "cell_type": "markdown",
   "metadata": {},
   "source": [
    "# **Évolution de la polarisation dans le temps**"
   ]
  },
  {
   "cell_type": "code",
   "execution_count": null,
   "metadata": {},
   "outputs": [],
   "source": [
    "df_Guardian = pd.read_csv('/content/drive/MyDrive/Statapp_TextDigit/Stage_2022/data/TheGuardian/newSplit_topics_bigfive_theGuardian_with_sentibert_post2010.csv')\n",
    "df_DE = pd.read_csv('/content/drive/MyDrive/Statapp_TextDigit/Stage_2022/data/DailyExpress/new_bigfive_DailyExpress_with_sentibert_post2010.csv')"
   ]
  },
  {
   "cell_type": "code",
   "execution_count": null,
   "metadata": {},
   "outputs": [],
   "source": [
    "def treat_1_date(df, party, year):\n",
    "  df = df.loc[df['year'] == year]\n",
    "  df = df[['author', 'fulltext']]\n",
    "  if party == 'Guardian' :\n",
    "    df['party'] = 'Lab'\n",
    "  if party == 'DE' :\n",
    "    df['party'] = 'Con'\n",
    "  df.rename(columns=\n",
    "          {'author' : 'Speaker', 'fulltext':'text'}, inplace=True)\n",
    "  return df"
   ]
  },
  {
   "cell_type": "code",
   "execution_count": null,
   "metadata": {},
   "outputs": [],
   "source": [
    "def treat_fonction(df_1, df_2):\n",
    "  df_newspaper = treat_2(df_1, df_2)\n",
    "  df_newspaper = df_newspaper.sample(frac=1).reset_index(drop=True)\n",
    "  df_newspaper = df_newspaper.head(100)\n",
    "  df_newspaper = treat_3(df_newspaper)\n",
    "  df_newspaper_treated = df_newspaper\n",
    "  df_newspaper_treated = df_newspaper_treated.groupby(by=['Speaker', 'party']).sum().reset_index()\n",
    "  df_freqs_Con = count_freqs(df_newspaper_treated, 'Con')\n",
    "  df_freqs_Lab = count_freqs(df_newspaper_treated, 'Lab')\n",
    "  df_freqs = merge_freq(df_freqs_Con, df_freqs_Lab)\n",
    "  list_of_words = selected_words(df_freqs)\n",
    "  df_newspaper_treated = construct_df_reg(df_newspaper_treated, df_freqs, list_of_words)\n",
    "  df_newspaper_treated['Unnamed: 0'] = 0\n",
    "  print('SORTIE')\n",
    "  return LO_treatment(df_newspaper_treated)"
   ]
  },
  {
   "cell_type": "code",
   "execution_count": null,
   "metadata": {},
   "outputs": [],
   "source": [
    "df_1 = treat_1_date(df_Guardian, 'Guardian', 2020)\n",
    "df_2 = treat_1_date(df_DE, 'DE', 2020)"
   ]
  },
  {
   "cell_type": "code",
   "execution_count": null,
   "metadata": {},
   "outputs": [],
   "source": [
    "treat_fonction(df_1, df_2)"
   ]
  },
  {
   "cell_type": "code",
   "execution_count": null,
   "metadata": {},
   "outputs": [],
   "source": [
    "evolution_of_pi = []"
   ]
  },
  {
   "cell_type": "code",
   "execution_count": null,
   "metadata": {},
   "outputs": [],
   "source": [
    "for year in range(2010, 2023 ):\n",
    "  df_a = treat_1_date(df_Guardian, 'Guardian', year)\n",
    "  df_b = treat_1_date(df_DE, 'DE', year)\n",
    "  pi = treat_fonction(df_a, df_b)\n",
    "  evolution_of_pi.append(pi)\n",
    "  print(evolution_of_pi, 'BOUCLE')"
   ]
  },
  {
   "cell_type": "code",
   "execution_count": null,
   "metadata": {},
   "outputs": [],
   "source": [
    "evolution_of_pi"
   ]
  },
  {
   "cell_type": "code",
   "execution_count": null,
   "metadata": {},
   "outputs": [],
   "source": [
    "plt.plot([i for i in range(2010, 2023)], evolution_of_pi)\n",
    "plt.show()"
   ]
  },
  {
   "cell_type": "markdown",
   "metadata": {},
   "source": [
    "# **Partisanship des mots**"
   ]
  },
  {
   "cell_type": "code",
   "execution_count": null,
   "metadata": {},
   "outputs": [],
   "source": [
    "df_Guardian = pd.read_csv('/content/drive/MyDrive/Statapp_TextDigit/Stage_2022/data/TheGuardian/newSplit_topics_bigfive_theGuardian_with_sentibert_post2010.csv')\n",
    "df_DE = pd.read_csv('/content/drive/MyDrive/Statapp_TextDigit/Stage_2022/data/DailyExpress/new_bigfive_DailyExpress_with_sentibert_post2010.csv')"
   ]
  },
  {
   "cell_type": "code",
   "execution_count": null,
   "metadata": {},
   "outputs": [],
   "source": [
    "df_Guardian = treat_1(df_Guardian, 'Guardian')\n",
    "df_DE = treat_1(df_DE, 'DE')"
   ]
  },
  {
   "cell_type": "code",
   "execution_count": null,
   "metadata": {},
   "outputs": [],
   "source": [
    "df_Guardian = treat_1(df_Guardian, 'Guardian')\n",
    "df_DE = treat_1(df_DE, 'DE')"
   ]
  },
  {
   "cell_type": "code",
   "execution_count": null,
   "metadata": {},
   "outputs": [],
   "source": [
    "def treat_table(df_1, df_2):\n",
    "  df_newspaper = treat_2(df_1, df_2)\n",
    "  df_newspaper = df_newspaper.sample(frac=1).reset_index(drop=True)\n",
    "  df_newspaper = df_newspaper.head(100)\n",
    "  df_newspaper = treat_3(df_newspaper)\n",
    "  df_newspaper_treated = df_newspaper\n",
    "  df_newspaper_treated = df_newspaper_treated.groupby(by=['Speaker', 'party']).sum().reset_index()\n",
    "  df_freqs_Con = count_freqs(df_newspaper_treated, 'Con')\n",
    "  df_freqs_Lab = count_freqs(df_newspaper_treated, 'Lab')\n",
    "  df_freqs = merge_freq(df_freqs_Con, df_freqs_Lab)\n",
    "  list_of_words = selected_words(df_freqs)\n",
    "  df_newspaper_treated = construct_df_reg(df_newspaper_treated, df_freqs, list_of_words)\n",
    "  df_newspaper_treated['Unnamed: 0'] = 0\n",
    "  return LO_treatment_table(df_newspaper_treated)"
   ]
  },
  {
   "cell_type": "code",
   "execution_count": null,
   "metadata": {},
   "outputs": [],
   "source": [
    "table_Con, table_Lab = treat_table(df_Guardian, df_DE)"
   ]
  },
  {
   "cell_type": "code",
   "execution_count": null,
   "metadata": {},
   "outputs": [],
   "source": [
    "table_Con.dropna().reset_index(drop=True)\n",
    "table_Lab.dropna().reset_index(drop=True)"
   ]
  }
 ],
 "metadata": {
  "kernelspec": {
   "display_name": "Python 3.9.12 ('base')",
   "language": "python",
   "name": "python3"
  },
  "language_info": {
   "codemirror_mode": {
    "name": "ipython",
    "version": 3
   },
   "file_extension": ".py",
   "mimetype": "text/x-python",
   "name": "python",
   "nbconvert_exporter": "python",
   "pygments_lexer": "ipython3",
   "version": "3.9.12"
  },
  "orig_nbformat": 4,
  "vscode": {
   "interpreter": {
    "hash": "0704e9e7027e30b245531b4e60cb4aaf65b18a7e325eaeb71f06804e85db260f"
   }
  }
 },
 "nbformat": 4,
 "nbformat_minor": 2
}
