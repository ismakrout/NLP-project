{
 "cells": [
  {
   "cell_type": "code",
   "execution_count": null,
   "metadata": {},
   "outputs": [],
   "source": [
    "import pandas as pd\n",
    "import numpy as np\n",
    "import csv \n",
    "import matplotlib.pyplot as plt\n",
    "import spacy\n",
    "import math\n",
    "import os\n",
    "import statsmodels.api as sm\n",
    "\n",
    "from src.utils import *\n",
    "from src.data_preprocessing import *\n",
    "from src.data_processing import *\n",
    "from src.feature_selection import *\n",
    "from src.modelisation_arcticle_1 import *\n",
    "from src.modelisation_arcticle_2 import *\n",
    "\n",
    "os.chdir('/Users/ismailakrout/Desktop/python/NLP_statapp')\n",
    "\n",
    "pd.set_option(\"display.max_columns\", None)\n"
   ]
  },
  {
   "cell_type": "markdown",
   "metadata": {},
   "source": [
    "## avec les articles "
   ]
  },
  {
   "cell_type": "code",
   "execution_count": null,
   "metadata": {},
   "outputs": [],
   "source": [
    "df_Guardian = pd.read_csv('00. input/newSplit_topics_bigfive_theGuardian_with_sentibert_post2010.csv')\n",
    "df_DE = pd.read_csv('00. input/new_bigfive_DailyExpress_with_sentibert_post2010.csv')"
   ]
  },
  {
   "cell_type": "markdown",
   "metadata": {},
   "source": [
    "Il faut d'abord effectuer un traitement similaire df_modelisation articles des journdf_modelisation"
   ]
  },
  {
   "cell_type": "code",
   "execution_count": null,
   "metadata": {},
   "outputs": [],
   "source": [
    "def treat_1(df, party):\n",
    "  df = df[['author', 'fulltext']]\n",
    "  if party == 'Guardian' :\n",
    "    df['party'] = 'Lab'\n",
    "  if party == 'DE' :\n",
    "    df['party'] = 'Con'\n",
    "  df.rename(columns=\n",
    "          {'author' : 'Speaker', 'fulltext':'text'}, inplace=True)\n",
    "  return df"
   ]
  },
  {
   "cell_type": "code",
   "execution_count": null,
   "metadata": {},
   "outputs": [],
   "source": [
    "def treat_2(df_1,df_2):\n",
    "  df = pd.concat([df_1, df_2])\n",
    "  df.dropna().reset_index(drop=True)\n",
    "  return df"
   ]
  },
  {
   "cell_type": "code",
   "execution_count": null,
   "metadata": {},
   "outputs": [],
   "source": [
    "def treat_3(df):\n",
    "  df['text'] = df['text'].apply(clean, args=(stop_words,))\n",
    "  return df "
   ]
  },
  {
   "cell_type": "code",
   "execution_count": null,
   "metadata": {},
   "outputs": [],
   "source": [
    "df_Guardian = treat_1(df_Guardian, 'Guardian')"
   ]
  },
  {
   "cell_type": "code",
   "execution_count": null,
   "metadata": {},
   "outputs": [],
   "source": [
    "df_DE = treat_1(df_DE, 'DE')"
   ]
  },
  {
   "cell_type": "code",
   "execution_count": null,
   "metadata": {},
   "outputs": [],
   "source": [
    "df_newspaper = treat_2(df_Guardian, df_DE)"
   ]
  },
  {
   "cell_type": "code",
   "execution_count": null,
   "metadata": {},
   "outputs": [],
   "source": [
    "df_newspaper = df_newspaper.sample(frac=1).reset_index(drop=True)\n",
    "df_newspaper = df_newspaper.head(1000)"
   ]
  },
  {
   "cell_type": "code",
   "execution_count": null,
   "metadata": {},
   "outputs": [
    {
     "ename": "NameError",
     "evalue": "name 'stop_words' is not defined",
     "output_type": "error",
     "traceback": [
      "\u001b[0;31m---------------------------------------------------------------------------\u001b[0m\n",
      "\u001b[0;31mNameError\u001b[0m                                 Traceback (most recent call last)\n",
      "\u001b[1;32m/Users/ismailakrout/Desktop/python/NLP_statapp/NLP_project_git/NB_3.ipynb Cellule 35\u001b[0m in \u001b[0;36m<cell line: 1>\u001b[0;34m()\u001b[0m\n",
      "\u001b[0;32m----> <a href='vscode-notebook-cell:/Users/ismailakrout/Desktop/python/NLP_statapp/NLP_project_git/NB_3.ipynb#X45sZmlsZQ%3D%3D?line=0'>1</a>\u001b[0m df_newspaper \u001b[39m=\u001b[39m treat_3(df_newspaper)\n",
      "\n",
      "\u001b[1;32m/Users/ismailakrout/Desktop/python/NLP_statapp/NLP_project_git/NB_3.ipynb Cellule 35\u001b[0m in \u001b[0;36mtreat_3\u001b[0;34m(df)\u001b[0m\n",
      "\u001b[1;32m      <a href='vscode-notebook-cell:/Users/ismailakrout/Desktop/python/NLP_statapp/NLP_project_git/NB_3.ipynb#X45sZmlsZQ%3D%3D?line=0'>1</a>\u001b[0m \u001b[39mdef\u001b[39;00m \u001b[39mtreat_3\u001b[39m(df):\n",
      "\u001b[0;32m----> <a href='vscode-notebook-cell:/Users/ismailakrout/Desktop/python/NLP_statapp/NLP_project_git/NB_3.ipynb#X45sZmlsZQ%3D%3D?line=1'>2</a>\u001b[0m   df[\u001b[39m'\u001b[39m\u001b[39mtext\u001b[39m\u001b[39m'\u001b[39m] \u001b[39m=\u001b[39m df[\u001b[39m'\u001b[39m\u001b[39mtext\u001b[39m\u001b[39m'\u001b[39m]\u001b[39m.\u001b[39mapply(clean, args\u001b[39m=\u001b[39m(stop_words,))\n",
      "\u001b[1;32m      <a href='vscode-notebook-cell:/Users/ismailakrout/Desktop/python/NLP_statapp/NLP_project_git/NB_3.ipynb#X45sZmlsZQ%3D%3D?line=2'>3</a>\u001b[0m   \u001b[39mreturn\u001b[39;00m df\n",
      "\n",
      "\u001b[0;31mNameError\u001b[0m: name 'stop_words' is not defined"
     ]
    }
   ],
   "source": [
    "df_newspaper = treat_3(df_newspaper)"
   ]
  },
  {
   "cell_type": "code",
   "execution_count": null,
   "metadata": {},
   "outputs": [],
   "source": [
    "df_newspaper_treated = df_newspaper"
   ]
  },
  {
   "cell_type": "code",
   "execution_count": null,
   "metadata": {},
   "outputs": [],
   "source": [
    "df_newspaper_treated = df_newspaper_treated.groupby(by=['Speaker', 'party']).sum().reset_index()"
   ]
  },
  {
   "cell_type": "code",
   "execution_count": null,
   "metadata": {},
   "outputs": [],
   "source": [
    "df_freqs_Con = count_freqs(df_newspaper_treated, 'Con')\n",
    "df_freqs_Lab = count_freqs(df_newspaper_treated, 'Lab')"
   ]
  },
  {
   "cell_type": "code",
   "execution_count": null,
   "metadata": {},
   "outputs": [],
   "source": [
    "df_freqs = merge_freq(df_freqs_Con, df_freqs_Lab)"
   ]
  },
  {
   "cell_type": "code",
   "execution_count": null,
   "metadata": {},
   "outputs": [],
   "source": [
    "list_of_words = selected_words(df_freqs)"
   ]
  },
  {
   "cell_type": "code",
   "execution_count": null,
   "metadata": {},
   "outputs": [],
   "source": [
    "df_newspaper_treated = construct_df_reg(df_newspaper_treated, df_freqs, list_of_words)"
   ]
  },
  {
   "cell_type": "code",
   "execution_count": null,
   "metadata": {},
   "outputs": [],
   "source": [
    "df_newspaper_treated['Unnamed: 0'] = 0"
   ]
  },
  {
   "cell_type": "code",
   "execution_count": null,
   "metadata": {},
   "outputs": [],
   "source": [
    "LO_treatment(df_newspaper_treated)"
   ]
  },
  {
   "cell_type": "code",
   "execution_count": null,
   "metadata": {},
   "outputs": [],
   "source": [
    "def treat_fonction(df_1, df_2):\n",
    "  df_newspaper = treat_2(df_1, df_2)\n",
    "  df_newspaper = df_newspaper.sample(frac=1).reset_index(drop=True)\n",
    "  df_newspaper = df_newspaper.head(100)\n",
    "  df_newspaper = treat_3(df_newspaper)\n",
    "  df_newspaper_treated = df_newspaper\n",
    "  df_newspaper_treated = df_newspaper_treated.groupby(by=['Speaker', 'party']).sum().reset_index()\n",
    "  df_freqs_Con = count_freqs(df_newspaper_treated, 'Con')\n",
    "  df_freqs_Lab = count_freqs(df_newspaper_treated, 'Lab')\n",
    "  df_freqs = merge_freq(df_freqs_Con, df_freqs_Lab)\n",
    "  list_of_words = selected_words(df_freqs)\n",
    "  df_newspaper_treated = construct_df_reg(df_newspaper_treated, df_freqs, list_of_words)\n",
    "  df_newspaper_treated['Unnamed: 0'] = 0\n",
    "  return LO_treatment(df_newspaper_treated)"
   ]
  },
  {
   "cell_type": "code",
   "execution_count": null,
   "metadata": {},
   "outputs": [],
   "source": [
    "treat_fonction(df_Guardian, df_DE)"
   ]
  },
  {
   "cell_type": "markdown",
   "metadata": {},
   "source": [
    "# **Évolution de la polarisation dans le temps**"
   ]
  },
  {
   "cell_type": "code",
   "execution_count": null,
   "metadata": {},
   "outputs": [],
   "source": [
    "df_Guardian = pd.read_csv('/content/drive/MyDrive/Statapp_TextDigit/Stage_2022/data/TheGuardian/newSplit_topics_bigfive_theGuardian_with_sentibert_post2010.csv')\n",
    "df_DE = pd.read_csv('/content/drive/MyDrive/Statapp_TextDigit/Stage_2022/data/DailyExpress/new_bigfive_DailyExpress_with_sentibert_post2010.csv')"
   ]
  },
  {
   "cell_type": "code",
   "execution_count": null,
   "metadata": {},
   "outputs": [],
   "source": [
    "def treat_1_date(df, party, year):\n",
    "  df = df.loc[df['year'] == year]\n",
    "  df = df[['author', 'fulltext']]\n",
    "  if party == 'Guardian' :\n",
    "    df['party'] = 'Lab'\n",
    "  if party == 'DE' :\n",
    "    df['party'] = 'Con'\n",
    "  df.rename(columns=\n",
    "          {'author' : 'Speaker', 'fulltext':'text'}, inplace=True)\n",
    "  return df"
   ]
  },
  {
   "cell_type": "code",
   "execution_count": null,
   "metadata": {},
   "outputs": [],
   "source": [
    "def treat_fonction(df_1, df_2):\n",
    "  df_newspaper = treat_2(df_1, df_2)\n",
    "  df_newspaper = df_newspaper.sample(frac=1).reset_index(drop=True)\n",
    "  df_newspaper = df_newspaper.head(100)\n",
    "  df_newspaper = treat_3(df_newspaper)\n",
    "  df_newspaper_treated = df_newspaper\n",
    "  df_newspaper_treated = df_newspaper_treated.groupby(by=['Speaker', 'party']).sum().reset_index()\n",
    "  df_freqs_Con = count_freqs(df_newspaper_treated, 'Con')\n",
    "  df_freqs_Lab = count_freqs(df_newspaper_treated, 'Lab')\n",
    "  df_freqs = merge_freq(df_freqs_Con, df_freqs_Lab)\n",
    "  list_of_words = selected_words(df_freqs)\n",
    "  df_newspaper_treated = construct_df_reg(df_newspaper_treated, df_freqs, list_of_words)\n",
    "  df_newspaper_treated['Unnamed: 0'] = 0\n",
    "  print('SORTIE')\n",
    "  return LO_treatment(df_newspaper_treated)"
   ]
  },
  {
   "cell_type": "code",
   "execution_count": null,
   "metadata": {},
   "outputs": [],
   "source": [
    "df_1 = treat_1_date(df_Guardian, 'Guardian', 2020)\n",
    "df_2 = treat_1_date(df_DE, 'DE', 2020)"
   ]
  },
  {
   "cell_type": "code",
   "execution_count": null,
   "metadata": {},
   "outputs": [],
   "source": [
    "treat_fonction(df_1, df_2)"
   ]
  },
  {
   "cell_type": "code",
   "execution_count": null,
   "metadata": {},
   "outputs": [],
   "source": [
    "evolution_of_pi = []"
   ]
  },
  {
   "cell_type": "code",
   "execution_count": null,
   "metadata": {},
   "outputs": [],
   "source": [
    "for year in range(2010, 2023 ):\n",
    "  df_a = treat_1_date(df_Guardian, 'Guardian', year)\n",
    "  df_b = treat_1_date(df_DE, 'DE', year)\n",
    "  pi = treat_fonction(df_a, df_b)\n",
    "  evolution_of_pi.append(pi)\n",
    "  print(evolution_of_pi, 'BOUCLE')"
   ]
  },
  {
   "cell_type": "code",
   "execution_count": null,
   "metadata": {},
   "outputs": [],
   "source": [
    "evolution_of_pi"
   ]
  },
  {
   "cell_type": "code",
   "execution_count": null,
   "metadata": {},
   "outputs": [],
   "source": [
    "plt.plot([i for i in range(2010, 2023)], evolution_of_pi)\n",
    "plt.show()"
   ]
  },
  {
   "cell_type": "markdown",
   "metadata": {},
   "source": [
    "# **Partisanship des mots**"
   ]
  },
  {
   "cell_type": "code",
   "execution_count": null,
   "metadata": {},
   "outputs": [],
   "source": [
    "df_Guardian = pd.read_csv('/content/drive/MyDrive/Statapp_TextDigit/Stage_2022/data/TheGuardian/newSplit_topics_bigfive_theGuardian_with_sentibert_post2010.csv')\n",
    "df_DE = pd.read_csv('/content/drive/MyDrive/Statapp_TextDigit/Stage_2022/data/DailyExpress/new_bigfive_DailyExpress_with_sentibert_post2010.csv')"
   ]
  },
  {
   "cell_type": "code",
   "execution_count": null,
   "metadata": {},
   "outputs": [],
   "source": [
    "df_Guardian = treat_1(df_Guardian, 'Guardian')\n",
    "df_DE = treat_1(df_DE, 'DE')"
   ]
  },
  {
   "cell_type": "code",
   "execution_count": null,
   "metadata": {},
   "outputs": [],
   "source": [
    "df_Guardian = treat_1(df_Guardian, 'Guardian')\n",
    "df_DE = treat_1(df_DE, 'DE')"
   ]
  },
  {
   "cell_type": "code",
   "execution_count": null,
   "metadata": {},
   "outputs": [],
   "source": [
    "def treat_table(df_1, df_2):\n",
    "  df_newspaper = treat_2(df_1, df_2)\n",
    "  df_newspaper = df_newspaper.sample(frac=1).reset_index(drop=True)\n",
    "  df_newspaper = df_newspaper.head(100)\n",
    "  df_newspaper = treat_3(df_newspaper)\n",
    "  df_newspaper_treated = df_newspaper\n",
    "  df_newspaper_treated = df_newspaper_treated.groupby(by=['Speaker', 'party']).sum().reset_index()\n",
    "  df_freqs_Con = count_freqs(df_newspaper_treated, 'Con')\n",
    "  df_freqs_Lab = count_freqs(df_newspaper_treated, 'Lab')\n",
    "  df_freqs = merge_freq(df_freqs_Con, df_freqs_Lab)\n",
    "  list_of_words = selected_words(df_freqs)\n",
    "  df_newspaper_treated = construct_df_reg(df_newspaper_treated, df_freqs, list_of_words)\n",
    "  df_newspaper_treated['Unnamed: 0'] = 0\n",
    "  return LO_treatment_table(df_newspaper_treated)"
   ]
  },
  {
   "cell_type": "code",
   "execution_count": null,
   "metadata": {},
   "outputs": [],
   "source": [
    "table_Con, table_Lab = treat_table(df_Guardian, df_DE)"
   ]
  },
  {
   "cell_type": "code",
   "execution_count": null,
   "metadata": {},
   "outputs": [],
   "source": [
    "table_Con.dropna().reset_index(drop=True)\n",
    "table_Lab.dropna().reset_index(drop=True)"
   ]
  }
 ],
 "metadata": {
  "kernelspec": {
   "display_name": "Python 3.9.12 ('base')",
   "language": "python",
   "name": "python3"
  },
  "language_info": {
   "name": "python",
   "version": "3.9.12"
  },
  "orig_nbformat": 4,
  "vscode": {
   "interpreter": {
    "hash": "0704e9e7027e30b245531b4e60cb4aaf65b18a7e325eaeb71f06804e85db260f"
   }
  }
 },
 "nbformat": 4,
 "nbformat_minor": 2
}
